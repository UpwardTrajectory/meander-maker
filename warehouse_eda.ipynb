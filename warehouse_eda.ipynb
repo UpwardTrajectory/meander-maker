{
 "cells": [
  {
   "cell_type": "markdown",
   "metadata": {},
   "source": [
    "# Meander Maker\n",
    "\n",
    "If you haven't ever used the `googlemaps` python package, there are a few small setup steps to take first. You'll need to install it by running the next cell. Additionally, we will use `gmplot` to render the outputs. Finally, generate an API key to interface with Google's services. (There is a free tier, but if you use it a lot, they will start charging you for access.)"
   ]
  },
  {
   "cell_type": "code",
   "execution_count": 35,
   "metadata": {},
   "outputs": [
    {
     "name": "stdout",
     "output_type": "stream",
     "text": [
      "Requirement already satisfied: googlemaps in /anaconda3/envs/learn-env/lib/python3.7/site-packages (3.0.2)\n",
      "Requirement already satisfied: requests<3.0,>=2.11.1 in /anaconda3/envs/learn-env/lib/python3.7/site-packages (from googlemaps) (2.21.0)\n",
      "Requirement already satisfied: certifi>=2017.4.17 in /anaconda3/envs/learn-env/lib/python3.7/site-packages (from requests<3.0,>=2.11.1->googlemaps) (2019.3.9)\n",
      "Requirement already satisfied: chardet<3.1.0,>=3.0.2 in /anaconda3/envs/learn-env/lib/python3.7/site-packages (from requests<3.0,>=2.11.1->googlemaps) (3.0.4)\n",
      "Requirement already satisfied: urllib3<1.25,>=1.21.1 in /anaconda3/envs/learn-env/lib/python3.7/site-packages (from requests<3.0,>=2.11.1->googlemaps) (1.24.1)\n",
      "Requirement already satisfied: idna<2.9,>=2.5 in /anaconda3/envs/learn-env/lib/python3.7/site-packages (from requests<3.0,>=2.11.1->googlemaps) (2.8)\n",
      "Collecting gmplot\n",
      "\u001b[?25l  Downloading https://files.pythonhosted.org/packages/e2/b1/e1429c31a40b3ef5840c16f78b506d03be9f27e517d3870a6fd0b356bd46/gmplot-1.2.0.tar.gz (115kB)\n",
      "\u001b[K    100% |████████████████████████████████| 122kB 8.3MB/s \n",
      "\u001b[?25hRequirement already satisfied: requests in /anaconda3/envs/learn-env/lib/python3.7/site-packages (from gmplot) (2.21.0)\n",
      "Requirement already satisfied: chardet<3.1.0,>=3.0.2 in /anaconda3/envs/learn-env/lib/python3.7/site-packages (from requests->gmplot) (3.0.4)\n",
      "Requirement already satisfied: urllib3<1.25,>=1.21.1 in /anaconda3/envs/learn-env/lib/python3.7/site-packages (from requests->gmplot) (1.24.1)\n",
      "Requirement already satisfied: certifi>=2017.4.17 in /anaconda3/envs/learn-env/lib/python3.7/site-packages (from requests->gmplot) (2019.3.9)\n",
      "Requirement already satisfied: idna<2.9,>=2.5 in /anaconda3/envs/learn-env/lib/python3.7/site-packages (from requests->gmplot) (2.8)\n",
      "Building wheels for collected packages: gmplot\n",
      "  Building wheel for gmplot (setup.py) ... \u001b[?25ldone\n",
      "\u001b[?25h  Stored in directory: /Users/dakaspar/Library/Caches/pip/wheels/81/6a/76/4dd6a7cc310ba765894159ee84871e8cd55221d82ef14b81a1\n",
      "Successfully built gmplot\n",
      "Installing collected packages: gmplot\n",
      "Successfully installed gmplot-1.2.0\n"
     ]
    }
   ],
   "source": [
    "!pip install googlemaps\n",
    "!pip install gmplot"
   ]
  },
  {
   "cell_type": "code",
   "execution_count": 36,
   "metadata": {},
   "outputs": [],
   "source": [
    "import pandas as pd\n",
    "import googlemaps\n",
    "from datetime import datetime\n",
    "from gmplot import gmplot\n",
    "\n",
    "df = pd.read_csv('warehouse_district.csv', index_col='place')"
   ]
  },
  {
   "cell_type": "markdown",
   "metadata": {},
   "source": [
    "If you would like to tinker around with the code, you'll need your own API key for Google Maps. You can register one from this address: [https://developers.google.com/places/web-service/get-api-key](https://developers.google.com/places/web-service/get-api-key). Once you have one, create a file in the directory containing this notebook called `.secret.key` and simply paste in your newly generated API key, no quotes or line breaks or anything. Save, exit, and you should be good to go."
   ]
  },
  {
   "cell_type": "code",
   "execution_count": 3,
   "metadata": {},
   "outputs": [],
   "source": [
    "with open('.secret.key') as f:\n",
    "    api_key = f.read().strip()\n",
    "\n",
    "gmaps = googlemaps.Client(key=api_key)"
   ]
  },
  {
   "cell_type": "markdown",
   "metadata": {},
   "source": [
    "Let's decide which topic to explore:"
   ]
  },
  {
   "cell_type": "code",
   "execution_count": 28,
   "metadata": {},
   "outputs": [
    {
     "name": "stdin",
     "output_type": "stream",
     "text": [
      "What theme walk would you like to explore today? bookstore\n"
     ]
    }
   ],
   "source": [
    "keyword = input('What theme walk would you like to explore today?')"
   ]
  },
  {
   "cell_type": "code",
   "execution_count": 29,
   "metadata": {},
   "outputs": [],
   "source": [
    "temp = gmaps.places_nearby((47.6225507, -122.5167143), radius=3000, keyword=keyword)"
   ]
  },
  {
   "cell_type": "code",
   "execution_count": 30,
   "metadata": {},
   "outputs": [
    {
     "data": {
      "text/plain": [
       "['Eagle Harbor Book Co', 'Backstreet Beat', 'Christian Science Reading Room']"
      ]
     },
     "execution_count": 30,
     "metadata": {},
     "output_type": "execute_result"
    }
   ],
   "source": [
    "[x['name'] for x in temp['results']]"
   ]
  },
  {
   "cell_type": "code",
   "execution_count": null,
   "metadata": {},
   "outputs": [],
   "source": [
    "def nearify(start=None, keyword=keyword):\n",
    "    \"\"\"\n",
    "    Used to avoid multiple locations with the same name. This will auto-search \n",
    "    for the closest matches to the starting location, even when other (potentially more \n",
    "    famous) locations exist further away.\n",
    "    \"\"\"\n",
    "    if start is None:\n",
    "        start = dest_list[0]\n",
    "    \n",
    "    gmaps.places_nearby()\n",
    "    "
   ]
  },
  {
   "cell_type": "code",
   "execution_count": 8,
   "metadata": {},
   "outputs": [],
   "source": [
    "dest_list = ['Genoa Cellars', 'Gorman -Old Scratch Winery', 'Long Cellars', 'LOVE THAT RED', 'Ancestry Cellars']\n",
    "\n",
    "def round_trip(circle=True, dest_list=dest_list):\n",
    "    \"\"\"Append the Start location to the end of the list, resulting in a loop.\"\"\"\n",
    "    return dest_list.extend(dest_list[0])\n",
    "\n",
    "def walk(dest_list, verbose=False):\n",
    "    \"\"\"Given a list of places to visit, return the walking dist & time.\"\"\"\n",
    "\n",
    "    if len(dest_list) > 10:\n",
    "        return \"There is a maximum of 10 stops per adventure.\"\n",
    "    \n",
    "    #assert len(dest_list) < 11, \"There is a maximum of 10 stops per adventure.\"\n",
    "    \n",
    "    start, stop = dest_list[0], dest_list[-1]\n",
    "    \n",
    "    waypoints = None\n",
    "    if len(dest_list) > 2:\n",
    "        waypoints = dest_list[1:-1]\n",
    "    \n",
    "    directions_result = gmaps.directions(\n",
    "        start, stop, mode=\"walking\", waypoints=waypoints, optimize_waypoints=True\n",
    "    )\n",
    "    \n",
    "    if verbose:\n",
    "        dist = 0\n",
    "        time = 0\n",
    "        for leg in directions_result[0]['legs']:\n",
    "            td = leg['distance']['value']\n",
    "            tt = leg['duration']['value']\n",
    "            print(f'+{td} m --and-- +{round(tt/60, 2)} min')\n",
    "            dist += td\n",
    "            time += tt\n",
    "        print(f'total dist: {dist} m \\nest time: {round(time / 60, 1)} min')\n",
    "    return directions_result"
   ]
  },
  {
   "cell_type": "code",
   "execution_count": 31,
   "metadata": {},
   "outputs": [],
   "source": [
    "# path = walk(dest_list)\n",
    "# path"
   ]
  },
  {
   "cell_type": "code",
   "execution_count": 33,
   "metadata": {},
   "outputs": [
    {
     "data": {
      "text/plain": [
       "{'northeast': {'lat': 47.8851198, 'lng': -119.9709734},\n",
       " 'southwest': {'lat': 47.17528739999999, 'lng': -122.1541535}}"
      ]
     },
     "execution_count": 33,
     "metadata": {},
     "output_type": "execute_result"
    }
   ],
   "source": [
    "path[0]['bounds']"
   ]
  },
  {
   "cell_type": "code",
   "execution_count": 65,
   "metadata": {},
   "outputs": [
    {
     "data": {
      "text/plain": [
       "{'candidates': [{'place_id': 'ChIJ1c9qHpgOkFQRPaH6VxO7Lhs'}], 'status': 'OK'}"
      ]
     },
     "execution_count": 65,
     "metadata": {},
     "output_type": "execute_result"
    }
   ],
   "source": [
    "gmaps.find_place('LOVE THAT RED', input_type='textquery', location_bias='point:47.769302, -122.148902')"
   ]
  },
  {
   "cell_type": "code",
   "execution_count": 66,
   "metadata": {},
   "outputs": [
    {
     "data": {
      "text/plain": [
       "{'html_attributions': [],\n",
       " 'result': {'address_components': [{'long_name': 'D100',\n",
       "    'short_name': 'D100',\n",
       "    'types': ['subpremise']},\n",
       "   {'long_name': '19501', 'short_name': '19501', 'types': ['street_number']},\n",
       "   {'long_name': '144th Avenue Northeast',\n",
       "    'short_name': '144th Ave NE',\n",
       "    'types': ['route']},\n",
       "   {'long_name': 'North Industrial',\n",
       "    'short_name': 'North Industrial',\n",
       "    'types': ['neighborhood', 'political']},\n",
       "   {'long_name': 'Woodinville',\n",
       "    'short_name': 'Woodinville',\n",
       "    'types': ['locality', 'political']},\n",
       "   {'long_name': 'King County',\n",
       "    'short_name': 'King County',\n",
       "    'types': ['administrative_area_level_2', 'political']},\n",
       "   {'long_name': 'Washington',\n",
       "    'short_name': 'WA',\n",
       "    'types': ['administrative_area_level_1', 'political']},\n",
       "   {'long_name': 'United States',\n",
       "    'short_name': 'US',\n",
       "    'types': ['country', 'political']},\n",
       "   {'long_name': '98072', 'short_name': '98072', 'types': ['postal_code']}],\n",
       "  'adr_address': 'Back Entrance, <span class=\"street-address\">19501 144th Ave NE D100</span>, <span class=\"locality\">Woodinville</span>, <span class=\"region\">WA</span> <span class=\"postal-code\">98072</span>, <span class=\"country-name\">USA</span>',\n",
       "  'formatted_address': 'Back Entrance, 19501 144th Ave NE D100, Woodinville, WA 98072, USA',\n",
       "  'formatted_phone_number': '(425) 463-9014',\n",
       "  'geometry': {'location': {'lat': 47.76953, 'lng': -122.1508},\n",
       "   'viewport': {'northeast': {'lat': 47.7709755802915,\n",
       "     'lng': -122.1494508197085},\n",
       "    'southwest': {'lat': 47.7682776197085, 'lng': -122.1521487802915}}},\n",
       "  'icon': 'https://maps.gstatic.com/mapfiles/place_api/icons/generic_business-71.png',\n",
       "  'id': '4635eedec9532861455f3f6564fea80e3b4f6635',\n",
       "  'international_phone_number': '+1 425-463-9014',\n",
       "  'name': 'LOVE THAT RED WINERY Warehouse District',\n",
       "  'opening_hours': {'open_now': False,\n",
       "   'periods': [{'close': {'day': 0, 'time': '1700'},\n",
       "     'open': {'day': 0, 'time': '1300'}},\n",
       "    {'close': {'day': 6, 'time': '1800'}, 'open': {'day': 6, 'time': '1300'}}],\n",
       "   'weekday_text': ['Monday: Closed',\n",
       "    'Tuesday: Closed',\n",
       "    'Wednesday: Closed',\n",
       "    'Thursday: Closed',\n",
       "    'Friday: Closed',\n",
       "    'Saturday: 1:00 – 6:00 PM',\n",
       "    'Sunday: 1:00 – 5:00 PM']},\n",
       "  'photos': [{'height': 2400,\n",
       "    'html_attributions': ['<a href=\"https://maps.google.com/maps/contrib/105486924258416537245/photos\">LOVE THAT RED WINERY Warehouse District</a>'],\n",
       "    'photo_reference': 'CmRaAAAA1MChJIHRbrbq3xlxYltQ5uPIymlt_nzWlGRDDp_zuiKBwmEe2QCNGWV3GbjWQGL7zt9BxYdzGYPH0ssdx5e6unFSS-uG3BDajlSrEbTKHsuZV-oPto0EqVfPKiJ7mfZFEhAmL9yfD79xz7OB1Pam4gPPGhSwV8sRFxwpPE8ObPkTrP5--7kmXQ',\n",
       "    'width': 3000},\n",
       "   {'height': 2400,\n",
       "    'html_attributions': ['<a href=\"https://maps.google.com/maps/contrib/105486924258416537245/photos\">LOVE THAT RED WINERY Warehouse District</a>'],\n",
       "    'photo_reference': 'CmRaAAAAXB4rhxBLyc1dEdQs7eh3xVRUG91Ece7Ce0QN2HYoRVdHCaSuZrLOnyS1TrbbBPI-B5IIEcwQUOHBtts7j9wdIrDc8423JfazH6WrLYdrROwr9rWoqoW2WlOFZ-RxB11dEhCz9jo9grqWNmi11ddZYxOqGhRaYBZ6_7knQox7omggGs_9tGCADw',\n",
       "    'width': 3000},\n",
       "   {'height': 1000,\n",
       "    'html_attributions': ['<a href=\"https://maps.google.com/maps/contrib/105486924258416537245/photos\">LOVE THAT RED WINERY Warehouse District</a>'],\n",
       "    'photo_reference': 'CmRaAAAAsb0UY1W598wzOopkVmr4R7YkcpC8QSsa_HN5tkWglpxYEtYNaNGoGAh0x-2rYdiMeWCiLf6OcEC0KJsw4YnFQ9HpaX0b9dkpTINHq8Tf6oGIv9s_Hx8kBK8WOx_Uw23aEhCikmj2AdzWE0hiVOPPu3e7GhTSQpbGGLXeb0uLXEMwlQscxUcV3g',\n",
       "    'width': 1000},\n",
       "   {'height': 1512,\n",
       "    'html_attributions': ['<a href=\"https://maps.google.com/maps/contrib/105486924258416537245/photos\">LOVE THAT RED WINERY Warehouse District</a>'],\n",
       "    'photo_reference': 'CmRaAAAAyN8ZDONqutJSWM5ZL-iWaJOjk62nrnqMB1_VXoOgeYYO03VMKF9Hf0WhPcHnhq3zESplPr7Eb9ofm_AVUPbdSEmHa9MlI6XC1mSHb6U8mrI4p9AYr_k-BJH-RObQBK23EhB3SstQlkYqbQSeEZ11nYj2GhSuaHl0rmEiF6oaizVGLsCVPPROHQ',\n",
       "    'width': 1512}],\n",
       "  'place_id': 'ChIJ1c9qHpgOkFQRPaH6VxO7Lhs',\n",
       "  'plus_code': {'compound_code': 'QR9X+RM Woodinville, Washington, United States',\n",
       "   'global_code': '84VVQR9X+RM'},\n",
       "  'rating': 4.9,\n",
       "  'reference': 'ChIJ1c9qHpgOkFQRPaH6VxO7Lhs',\n",
       "  'reviews': [{'author_name': 'Nicolette De Reuck',\n",
       "    'author_url': 'https://www.google.com/maps/contrib/101662497379212472535/reviews',\n",
       "    'language': 'en',\n",
       "    'profile_photo_url': 'https://lh6.googleusercontent.com/-2zBeQdIof90/AAAAAAAAAAI/AAAAAAAAAAA/ACHi3rfTBG0OF0W3LQ7SziGrGTQCjrz45w/s128-c0x00000000-cc-rp-mo-ba3/photo.jpg',\n",
       "    'rating': 5,\n",
       "    'relative_time_description': '6 months ago',\n",
       "    'text': 'Always friendly, great service and fantastic wine.',\n",
       "    'time': 1545490964},\n",
       "   {'author_name': 'Samantha Matthew',\n",
       "    'author_url': 'https://www.google.com/maps/contrib/104164244952413899417/reviews',\n",
       "    'language': 'en',\n",
       "    'profile_photo_url': 'https://lh5.googleusercontent.com/-t2Vb0VI7ba4/AAAAAAAAAAI/AAAAAAAAAAA/ACHi3re5ew4DuJtEWW2dkAqgA8zhZdvt4Q/s128-c0x00000000-cc-rp-mo-ba3/photo.jpg',\n",
       "    'rating': 5,\n",
       "    'relative_time_description': '10 months ago',\n",
       "    'text': 'Amazing people and great wine.',\n",
       "    'time': 1534559388},\n",
       "   {'author_name': 'Keith Conaway',\n",
       "    'author_url': 'https://www.google.com/maps/contrib/108628527080835744364/reviews',\n",
       "    'language': 'en',\n",
       "    'profile_photo_url': 'https://lh4.googleusercontent.com/-LBJu64fwPJ0/AAAAAAAAAAI/AAAAAAAAAAA/ACHi3rcui3QaMfzlw6Gjnajb9e1X_KXP8Q/s128-c0x00000000-cc-rp-mo/photo.jpg',\n",
       "    'rating': 4,\n",
       "    'relative_time_description': 'a year ago',\n",
       "    'text': 'Wonderful wines',\n",
       "    'time': 1522017328},\n",
       "   {'author_name': 'Glen Alcorn',\n",
       "    'author_url': 'https://www.google.com/maps/contrib/102841261657244970563/reviews',\n",
       "    'profile_photo_url': 'https://lh6.googleusercontent.com/-U7FiQzuDqYw/AAAAAAAAAAI/AAAAAAAAAAA/ACHi3rcIEUj8Q7TO6HllPDzoP31zCwWk3g/s128-c0x00000000-cc-rp-mo/photo.jpg',\n",
       "    'rating': 5,\n",
       "    'relative_time_description': '5 months ago',\n",
       "    'text': '',\n",
       "    'time': 1547353755},\n",
       "   {'author_name': 'Craig Crisafulli',\n",
       "    'author_url': 'https://www.google.com/maps/contrib/111949861954180577787/reviews',\n",
       "    'profile_photo_url': 'https://lh3.googleusercontent.com/-gGoZKR5aalk/AAAAAAAAAAI/AAAAAAAABCQ/fnl8GIGGuAA/s128-c0x00000000-cc-rp-mo/photo.jpg',\n",
       "    'rating': 5,\n",
       "    'relative_time_description': '6 months ago',\n",
       "    'text': '',\n",
       "    'time': 1544464222}],\n",
       "  'scope': 'GOOGLE',\n",
       "  'types': ['food', 'point_of_interest', 'establishment'],\n",
       "  'url': 'https://maps.google.com/?cid=1958708579707560253',\n",
       "  'user_ratings_total': 7,\n",
       "  'utc_offset': -420,\n",
       "  'vicinity': 'Back Entrance, 19501 144th Avenue Northeast D100, Woodinville',\n",
       "  'website': 'http://lovethatredwinery.com/'},\n",
       " 'status': 'OK'}"
      ]
     },
     "execution_count": 66,
     "metadata": {},
     "output_type": "execute_result"
    }
   ],
   "source": [
    "gmaps.place('ChIJ1c9qHpgOkFQRPaH6VxO7Lhs')"
   ]
  },
  {
   "cell_type": "code",
   "execution_count": 79,
   "metadata": {},
   "outputs": [
    {
     "data": {
      "text/plain": [
       "[{'bounds': {'northeast': {'lat': 47.7697239, 'lng': -122.1504484},\n",
       "   'southwest': {'lat': 47.7690488, 'lng': -122.1514725}},\n",
       "  'copyrights': 'Map data ©2019',\n",
       "  'legs': [{'distance': {'text': '0.1 mi', 'value': 201},\n",
       "    'duration': {'text': '2 mins', 'value': 147},\n",
       "    'end_address': '19501 144th Ave NE C1100, Woodinville, WA 98072, USA',\n",
       "    'end_location': {'lat': 47.7690489, 'lng': -122.1504484},\n",
       "    'start_address': 'Back Entrance, 19501 144th Ave NE D100, Woodinville, WA 98072, United States',\n",
       "    'start_location': {'lat': 47.7697232, 'lng': -122.1507996},\n",
       "    'steps': [{'distance': {'text': '164 ft', 'value': 50},\n",
       "      'duration': {'text': '1 min', 'value': 34},\n",
       "      'end_location': {'lat': 47.7697239, 'lng': -122.1514725},\n",
       "      'html_instructions': 'Head <b>west</b>',\n",
       "      'polyline': {'points': 'w_qbHnqphV?dC'},\n",
       "      'start_location': {'lat': 47.7697232, 'lng': -122.1507996},\n",
       "      'travel_mode': 'WALKING'},\n",
       "     {'distance': {'text': '246 ft', 'value': 75},\n",
       "      'duration': {'text': '1 min', 'value': 53},\n",
       "      'end_location': {'lat': 47.7690488, 'lng': -122.1514703},\n",
       "      'html_instructions': 'Turn <b>left</b>',\n",
       "      'maneuver': 'turn-left',\n",
       "      'polyline': {'points': 'w_qbHtuphVdC?'},\n",
       "      'start_location': {'lat': 47.7697239, 'lng': -122.1514725},\n",
       "      'travel_mode': 'WALKING'},\n",
       "     {'distance': {'text': '249 ft', 'value': 76},\n",
       "      'duration': {'text': '1 min', 'value': 60},\n",
       "      'end_location': {'lat': 47.7690489, 'lng': -122.1504484},\n",
       "      'html_instructions': 'Turn <b>left</b><div style=\"font-size:0.9em\">Destination will be on the left</div>',\n",
       "      'maneuver': 'turn-left',\n",
       "      'polyline': {'points': 'q{pbHtuphV?mA?kB?Q'},\n",
       "      'start_location': {'lat': 47.7690488, 'lng': -122.1514703},\n",
       "      'travel_mode': 'WALKING'}],\n",
       "    'traffic_speed_entry': [],\n",
       "    'via_waypoint': []}],\n",
       "  'overview_polyline': {'points': 'w_qbHnqphV?dCdC??yD?Q'},\n",
       "  'summary': '',\n",
       "  'warnings': ['Walking directions are in beta. Use caution – This route may be missing sidewalks or pedestrian paths.'],\n",
       "  'waypoint_order': []}]"
      ]
     },
     "execution_count": 79,
     "metadata": {},
     "output_type": "execute_result"
    }
   ],
   "source": [
    "gmaps.directions('LOVE THAT RED', 'Genoa Cellars', mode='walking', waypoints=[])"
   ]
  },
  {
   "cell_type": "code",
   "execution_count": 61,
   "metadata": {},
   "outputs": [],
   "source": [
    "gmap = gmplot.GoogleMapPlotter(47.7690488, -122.1514703, zoom=15, apikey=api_key)"
   ]
  },
  {
   "cell_type": "code",
   "execution_count": 59,
   "metadata": {},
   "outputs": [],
   "source": [
    "gmap.plot([47.7690488], [-122.1514703], 'cornflowerblue', edge_width=10)\n",
    "gmap.scatter([47.7690488], [-122.1514703], '#3B0B39', size=40, marker=False)\n",
    "gmap.scatter([47.7690488], [-122.1514703], 'k', marker=True)\n",
    "#gmap.heatmap(heat_lats, heat_lngs)"
   ]
  },
  {
   "cell_type": "code",
   "execution_count": 60,
   "metadata": {},
   "outputs": [],
   "source": [
    "gmap.draw(\"mymap.html\")"
   ]
  },
  {
   "cell_type": "code",
   "execution_count": 66,
   "metadata": {},
   "outputs": [],
   "source": [
    "path = gmap."
   ]
  },
  {
   "cell_type": "code",
   "execution_count": 67,
   "metadata": {},
   "outputs": [
    {
     "data": {
      "text/plain": [
       "[]"
      ]
     },
     "execution_count": 67,
     "metadata": {},
     "output_type": "execute_result"
    }
   ],
   "source": [
    "path"
   ]
  },
  {
   "cell_type": "code",
   "execution_count": null,
   "metadata": {},
   "outputs": [],
   "source": []
  }
 ],
 "metadata": {
  "kernelspec": {
   "display_name": "learn-env",
   "language": "python",
   "name": "learn-env"
  },
  "language_info": {
   "codemirror_mode": {
    "name": "ipython",
    "version": 3
   },
   "file_extension": ".py",
   "mimetype": "text/x-python",
   "name": "python",
   "nbconvert_exporter": "python",
   "pygments_lexer": "ipython3",
   "version": "3.7.3"
  }
 },
 "nbformat": 4,
 "nbformat_minor": 2
}
