{
 "cells": [
  {
   "cell_type": "markdown",
   "metadata": {},
   "source": [
    "# Meander Maker\n",
    "\n",
    "If you haven't ever used the `googlemaps` python package, there are a few small setup steps to take first. You'll need to install it by running the next cell. Additionally, we will use `gmplot` to render the outputs. Finally, generate an API key to interface with Google's services. (There is a free tier, but if you use it a lot, they will start charging you for access.)"
   ]
  },
  {
   "cell_type": "code",
   "execution_count": 35,
   "metadata": {},
   "outputs": [
    {
     "name": "stdout",
     "output_type": "stream",
     "text": [
      "Requirement already satisfied: googlemaps in /anaconda3/envs/learn-env/lib/python3.7/site-packages (3.0.2)\n",
      "Requirement already satisfied: requests<3.0,>=2.11.1 in /anaconda3/envs/learn-env/lib/python3.7/site-packages (from googlemaps) (2.21.0)\n",
      "Requirement already satisfied: certifi>=2017.4.17 in /anaconda3/envs/learn-env/lib/python3.7/site-packages (from requests<3.0,>=2.11.1->googlemaps) (2019.3.9)\n",
      "Requirement already satisfied: chardet<3.1.0,>=3.0.2 in /anaconda3/envs/learn-env/lib/python3.7/site-packages (from requests<3.0,>=2.11.1->googlemaps) (3.0.4)\n",
      "Requirement already satisfied: urllib3<1.25,>=1.21.1 in /anaconda3/envs/learn-env/lib/python3.7/site-packages (from requests<3.0,>=2.11.1->googlemaps) (1.24.1)\n",
      "Requirement already satisfied: idna<2.9,>=2.5 in /anaconda3/envs/learn-env/lib/python3.7/site-packages (from requests<3.0,>=2.11.1->googlemaps) (2.8)\n",
      "Collecting gmplot\n",
      "\u001b[?25l  Downloading https://files.pythonhosted.org/packages/e2/b1/e1429c31a40b3ef5840c16f78b506d03be9f27e517d3870a6fd0b356bd46/gmplot-1.2.0.tar.gz (115kB)\n",
      "\u001b[K    100% |████████████████████████████████| 122kB 8.3MB/s \n",
      "\u001b[?25hRequirement already satisfied: requests in /anaconda3/envs/learn-env/lib/python3.7/site-packages (from gmplot) (2.21.0)\n",
      "Requirement already satisfied: chardet<3.1.0,>=3.0.2 in /anaconda3/envs/learn-env/lib/python3.7/site-packages (from requests->gmplot) (3.0.4)\n",
      "Requirement already satisfied: urllib3<1.25,>=1.21.1 in /anaconda3/envs/learn-env/lib/python3.7/site-packages (from requests->gmplot) (1.24.1)\n",
      "Requirement already satisfied: certifi>=2017.4.17 in /anaconda3/envs/learn-env/lib/python3.7/site-packages (from requests->gmplot) (2019.3.9)\n",
      "Requirement already satisfied: idna<2.9,>=2.5 in /anaconda3/envs/learn-env/lib/python3.7/site-packages (from requests->gmplot) (2.8)\n",
      "Building wheels for collected packages: gmplot\n",
      "  Building wheel for gmplot (setup.py) ... \u001b[?25ldone\n",
      "\u001b[?25h  Stored in directory: /Users/dakaspar/Library/Caches/pip/wheels/81/6a/76/4dd6a7cc310ba765894159ee84871e8cd55221d82ef14b81a1\n",
      "Successfully built gmplot\n",
      "Installing collected packages: gmplot\n",
      "Successfully installed gmplot-1.2.0\n"
     ]
    }
   ],
   "source": [
    "!pip install googlemaps\n",
    "!pip install gmplot"
   ]
  },
  {
   "cell_type": "markdown",
   "metadata": {},
   "source": [
    "If you would like to tinker around with the code, you'll need your own API key for Google Maps. You can register one from this address: [https://developers.google.com/places/web-service/get-api-key](https://developers.google.com/places/web-service/get-api-key). Once you have one, create a file in the directory containing this notebook called `.secret.key` and simply paste in your newly generated API key, no quotes or line breaks or anything. Save, exit, and you should be good to go."
   ]
  },
  {
   "cell_type": "code",
   "execution_count": 72,
   "metadata": {},
   "outputs": [],
   "source": [
    "import pandas as pd\n",
    "from datetime import datetime\n",
    "import googlemaps\n",
    "from gmplot import gmplot\n",
    "import goplaces as gp\n",
    "\n",
    "%load_ext autoreload\n",
    "%autoreload 2\n",
    "\n",
    "with open('.secret.key') as f:\n",
    "    api_key = f.read().strip()\n",
    "\n",
    "gmaps = googlemaps.Client(key=api_key)"
   ]
  },
  {
   "cell_type": "markdown",
   "metadata": {},
   "source": [
    "Let's decide which topic to explore:"
   ]
  },
  {
   "cell_type": "code",
   "execution_count": 86,
   "metadata": {},
   "outputs": [
    {
     "name": "stdin",
     "output_type": "stream",
     "text": [
      "What theme walk would you like to explore today? books\n"
     ]
    }
   ],
   "source": [
    "topic = gp.get_topic()"
   ]
  },
  {
   "cell_type": "code",
   "execution_count": 87,
   "metadata": {},
   "outputs": [
    {
     "name": "stdin",
     "output_type": "stream",
     "text": [
      "Where would you like to start? 4th and union, Seattle\n"
     ]
    }
   ],
   "source": [
    "loc = gp.get_loc(current=False)"
   ]
  },
  {
   "cell_type": "code",
   "execution_count": 88,
   "metadata": {},
   "outputs": [],
   "source": [
    "def build_list(loc, topic):\n",
    "    return gmaps.places_nearby(loc, radius=3000, keyword=topic)\n",
    "temp = build_list(loc, topic)"
   ]
  },
  {
   "cell_type": "code",
   "execution_count": 77,
   "metadata": {},
   "outputs": [],
   "source": [
    "temp = gmaps.places_nearby(loc, radius=3000, keyword=topic)"
   ]
  },
  {
   "cell_type": "code",
   "execution_count": 89,
   "metadata": {},
   "outputs": [
    {
     "data": {
      "text/plain": [
       "['Kinokuniya Seattle',\n",
       " 'Barnes & Noble',\n",
       " 'The Elliott Bay Book Company',\n",
       " 'Queen Anne Book Company',\n",
       " 'Horizon Books',\n",
       " 'Left Bank Books',\n",
       " 'Peter Miller Architecture And Design Books',\n",
       " 'Cultivate Books',\n",
       " 'Follet Corporation',\n",
       " 'Paper Hammer',\n",
       " 'Husky Central Store',\n",
       " 'Mercer Street Books',\n",
       " 'Lamplight Books',\n",
       " 'Arundel Books',\n",
       " 'Pistil Books Online',\n",
       " 'Nam Phuong Book Store',\n",
       " \"Ada's Technical Books and Cafe\",\n",
       " 'Lion Heart Book Store',\n",
       " 'San Nicolas Book Art',\n",
       " 'Quest Bookshop']"
      ]
     },
     "execution_count": 89,
     "metadata": {},
     "output_type": "execute_result"
    }
   ],
   "source": [
    "[x['name'] for x in temp['results']]"
   ]
  },
  {
   "cell_type": "code",
   "execution_count": null,
   "metadata": {},
   "outputs": [],
   "source": [
    "def nearify(start=None, keyword=keyword):\n",
    "    \"\"\"\n",
    "    Used to avoid multiple locations with the same name. This will auto-search \n",
    "    for the closest matches to the starting location, even when other (potentially more \n",
    "    famous) locations exist further away.\n",
    "    \"\"\"\n",
    "    if start is None:\n",
    "        start = dest_list[0]\n",
    "    \n",
    "    gmaps.places_nearby()\n",
    "    "
   ]
  },
  {
   "cell_type": "code",
   "execution_count": 8,
   "metadata": {},
   "outputs": [],
   "source": [
    "dest_list = ['Genoa Cellars', 'Gorman -Old Scratch Winery', 'Long Cellars', 'LOVE THAT RED', 'Ancestry Cellars']\n",
    "\n",
    "def round_trip(circle=True, dest_list=dest_list):\n",
    "    \"\"\"Append the Start location to the end of the list, resulting in a loop.\"\"\"\n",
    "    return dest_list.extend(dest_list[0])\n",
    "\n",
    "def walk(dest_list, verbose=False):\n",
    "    \"\"\"Given a list of places to visit, return the walking dist & time.\"\"\"\n",
    "\n",
    "    if len(dest_list) > 10:\n",
    "        return \"There is a maximum of 10 stops per adventure.\"\n",
    "    \n",
    "    #assert len(dest_list) < 11, \"There is a maximum of 10 stops per adventure.\"\n",
    "    \n",
    "    start, stop = dest_list[0], dest_list[-1]\n",
    "    \n",
    "    waypoints = None\n",
    "    if len(dest_list) > 2:\n",
    "        waypoints = dest_list[1:-1]\n",
    "    \n",
    "    directions_result = gmaps.directions(\n",
    "        start, stop, mode=\"walking\", waypoints=waypoints, optimize_waypoints=True\n",
    "    )\n",
    "    \n",
    "    if verbose:\n",
    "        dist = 0\n",
    "        time = 0\n",
    "        for leg in directions_result[0]['legs']:\n",
    "            td = leg['distance']['value']\n",
    "            tt = leg['duration']['value']\n",
    "            print(f'+{td} m --and-- +{round(tt/60, 2)} min')\n",
    "            dist += td\n",
    "            time += tt\n",
    "        print(f'total dist: {dist} m \\nest time: {round(time / 60, 1)} min')\n",
    "    return directions_result"
   ]
  },
  {
   "cell_type": "code",
   "execution_count": 31,
   "metadata": {},
   "outputs": [],
   "source": [
    "# path = walk(dest_list)\n",
    "# path"
   ]
  },
  {
   "cell_type": "code",
   "execution_count": 33,
   "metadata": {},
   "outputs": [
    {
     "data": {
      "text/plain": [
       "{'northeast': {'lat': 47.8851198, 'lng': -119.9709734},\n",
       " 'southwest': {'lat': 47.17528739999999, 'lng': -122.1541535}}"
      ]
     },
     "execution_count": 33,
     "metadata": {},
     "output_type": "execute_result"
    }
   ],
   "source": [
    "path[0]['bounds']"
   ]
  },
  {
   "cell_type": "code",
   "execution_count": 65,
   "metadata": {},
   "outputs": [
    {
     "data": {
      "text/plain": [
       "{'candidates': [{'place_id': 'ChIJ1c9qHpgOkFQRPaH6VxO7Lhs'}], 'status': 'OK'}"
      ]
     },
     "execution_count": 65,
     "metadata": {},
     "output_type": "execute_result"
    }
   ],
   "source": [
    "gmaps.find_place('LOVE THAT RED', input_type='textquery', location_bias='point:47.769302, -122.148902')"
   ]
  },
  {
   "cell_type": "code",
   "execution_count": 66,
   "metadata": {},
   "outputs": [
    {
     "data": {
      "text/plain": [
       "{'html_attributions': [],\n",
       " 'result': {'address_components': [{'long_name': 'D100',\n",
       "    'short_name': 'D100',\n",
       "    'types': ['subpremise']},\n",
       "   {'long_name': '19501', 'short_name': '19501', 'types': ['street_number']},\n",
       "   {'long_name': '144th Avenue Northeast',\n",
       "    'short_name': '144th Ave NE',\n",
       "    'types': ['route']},\n",
       "   {'long_name': 'North Industrial',\n",
       "    'short_name': 'North Industrial',\n",
       "    'types': ['neighborhood', 'political']},\n",
       "   {'long_name': 'Woodinville',\n",
       "    'short_name': 'Woodinville',\n",
       "    'types': ['locality', 'political']},\n",
       "   {'long_name': 'King County',\n",
       "    'short_name': 'King County',\n",
       "    'types': ['administrative_area_level_2', 'political']},\n",
       "   {'long_name': 'Washington',\n",
       "    'short_name': 'WA',\n",
       "    'types': ['administrative_area_level_1', 'political']},\n",
       "   {'long_name': 'United States',\n",
       "    'short_name': 'US',\n",
       "    'types': ['country', 'political']},\n",
       "   {'long_name': '98072', 'short_name': '98072', 'types': ['postal_code']}],\n",
       "  'adr_address': 'Back Entrance, <span class=\"street-address\">19501 144th Ave NE D100</span>, <span class=\"locality\">Woodinville</span>, <span class=\"region\">WA</span> <span class=\"postal-code\">98072</span>, <span class=\"country-name\">USA</span>',\n",
       "  'formatted_address': 'Back Entrance, 19501 144th Ave NE D100, Woodinville, WA 98072, USA',\n",
       "  'formatted_phone_number': '(425) 463-9014',\n",
       "  'geometry': {'location': {'lat': 47.76953, 'lng': -122.1508},\n",
       "   'viewport': {'northeast': {'lat': 47.7709755802915,\n",
       "     'lng': -122.1494508197085},\n",
       "    'southwest': {'lat': 47.7682776197085, 'lng': -122.1521487802915}}},\n",
       "  'icon': 'https://maps.gstatic.com/mapfiles/place_api/icons/generic_business-71.png',\n",
       "  'id': '4635eedec9532861455f3f6564fea80e3b4f6635',\n",
       "  'international_phone_number': '+1 425-463-9014',\n",
       "  'name': 'LOVE THAT RED WINERY Warehouse District',\n",
       "  'opening_hours': {'open_now': False,\n",
       "   'periods': [{'close': {'day': 0, 'time': '1700'},\n",
       "     'open': {'day': 0, 'time': '1300'}},\n",
       "    {'close': {'day': 6, 'time': '1800'}, 'open': {'day': 6, 'time': '1300'}}],\n",
       "   'weekday_text': ['Monday: Closed',\n",
       "    'Tuesday: Closed',\n",
       "    'Wednesday: Closed',\n",
       "    'Thursday: Closed',\n",
       "    'Friday: Closed',\n",
       "    'Saturday: 1:00 – 6:00 PM',\n",
       "    'Sunday: 1:00 – 5:00 PM']},\n",
       "  'photos': [{'height': 2400,\n",
       "    'html_attributions': ['<a href=\"https://maps.google.com/maps/contrib/105486924258416537245/photos\">LOVE THAT RED WINERY Warehouse District</a>'],\n",
       "    'photo_reference': 'CmRaAAAA1MChJIHRbrbq3xlxYltQ5uPIymlt_nzWlGRDDp_zuiKBwmEe2QCNGWV3GbjWQGL7zt9BxYdzGYPH0ssdx5e6unFSS-uG3BDajlSrEbTKHsuZV-oPto0EqVfPKiJ7mfZFEhAmL9yfD79xz7OB1Pam4gPPGhSwV8sRFxwpPE8ObPkTrP5--7kmXQ',\n",
       "    'width': 3000},\n",
       "   {'height': 2400,\n",
       "    'html_attributions': ['<a href=\"https://maps.google.com/maps/contrib/105486924258416537245/photos\">LOVE THAT RED WINERY Warehouse District</a>'],\n",
       "    'photo_reference': 'CmRaAAAAXB4rhxBLyc1dEdQs7eh3xVRUG91Ece7Ce0QN2HYoRVdHCaSuZrLOnyS1TrbbBPI-B5IIEcwQUOHBtts7j9wdIrDc8423JfazH6WrLYdrROwr9rWoqoW2WlOFZ-RxB11dEhCz9jo9grqWNmi11ddZYxOqGhRaYBZ6_7knQox7omggGs_9tGCADw',\n",
       "    'width': 3000},\n",
       "   {'height': 1000,\n",
       "    'html_attributions': ['<a href=\"https://maps.google.com/maps/contrib/105486924258416537245/photos\">LOVE THAT RED WINERY Warehouse District</a>'],\n",
       "    'photo_reference': 'CmRaAAAAsb0UY1W598wzOopkVmr4R7YkcpC8QSsa_HN5tkWglpxYEtYNaNGoGAh0x-2rYdiMeWCiLf6OcEC0KJsw4YnFQ9HpaX0b9dkpTINHq8Tf6oGIv9s_Hx8kBK8WOx_Uw23aEhCikmj2AdzWE0hiVOPPu3e7GhTSQpbGGLXeb0uLXEMwlQscxUcV3g',\n",
       "    'width': 1000},\n",
       "   {'height': 1512,\n",
       "    'html_attributions': ['<a href=\"https://maps.google.com/maps/contrib/105486924258416537245/photos\">LOVE THAT RED WINERY Warehouse District</a>'],\n",
       "    'photo_reference': 'CmRaAAAAyN8ZDONqutJSWM5ZL-iWaJOjk62nrnqMB1_VXoOgeYYO03VMKF9Hf0WhPcHnhq3zESplPr7Eb9ofm_AVUPbdSEmHa9MlI6XC1mSHb6U8mrI4p9AYr_k-BJH-RObQBK23EhB3SstQlkYqbQSeEZ11nYj2GhSuaHl0rmEiF6oaizVGLsCVPPROHQ',\n",
       "    'width': 1512}],\n",
       "  'place_id': 'ChIJ1c9qHpgOkFQRPaH6VxO7Lhs',\n",
       "  'plus_code': {'compound_code': 'QR9X+RM Woodinville, Washington, United States',\n",
       "   'global_code': '84VVQR9X+RM'},\n",
       "  'rating': 4.9,\n",
       "  'reference': 'ChIJ1c9qHpgOkFQRPaH6VxO7Lhs',\n",
       "  'reviews': [{'author_name': 'Nicolette De Reuck',\n",
       "    'author_url': 'https://www.google.com/maps/contrib/101662497379212472535/reviews',\n",
       "    'language': 'en',\n",
       "    'profile_photo_url': 'https://lh6.googleusercontent.com/-2zBeQdIof90/AAAAAAAAAAI/AAAAAAAAAAA/ACHi3rfTBG0OF0W3LQ7SziGrGTQCjrz45w/s128-c0x00000000-cc-rp-mo-ba3/photo.jpg',\n",
       "    'rating': 5,\n",
       "    'relative_time_description': '6 months ago',\n",
       "    'text': 'Always friendly, great service and fantastic wine.',\n",
       "    'time': 1545490964},\n",
       "   {'author_name': 'Samantha Matthew',\n",
       "    'author_url': 'https://www.google.com/maps/contrib/104164244952413899417/reviews',\n",
       "    'language': 'en',\n",
       "    'profile_photo_url': 'https://lh5.googleusercontent.com/-t2Vb0VI7ba4/AAAAAAAAAAI/AAAAAAAAAAA/ACHi3re5ew4DuJtEWW2dkAqgA8zhZdvt4Q/s128-c0x00000000-cc-rp-mo-ba3/photo.jpg',\n",
       "    'rating': 5,\n",
       "    'relative_time_description': '10 months ago',\n",
       "    'text': 'Amazing people and great wine.',\n",
       "    'time': 1534559388},\n",
       "   {'author_name': 'Keith Conaway',\n",
       "    'author_url': 'https://www.google.com/maps/contrib/108628527080835744364/reviews',\n",
       "    'language': 'en',\n",
       "    'profile_photo_url': 'https://lh4.googleusercontent.com/-LBJu64fwPJ0/AAAAAAAAAAI/AAAAAAAAAAA/ACHi3rcui3QaMfzlw6Gjnajb9e1X_KXP8Q/s128-c0x00000000-cc-rp-mo/photo.jpg',\n",
       "    'rating': 4,\n",
       "    'relative_time_description': 'a year ago',\n",
       "    'text': 'Wonderful wines',\n",
       "    'time': 1522017328},\n",
       "   {'author_name': 'Glen Alcorn',\n",
       "    'author_url': 'https://www.google.com/maps/contrib/102841261657244970563/reviews',\n",
       "    'profile_photo_url': 'https://lh6.googleusercontent.com/-U7FiQzuDqYw/AAAAAAAAAAI/AAAAAAAAAAA/ACHi3rcIEUj8Q7TO6HllPDzoP31zCwWk3g/s128-c0x00000000-cc-rp-mo/photo.jpg',\n",
       "    'rating': 5,\n",
       "    'relative_time_description': '5 months ago',\n",
       "    'text': '',\n",
       "    'time': 1547353755},\n",
       "   {'author_name': 'Craig Crisafulli',\n",
       "    'author_url': 'https://www.google.com/maps/contrib/111949861954180577787/reviews',\n",
       "    'profile_photo_url': 'https://lh3.googleusercontent.com/-gGoZKR5aalk/AAAAAAAAAAI/AAAAAAAABCQ/fnl8GIGGuAA/s128-c0x00000000-cc-rp-mo/photo.jpg',\n",
       "    'rating': 5,\n",
       "    'relative_time_description': '6 months ago',\n",
       "    'text': '',\n",
       "    'time': 1544464222}],\n",
       "  'scope': 'GOOGLE',\n",
       "  'types': ['food', 'point_of_interest', 'establishment'],\n",
       "  'url': 'https://maps.google.com/?cid=1958708579707560253',\n",
       "  'user_ratings_total': 7,\n",
       "  'utc_offset': -420,\n",
       "  'vicinity': 'Back Entrance, 19501 144th Avenue Northeast D100, Woodinville',\n",
       "  'website': 'http://lovethatredwinery.com/'},\n",
       " 'status': 'OK'}"
      ]
     },
     "execution_count": 66,
     "metadata": {},
     "output_type": "execute_result"
    }
   ],
   "source": [
    "gmaps.place('ChIJ1c9qHpgOkFQRPaH6VxO7Lhs')"
   ]
  },
  {
   "cell_type": "code",
   "execution_count": 106,
   "metadata": {},
   "outputs": [],
   "source": [
    "ltr_gc = gmaps.directions('Warr-King Wines', 'Sol Stone Winery', mode='walking', waypoints=['Efeste'])"
   ]
  },
  {
   "cell_type": "code",
   "execution_count": 69,
   "metadata": {},
   "outputs": [],
   "source": [
    "gmapit = gmplot.GoogleMapPlotter(47.7690488, -122.1514703, zoom=15, apikey=api_key)"
   ]
  },
  {
   "cell_type": "code",
   "execution_count": 59,
   "metadata": {},
   "outputs": [],
   "source": [
    "gmapit.plot([47.7690488], [-122.1514703], 'cornflowerblue', edge_width=10)\n",
    "gmapit.scatter([47.7690488], [-122.1514703], '#3B0B39', size=40, marker=False)\n",
    "gmapit.scatter([47.7690488], [-122.1514703], 'k', marker=True)\n",
    "#gmap.heatmap(heat_lats, heat_lngs)"
   ]
  },
  {
   "cell_type": "code",
   "execution_count": 60,
   "metadata": {},
   "outputs": [],
   "source": [
    "gmapit.draw(\"mymap.html\")"
   ]
  },
  {
   "cell_type": "code",
   "execution_count": 99,
   "metadata": {},
   "outputs": [],
   "source": [
    "loc = gmaps.geolocate()['location']"
   ]
  },
  {
   "cell_type": "code",
   "execution_count": 121,
   "metadata": {},
   "outputs": [
    {
     "name": "stdin",
     "output_type": "stream",
     "text": [
      "Where would you like to start? Cornuto Pizzaria\n"
     ]
    }
   ],
   "source": [
    "query = input('Where would you like to start?')\n",
    "place = gmaps.find_place(query, input_type='textquery')"
   ]
  },
  {
   "cell_type": "code",
   "execution_count": 122,
   "metadata": {},
   "outputs": [
    {
     "data": {
      "text/plain": [
       "{'candidates': [{'place_id': 'ChIJjXPLOTsUkFQRePof7WFiGuc'}], 'status': 'OK'}"
      ]
     },
     "execution_count": 122,
     "metadata": {},
     "output_type": "execute_result"
    }
   ],
   "source": [
    "place"
   ]
  },
  {
   "cell_type": "code",
   "execution_count": 124,
   "metadata": {},
   "outputs": [
    {
     "data": {
      "text/plain": [
       "{'html_attributions': [],\n",
       " 'result': {'address_components': [{'long_name': '7404',\n",
       "    'short_name': '7404',\n",
       "    'types': ['street_number']},\n",
       "   {'long_name': 'Greenwood Avenue North',\n",
       "    'short_name': 'Greenwood Ave N',\n",
       "    'types': ['route']},\n",
       "   {'long_name': 'Northwest Seattle',\n",
       "    'short_name': 'Northwest Seattle',\n",
       "    'types': ['neighborhood', 'political']},\n",
       "   {'long_name': 'Seattle',\n",
       "    'short_name': 'Seattle',\n",
       "    'types': ['locality', 'political']},\n",
       "   {'long_name': 'King County',\n",
       "    'short_name': 'King County',\n",
       "    'types': ['administrative_area_level_2', 'political']},\n",
       "   {'long_name': 'Washington',\n",
       "    'short_name': 'WA',\n",
       "    'types': ['administrative_area_level_1', 'political']},\n",
       "   {'long_name': 'United States',\n",
       "    'short_name': 'US',\n",
       "    'types': ['country', 'political']},\n",
       "   {'long_name': '98103', 'short_name': '98103', 'types': ['postal_code']},\n",
       "   {'long_name': '5044',\n",
       "    'short_name': '5044',\n",
       "    'types': ['postal_code_suffix']}],\n",
       "  'adr_address': '<span class=\"street-address\">7404 Greenwood Ave N</span>, <span class=\"locality\">Seattle</span>, <span class=\"region\">WA</span> <span class=\"postal-code\">98103-5044</span>, <span class=\"country-name\">USA</span>',\n",
       "  'formatted_address': '7404 Greenwood Ave N, Seattle, WA 98103, USA',\n",
       "  'formatted_phone_number': '(206) 812-0416',\n",
       "  'geometry': {'location': {'lat': 47.6827554, 'lng': -122.3550823},\n",
       "   'viewport': {'northeast': {'lat': 47.6841036802915,\n",
       "     'lng': -122.3538337197085},\n",
       "    'southwest': {'lat': 47.6814057197085, 'lng': -122.3565316802915}}},\n",
       "  'icon': 'https://maps.gstatic.com/mapfiles/place_api/icons/restaurant-71.png',\n",
       "  'id': 'f7002aa74faf01ca1d55c564508e90a05cafd9b9',\n",
       "  'international_phone_number': '+1 206-812-0416',\n",
       "  'name': 'Cornuto Pizzeria',\n",
       "  'opening_hours': {'open_now': False,\n",
       "   'periods': [{'close': {'day': 0, 'time': '2300'},\n",
       "     'open': {'day': 0, 'time': '1600'}},\n",
       "    {'close': {'day': 1, 'time': '2300'}, 'open': {'day': 1, 'time': '1600'}},\n",
       "    {'close': {'day': 2, 'time': '2300'}, 'open': {'day': 2, 'time': '1600'}},\n",
       "    {'close': {'day': 3, 'time': '2300'}, 'open': {'day': 3, 'time': '1600'}},\n",
       "    {'close': {'day': 4, 'time': '2300'}, 'open': {'day': 4, 'time': '1600'}},\n",
       "    {'close': {'day': 6, 'time': '0000'}, 'open': {'day': 5, 'time': '1600'}},\n",
       "    {'close': {'day': 0, 'time': '0000'}, 'open': {'day': 6, 'time': '1600'}}],\n",
       "   'weekday_text': ['Monday: 4:00 – 11:00 PM',\n",
       "    'Tuesday: 4:00 – 11:00 PM',\n",
       "    'Wednesday: 4:00 – 11:00 PM',\n",
       "    'Thursday: 4:00 – 11:00 PM',\n",
       "    'Friday: 4:00 PM – 12:00 AM',\n",
       "    'Saturday: 4:00 PM – 12:00 AM',\n",
       "    'Sunday: 4:00 – 11:00 PM']},\n",
       "  'photos': [{'height': 1365,\n",
       "    'html_attributions': ['<a href=\"https://maps.google.com/maps/contrib/104111246635874032234/photos\">ZAGAT</a>'],\n",
       "    'photo_reference': 'CmRaAAAA2Gsppn4Z9RQpDNSwyP27DAvPjFf465w_N4nCTj8fuvDl_ikOvz-G2BoEBXnourr64fX5MSpiotvYKpb39L2pn3S67vbm7SevhD4pCMgCYh0mRwVMZ50hOuTxuagXv25GEhCw2TCad_8YaSsVIh8vNMKKGhSe3wwuV7xpnPYxuegIHOSrQEbPcw',\n",
       "    'width': 2048},\n",
       "   {'height': 1365,\n",
       "    'html_attributions': ['<a href=\"https://maps.google.com/maps/contrib/104111246635874032234/photos\">ZAGAT</a>'],\n",
       "    'photo_reference': 'CmRaAAAABS3LGl5cVS160R323Y_2E2VdRmTKmuUCDD1GLjsfcOwlnAoDpmo3J83o08CnA1V5JO2OzzPWLiltc6JLWkHgU-XpJ_ZheYnrOnGBUjDd0RkBI9SqD4ww0B5-G1BAq_-0EhBHSErWEtlcUT2nZh9IkZp0GhS4jT1G1zWM-TjBT2zaOWqjpmGBpA',\n",
       "    'width': 2048},\n",
       "   {'height': 1365,\n",
       "    'html_attributions': ['<a href=\"https://maps.google.com/maps/contrib/104111246635874032234/photos\">ZAGAT</a>'],\n",
       "    'photo_reference': 'CmRaAAAAC4og5p-LPjSlOE9INSrc_cdO0OZ7sLqEaCDvcri9egDhTzfKj6QTpSJ74L2HnB8FpMWPkESo3KK8i-oe5Sw40aMAnq2PLUNmdVFPHcGs7BtaQnfuFoqd6jN5hrmJETyxEhAsRBArWzq7RV4nwAlOxdOrGhTv6sKnkF53HPS1qlu305fd4ycXPg',\n",
       "    'width': 2048},\n",
       "   {'height': 2255,\n",
       "    'html_attributions': ['<a href=\"https://maps.google.com/maps/contrib/112470486954552058785/photos\">Howard Sewell</a>'],\n",
       "    'photo_reference': 'CmRaAAAAa6KdK2mgcdMrXGN2UKgMzFScZA9iGGEjhq-ZZRi8mJ4xJFB1bccPrRBu31ZbeAzYJn76VAQSmitF-ONRX3wvgdkt9C2KSgu7EUFRQue0wd3J8gftZcPEBITuKxiuDdhDEhB9XxY5Kgq9YQUUpywZH-8eGhRshEQRWfto1Rg9YS22_93j2jjIgA',\n",
       "    'width': 2268},\n",
       "   {'height': 4032,\n",
       "    'html_attributions': ['<a href=\"https://maps.google.com/maps/contrib/104741521989707617065/photos\">Federico Espriu</a>'],\n",
       "    'photo_reference': 'CmRaAAAArYzHYAWn6ObZJXkIDwFgryKCugN8H4iBwm1biUdW9lvJZJmwpJ6kb1a2LPa-UGdO0JmBMGvYhx_GPGBZJh63YLjXjCiXfAIdK46Tcr0Ylhfe3f_HRoDqcqC6vKaKI_wuEhDUALaDaBuxNCgcQQykDuoeGhSwQrnHzS5rWCFvzZNMEuSIdbOzng',\n",
       "    'width': 3024},\n",
       "   {'height': 3024,\n",
       "    'html_attributions': ['<a href=\"https://maps.google.com/maps/contrib/104741521989707617065/photos\">Federico Espriu</a>'],\n",
       "    'photo_reference': 'CmRaAAAA7B8TIeaCntaA1Be-acKAegUQ9kfGfEHXawqcgoohERtrliJjniL4r5x9GuRpbXD-cQEO3hsZQrEXzp9oVg-OUTgVl0tM7lsRhiHpjojocrSW8hSXz8KgBjl4LYyR7xCeEhABignwGjjq56bLKwZ6pyi1GhQIKssNHDo6x3Pt7GyC11lVLOqHcg',\n",
       "    'width': 4032},\n",
       "   {'height': 1365,\n",
       "    'html_attributions': ['<a href=\"https://maps.google.com/maps/contrib/104111246635874032234/photos\">ZAGAT</a>'],\n",
       "    'photo_reference': 'CmRaAAAAGRny3Zrs682HUWWizjE-xmmGMHrkToDrh30lq_jwwrG63UobeK7VOtKMYAQ8syBaRz6vXyu_RUc7h8Wml452cDyFnW0tCOEWwXV5i34gztN6G3uGC64DjCvrFZ1y5mvTEhA-ysS-t4yung1Y8fcse6x_GhQXzgF51pZsijEITfb7cVo-fz_d-g',\n",
       "    'width': 2048},\n",
       "   {'height': 3024,\n",
       "    'html_attributions': ['<a href=\"https://maps.google.com/maps/contrib/112470486954552058785/photos\">Howard Sewell</a>'],\n",
       "    'photo_reference': 'CmRaAAAAE6hV61JPWRVN7McP6Nm7tardztq16YVx11p5emcm1d58a8X07_tJGQEppO9ROA0TStwklqEmI-mUTlCkUiF-FenBePCNyrySEAn4xT6KwsmStsMUoFbI_KNHltbzQPcwEhAme4s25a-mzBc56_dDk48IGhSYooVgAHQkRl-C5SHTxm5tDyTQ5g',\n",
       "    'width': 2268},\n",
       "   {'height': 1365,\n",
       "    'html_attributions': ['<a href=\"https://maps.google.com/maps/contrib/104111246635874032234/photos\">ZAGAT</a>'],\n",
       "    'photo_reference': 'CmRaAAAAAVMIiZpcFEuHRzD_F3-_PLAMsn3TsB8aeb4zbRm4BtahAv9ryiBWyMYIpIBAhWWZEaPAY7hOvXEpPMzPjF43bF7MhHPu56A-xCn69014UlObRyNDVipqJ9oPJ5INx8SXEhCK8QRKNOKMhie5E7j4bM-mGhTxLSdtuHDfd80tTCh7z95pERLALA',\n",
       "    'width': 2048},\n",
       "   {'height': 4000,\n",
       "    'html_attributions': ['<a href=\"https://maps.google.com/maps/contrib/116762854930395036579/photos\">Andrew Gregor</a>'],\n",
       "    'photo_reference': 'CmRaAAAApN6iauyqfSF2qLGHW8zukYYrguWf637dB6o9O6eLdQtDcXMD4Uy53bqtJJQmsaolF27kbxWFoLA_-vdKLKZd7v3wS9rg-IV69rbDKl3d_hUWkq8HXvqjusWhUa_ixwLxEhCvDSHzrLepXSkIiLjhYSWVGhQsz5X28mIgCWtjOxLAOu4YtsWdGw',\n",
       "    'width': 6000}],\n",
       "  'place_id': 'ChIJjXPLOTsUkFQRePof7WFiGuc',\n",
       "  'plus_code': {'compound_code': 'MJMV+4X Seattle, Washington, United States',\n",
       "   'global_code': '84VVMJMV+4X'},\n",
       "  'price_level': 2,\n",
       "  'rating': 4.7,\n",
       "  'reference': 'ChIJjXPLOTsUkFQRePof7WFiGuc',\n",
       "  'reviews': [{'author_name': 'Keyth Sokol',\n",
       "    'author_url': 'https://www.google.com/maps/contrib/103297436181184404886/reviews',\n",
       "    'language': 'en',\n",
       "    'profile_photo_url': 'https://lh4.googleusercontent.com/-ztHce_93frE/AAAAAAAAAAI/AAAAAAAABdY/7rSTAO1rhrE/s128-c0x00000000-cc-rp-mo-ba3/photo.jpg',\n",
       "    'rating': 5,\n",
       "    'relative_time_description': 'a month ago',\n",
       "    'text': \"I'm really glad we returned here.  It had been a few years since our first visits there and we'd simply overlooked it since.  Until now.  The food is fantastic and not overly fussed over.  The atmosphere is perfect.  Well, almost perfect.  It was so dark I had to use my phone to read the menu.  We could have used a couple more votives and it wasn't even dark outside yet.\\nBut what really impressed us-and we are difficult to impress-was the service.  Impeccable.  Friendly, perfect timing, excellent suggestions.  We will not wait so long to return.\",\n",
       "    'time': 1558764824},\n",
       "   {'author_name': 'Jason Murray',\n",
       "    'author_url': 'https://www.google.com/maps/contrib/108741951549028198387/reviews',\n",
       "    'language': 'en',\n",
       "    'profile_photo_url': 'https://lh5.googleusercontent.com/-Qffe7qCcGuw/AAAAAAAAAAI/AAAAAAAAAAA/RMabmYepvhM/s128-c0x00000000-cc-rp-mo/photo.jpg',\n",
       "    'rating': 5,\n",
       "    'relative_time_description': 'a month ago',\n",
       "    'text': 'Great little spot. Cool vibe with bar / wood fired pizza action. Food was great. Still thinking about the Tiramisu....',\n",
       "    'time': 1558193423},\n",
       "   {'author_name': 'Lily Barclay',\n",
       "    'author_url': 'https://www.google.com/maps/contrib/106338635754835215399/reviews',\n",
       "    'language': 'en',\n",
       "    'profile_photo_url': 'https://lh3.googleusercontent.com/-EVvU7SD1LL4/AAAAAAAAAAI/AAAAAAAAH8I/cOVRaRiYFDs/s128-c0x00000000-cc-rp-mo/photo.jpg',\n",
       "    'rating': 5,\n",
       "    'relative_time_description': '2 months ago',\n",
       "    'text': 'Love love love this place! Such a great atmosphere and always great food and service- this is a regular visit for me! 10/10 recommend and the back deck in the summer is a must!',\n",
       "    'time': 1555378705},\n",
       "   {'author_name': 'Stephanie Deshaies',\n",
       "    'author_url': 'https://www.google.com/maps/contrib/105146352800506267040/reviews',\n",
       "    'language': 'en',\n",
       "    'profile_photo_url': 'https://lh6.googleusercontent.com/-I3R3GuifABI/AAAAAAAAAAI/AAAAAAAAAQ8/RkMaXpKzj_A/s128-c0x00000000-cc-rp-mo/photo.jpg',\n",
       "    'rating': 5,\n",
       "    'relative_time_description': '2 weeks ago',\n",
       "    'text': 'Delightful atmosphere . Charming hosts. Delicious pizza! I highly recommend!',\n",
       "    'time': 1559707860},\n",
       "   {'author_name': 'Ian Joslin',\n",
       "    'author_url': 'https://www.google.com/maps/contrib/118133100626820818291/reviews',\n",
       "    'language': 'en',\n",
       "    'profile_photo_url': 'https://lh4.googleusercontent.com/-0kNTDF0vfxw/AAAAAAAAAAI/AAAAAAAABng/KwtKdqkTVn8/s128-c0x00000000-cc-rp-mo-ba3/photo.jpg',\n",
       "    'rating': 5,\n",
       "    'relative_time_description': '6 months ago',\n",
       "    'text': \"Great pizza, great vibe, great service. Attentive staff and consistent quality food and cocktails. They always have good wine selections and suggestions if you ask. It can get busy but if you love pizza you should eat here, where it's made the way it should be. \\n\\nI definitely recommend visiting during the summer when the back deck is open, but this spot is welcoming year round. Can't find a better place on the ridge to sip drinks, eat pizza and enjoy good company.\",\n",
       "    'time': 1545012367}],\n",
       "  'types': ['restaurant', 'food', 'point_of_interest', 'establishment'],\n",
       "  'url': 'https://maps.google.com/?cid=16652730744885475960',\n",
       "  'user_ratings_total': 147,\n",
       "  'utc_offset': -420,\n",
       "  'vicinity': '7404 Greenwood Avenue North, Seattle',\n",
       "  'website': 'http://www.cornutopizzeria.com/'},\n",
       " 'status': 'OK'}"
      ]
     },
     "execution_count": 124,
     "metadata": {},
     "output_type": "execute_result"
    }
   ],
   "source": [
    "temp = gmaps.place(place['candidates'][0]['place_id'])\n",
    "temp[]"
   ]
  },
  {
   "cell_type": "code",
   "execution_count": 102,
   "metadata": {},
   "outputs": [],
   "source": [
    "gmapit.plot([loc['lat']], [loc['lng']])\n",
    "gmapit.draw(\"mymap.html\")"
   ]
  },
  {
   "cell_type": "code",
   "execution_count": 110,
   "metadata": {},
   "outputs": [
    {
     "data": {
      "text/plain": [
       "[{'distance': {'text': '0.4 mi', 'value': 608},\n",
       "  'duration': {'text': '9 mins', 'value': 516},\n",
       "  'end_address': '19730 144th Ave NE, Woodinville, WA 98072, United States',\n",
       "  'end_location': {'lat': 47.7711178, 'lng': -122.146107},\n",
       "  'start_address': '19501 144th Ave NE d700, Woodinville, WA 98072, USA',\n",
       "  'start_location': {'lat': 47.7693978, 'lng': -122.1514714},\n",
       "  'steps': [{'distance': {'text': '118 ft', 'value': 36},\n",
       "    'duration': {'text': '1 min', 'value': 28},\n",
       "    'end_location': {'lat': 47.7697239, 'lng': -122.1514725},\n",
       "    'html_instructions': 'Head <b>north</b> toward <b>144th Ave NE</b>',\n",
       "    'polyline': {'points': 'w}pbHtuphV_A?'},\n",
       "    'start_location': {'lat': 47.7693978, 'lng': -122.1514714},\n",
       "    'travel_mode': 'WALKING'},\n",
       "   {'distance': {'text': '0.2 mi', 'value': 279},\n",
       "    'duration': {'text': '4 mins', 'value': 224},\n",
       "    'end_location': {'lat': 47.76962109999999, 'lng': -122.1477658},\n",
       "    'html_instructions': 'Turn <b>right</b>',\n",
       "    'maneuver': 'turn-right',\n",
       "    'polyline': {'points': 'w_qbHtuphV?mF?u@?u@?s@?Y?[@wC?e@?M?G@G?C@C@CBE@C@G@C?G@Y'},\n",
       "    'start_location': {'lat': 47.7697239, 'lng': -122.1514725},\n",
       "    'travel_mode': 'WALKING'},\n",
       "   {'distance': {'text': '0.1 mi', 'value': 166},\n",
       "    'duration': {'text': '2 mins', 'value': 126},\n",
       "    'end_location': {'lat': 47.7711165, 'lng': -122.1478125},\n",
       "    'html_instructions': 'Turn <b>left</b> onto <b>144th Ave NE</b>',\n",
       "    'maneuver': 'turn-left',\n",
       "    'polyline': {'points': 'c_qbHp~ohVO?U?kBByCB'},\n",
       "    'start_location': {'lat': 47.76962109999999, 'lng': -122.1477658},\n",
       "    'travel_mode': 'WALKING'},\n",
       "   {'distance': {'text': '417 ft', 'value': 127},\n",
       "    'duration': {'text': '2 mins', 'value': 138},\n",
       "    'end_location': {'lat': 47.7711178, 'lng': -122.146107},\n",
       "    'html_instructions': 'Turn <b>right</b><div style=\"font-size:0.9em\">Destination will be on the left</div>',\n",
       "    'maneuver': 'turn-right',\n",
       "    'polyline': {'points': 'ohqbHx~ohV?S?_I'},\n",
       "    'start_location': {'lat': 47.7711165, 'lng': -122.1478125},\n",
       "    'travel_mode': 'WALKING'}],\n",
       "  'traffic_speed_entry': [],\n",
       "  'via_waypoint': []},\n",
       " {'distance': {'text': '0.4 mi', 'value': 706},\n",
       "  'duration': {'text': '9 mins', 'value': 517},\n",
       "  'end_address': '19151 144th Ave NE G, Woodinville, WA 98072, USA',\n",
       "  'end_location': {'lat': 47.7662737, 'lng': -122.1482472},\n",
       "  'start_address': '19730 144th Ave NE, Woodinville, WA 98072, United States',\n",
       "  'start_location': {'lat': 47.7711178, 'lng': -122.146107},\n",
       "  'steps': [{'distance': {'text': '417 ft', 'value': 127},\n",
       "    'duration': {'text': '2 mins', 'value': 96},\n",
       "    'end_location': {'lat': 47.7711165, 'lng': -122.1478125},\n",
       "    'html_instructions': 'Head <b>west</b> toward <b>144th Ave NE</b>',\n",
       "    'polyline': {'points': 'ohqbHdtohV?~H?R'},\n",
       "    'start_location': {'lat': 47.7711178, 'lng': -122.146107},\n",
       "    'travel_mode': 'WALKING'},\n",
       "   {'distance': {'text': '0.3 mi', 'value': 503},\n",
       "    'duration': {'text': '6 mins', 'value': 364},\n",
       "    'end_location': {'lat': 47.7665921, 'lng': -122.1476975},\n",
       "    'html_instructions': 'Turn <b>left</b> onto <b>144th Ave NE</b>',\n",
       "    'maneuver': 'turn-left',\n",
       "    'polyline': {'points': 'ohqbHx~ohVxCCjBCT?N?pBCr@AjFAvACV?v@Ab@?'},\n",
       "    'start_location': {'lat': 47.7711165, 'lng': -122.1478125},\n",
       "    'travel_mode': 'WALKING'},\n",
       "   {'distance': {'text': '75 ft', 'value': 23},\n",
       "    'duration': {'text': '1 min', 'value': 15},\n",
       "    'end_location': {'lat': 47.766589, 'lng': -122.1480005},\n",
       "    'html_instructions': 'Turn <b>right</b>',\n",
       "    'maneuver': 'turn-right',\n",
       "    'polyline': {'points': 'elpbHb~ohV?z@'},\n",
       "    'start_location': {'lat': 47.7665921, 'lng': -122.1476975},\n",
       "    'travel_mode': 'WALKING'},\n",
       "   {'distance': {'text': '112 ft', 'value': 34},\n",
       "    'duration': {'text': '1 min', 'value': 27},\n",
       "    'end_location': {'lat': 47.766286, 'lng': -122.147997},\n",
       "    'html_instructions': 'Turn <b>left</b>',\n",
       "    'maneuver': 'turn-left',\n",
       "    'polyline': {'points': 'elpbH~_phVz@?'},\n",
       "    'start_location': {'lat': 47.766589, 'lng': -122.1480005},\n",
       "    'travel_mode': 'WALKING'},\n",
       "   {'distance': {'text': '62 ft', 'value': 19},\n",
       "    'duration': {'text': '1 min', 'value': 15},\n",
       "    'end_location': {'lat': 47.7662737, 'lng': -122.1482472},\n",
       "    'html_instructions': 'Turn <b>right</b><div style=\"font-size:0.9em\">Destination will be on the right</div>',\n",
       "    'maneuver': 'turn-right',\n",
       "    'polyline': {'points': 'ijpbH~_phV@l@?@?@@?'},\n",
       "    'start_location': {'lat': 47.766286, 'lng': -122.147997},\n",
       "    'travel_mode': 'WALKING'}],\n",
       "  'traffic_speed_entry': [],\n",
       "  'via_waypoint': []}]"
      ]
     },
     "execution_count": 110,
     "metadata": {},
     "output_type": "execute_result"
    }
   ],
   "source": [
    "ltr_gc[0]['legs']"
   ]
  },
  {
   "cell_type": "code",
   "execution_count": 111,
   "metadata": {},
   "outputs": [
    {
     "data": {
      "text/plain": [
       "{'bounds': {'northeast': {'lat': 47.7711178, 'lng': -122.146107},\n",
       "  'southwest': {'lat': 47.7662737, 'lng': -122.1514725}},\n",
       " 'copyrights': 'Map data ©2019',\n",
       " 'legs': [{'distance': {'text': '0.4 mi', 'value': 608},\n",
       "   'duration': {'text': '9 mins', 'value': 516},\n",
       "   'end_address': '19730 144th Ave NE, Woodinville, WA 98072, United States',\n",
       "   'end_location': {'lat': 47.7711178, 'lng': -122.146107},\n",
       "   'start_address': '19501 144th Ave NE d700, Woodinville, WA 98072, USA',\n",
       "   'start_location': {'lat': 47.7693978, 'lng': -122.1514714},\n",
       "   'steps': [{'distance': {'text': '118 ft', 'value': 36},\n",
       "     'duration': {'text': '1 min', 'value': 28},\n",
       "     'end_location': {'lat': 47.7697239, 'lng': -122.1514725},\n",
       "     'html_instructions': 'Head <b>north</b> toward <b>144th Ave NE</b>',\n",
       "     'polyline': {'points': 'w}pbHtuphV_A?'},\n",
       "     'start_location': {'lat': 47.7693978, 'lng': -122.1514714},\n",
       "     'travel_mode': 'WALKING'},\n",
       "    {'distance': {'text': '0.2 mi', 'value': 279},\n",
       "     'duration': {'text': '4 mins', 'value': 224},\n",
       "     'end_location': {'lat': 47.76962109999999, 'lng': -122.1477658},\n",
       "     'html_instructions': 'Turn <b>right</b>',\n",
       "     'maneuver': 'turn-right',\n",
       "     'polyline': {'points': 'w_qbHtuphV?mF?u@?u@?s@?Y?[@wC?e@?M?G@G?C@C@CBE@C@G@C?G@Y'},\n",
       "     'start_location': {'lat': 47.7697239, 'lng': -122.1514725},\n",
       "     'travel_mode': 'WALKING'},\n",
       "    {'distance': {'text': '0.1 mi', 'value': 166},\n",
       "     'duration': {'text': '2 mins', 'value': 126},\n",
       "     'end_location': {'lat': 47.7711165, 'lng': -122.1478125},\n",
       "     'html_instructions': 'Turn <b>left</b> onto <b>144th Ave NE</b>',\n",
       "     'maneuver': 'turn-left',\n",
       "     'polyline': {'points': 'c_qbHp~ohVO?U?kBByCB'},\n",
       "     'start_location': {'lat': 47.76962109999999, 'lng': -122.1477658},\n",
       "     'travel_mode': 'WALKING'},\n",
       "    {'distance': {'text': '417 ft', 'value': 127},\n",
       "     'duration': {'text': '2 mins', 'value': 138},\n",
       "     'end_location': {'lat': 47.7711178, 'lng': -122.146107},\n",
       "     'html_instructions': 'Turn <b>right</b><div style=\"font-size:0.9em\">Destination will be on the left</div>',\n",
       "     'maneuver': 'turn-right',\n",
       "     'polyline': {'points': 'ohqbHx~ohV?S?_I'},\n",
       "     'start_location': {'lat': 47.7711165, 'lng': -122.1478125},\n",
       "     'travel_mode': 'WALKING'}],\n",
       "   'traffic_speed_entry': [],\n",
       "   'via_waypoint': []},\n",
       "  {'distance': {'text': '0.4 mi', 'value': 706},\n",
       "   'duration': {'text': '9 mins', 'value': 517},\n",
       "   'end_address': '19151 144th Ave NE G, Woodinville, WA 98072, USA',\n",
       "   'end_location': {'lat': 47.7662737, 'lng': -122.1482472},\n",
       "   'start_address': '19730 144th Ave NE, Woodinville, WA 98072, United States',\n",
       "   'start_location': {'lat': 47.7711178, 'lng': -122.146107},\n",
       "   'steps': [{'distance': {'text': '417 ft', 'value': 127},\n",
       "     'duration': {'text': '2 mins', 'value': 96},\n",
       "     'end_location': {'lat': 47.7711165, 'lng': -122.1478125},\n",
       "     'html_instructions': 'Head <b>west</b> toward <b>144th Ave NE</b>',\n",
       "     'polyline': {'points': 'ohqbHdtohV?~H?R'},\n",
       "     'start_location': {'lat': 47.7711178, 'lng': -122.146107},\n",
       "     'travel_mode': 'WALKING'},\n",
       "    {'distance': {'text': '0.3 mi', 'value': 503},\n",
       "     'duration': {'text': '6 mins', 'value': 364},\n",
       "     'end_location': {'lat': 47.7665921, 'lng': -122.1476975},\n",
       "     'html_instructions': 'Turn <b>left</b> onto <b>144th Ave NE</b>',\n",
       "     'maneuver': 'turn-left',\n",
       "     'polyline': {'points': 'ohqbHx~ohVxCCjBCT?N?pBCr@AjFAvACV?v@Ab@?'},\n",
       "     'start_location': {'lat': 47.7711165, 'lng': -122.1478125},\n",
       "     'travel_mode': 'WALKING'},\n",
       "    {'distance': {'text': '75 ft', 'value': 23},\n",
       "     'duration': {'text': '1 min', 'value': 15},\n",
       "     'end_location': {'lat': 47.766589, 'lng': -122.1480005},\n",
       "     'html_instructions': 'Turn <b>right</b>',\n",
       "     'maneuver': 'turn-right',\n",
       "     'polyline': {'points': 'elpbHb~ohV?z@'},\n",
       "     'start_location': {'lat': 47.7665921, 'lng': -122.1476975},\n",
       "     'travel_mode': 'WALKING'},\n",
       "    {'distance': {'text': '112 ft', 'value': 34},\n",
       "     'duration': {'text': '1 min', 'value': 27},\n",
       "     'end_location': {'lat': 47.766286, 'lng': -122.147997},\n",
       "     'html_instructions': 'Turn <b>left</b>',\n",
       "     'maneuver': 'turn-left',\n",
       "     'polyline': {'points': 'elpbH~_phVz@?'},\n",
       "     'start_location': {'lat': 47.766589, 'lng': -122.1480005},\n",
       "     'travel_mode': 'WALKING'},\n",
       "    {'distance': {'text': '62 ft', 'value': 19},\n",
       "     'duration': {'text': '1 min', 'value': 15},\n",
       "     'end_location': {'lat': 47.7662737, 'lng': -122.1482472},\n",
       "     'html_instructions': 'Turn <b>right</b><div style=\"font-size:0.9em\">Destination will be on the right</div>',\n",
       "     'maneuver': 'turn-right',\n",
       "     'polyline': {'points': 'ijpbH~_phV@l@?@?@@?'},\n",
       "     'start_location': {'lat': 47.766286, 'lng': -122.147997},\n",
       "     'travel_mode': 'WALKING'}],\n",
       "   'traffic_speed_entry': [],\n",
       "   'via_waypoint': []}],\n",
       " 'overview_polyline': {'points': 'w}pbHtuphV_A??mF?kB@aG@cAFQDW@YO?aCByCB?S?_I?~H?RxCC`CC`LGjEE?z@z@?@l@@B'},\n",
       " 'summary': '144th Ave NE',\n",
       " 'warnings': ['Walking directions are in beta. Use caution – This route may be missing sidewalks or pedestrian paths.'],\n",
       " 'waypoint_order': [0]}"
      ]
     },
     "execution_count": 111,
     "metadata": {},
     "output_type": "execute_result"
    }
   ],
   "source": [
    "ltr_gc[0]"
   ]
  },
  {
   "cell_type": "code",
   "execution_count": 125,
   "metadata": {},
   "outputs": [],
   "source": [
    "import json"
   ]
  },
  {
   "cell_type": "code",
   "execution_count": 126,
   "metadata": {},
   "outputs": [
    {
     "ename": "AttributeError",
     "evalue": "'dict' object has no attribute 'read'",
     "output_type": "error",
     "traceback": [
      "\u001b[0;31m---------------------------------------------------------------------------\u001b[0m",
      "\u001b[0;31mAttributeError\u001b[0m                            Traceback (most recent call last)",
      "\u001b[0;32m<ipython-input-126-10f9063a4abb>\u001b[0m in \u001b[0;36m<module>\u001b[0;34m()\u001b[0m\n\u001b[0;32m----> 1\u001b[0;31m \u001b[0mjson\u001b[0m\u001b[0;34m.\u001b[0m\u001b[0mload\u001b[0m\u001b[0;34m(\u001b[0m\u001b[0mltr_gc\u001b[0m\u001b[0;34m[\u001b[0m\u001b[0;36m0\u001b[0m\u001b[0;34m]\u001b[0m\u001b[0;34m)\u001b[0m\u001b[0;34m\u001b[0m\u001b[0;34m\u001b[0m\u001b[0m\n\u001b[0m",
      "\u001b[0;32m/anaconda3/envs/learn-env/lib/python3.7/json/__init__.py\u001b[0m in \u001b[0;36mload\u001b[0;34m(fp, cls, object_hook, parse_float, parse_int, parse_constant, object_pairs_hook, **kw)\u001b[0m\n\u001b[1;32m    291\u001b[0m     \u001b[0mkwarg\u001b[0m\u001b[0;34m;\u001b[0m \u001b[0motherwise\u001b[0m\u001b[0;31m \u001b[0m\u001b[0;31m`\u001b[0m\u001b[0;31m`\u001b[0m\u001b[0mJSONDecoder\u001b[0m\u001b[0;31m`\u001b[0m\u001b[0;31m`\u001b[0m \u001b[0;32mis\u001b[0m \u001b[0mused\u001b[0m\u001b[0;34m.\u001b[0m\u001b[0;34m\u001b[0m\u001b[0;34m\u001b[0m\u001b[0m\n\u001b[1;32m    292\u001b[0m     \"\"\"\n\u001b[0;32m--> 293\u001b[0;31m     return loads(fp.read(),\n\u001b[0m\u001b[1;32m    294\u001b[0m         \u001b[0mcls\u001b[0m\u001b[0;34m=\u001b[0m\u001b[0mcls\u001b[0m\u001b[0;34m,\u001b[0m \u001b[0mobject_hook\u001b[0m\u001b[0;34m=\u001b[0m\u001b[0mobject_hook\u001b[0m\u001b[0;34m,\u001b[0m\u001b[0;34m\u001b[0m\u001b[0;34m\u001b[0m\u001b[0m\n\u001b[1;32m    295\u001b[0m         \u001b[0mparse_float\u001b[0m\u001b[0;34m=\u001b[0m\u001b[0mparse_float\u001b[0m\u001b[0;34m,\u001b[0m \u001b[0mparse_int\u001b[0m\u001b[0;34m=\u001b[0m\u001b[0mparse_int\u001b[0m\u001b[0;34m,\u001b[0m\u001b[0;34m\u001b[0m\u001b[0;34m\u001b[0m\u001b[0m\n",
      "\u001b[0;31mAttributeError\u001b[0m: 'dict' object has no attribute 'read'"
     ]
    }
   ],
   "source": [
    "json.scanner()"
   ]
  },
  {
   "cell_type": "code",
   "execution_count": null,
   "metadata": {},
   "outputs": [],
   "source": []
  }
 ],
 "metadata": {
  "kernelspec": {
   "display_name": "learn-env",
   "language": "python",
   "name": "learn-env"
  },
  "language_info": {
   "codemirror_mode": {
    "name": "ipython",
    "version": 3
   },
   "file_extension": ".py",
   "mimetype": "text/x-python",
   "name": "python",
   "nbconvert_exporter": "python",
   "pygments_lexer": "ipython3",
   "version": "3.7.3"
  }
 },
 "nbformat": 4,
 "nbformat_minor": 2
}
