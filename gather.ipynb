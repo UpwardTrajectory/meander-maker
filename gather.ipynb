{
 "cells": [
  {
   "cell_type": "code",
   "execution_count": 35,
   "metadata": {},
   "outputs": [
    {
     "data": {
      "text/plain": [
       "dict_keys(['hollywood', 'west_valley', 'junction', 'snohomish', 'warehouse', 'artisan_hill', 'breweries', 'distilleries'])"
      ]
     },
     "execution_count": 35,
     "metadata": {},
     "output_type": "execute_result"
    }
   ],
   "source": [
    "locs = {}\n",
    "\n",
    "locs['hollywood'] = '''Airfield Estates,\n",
    "Castillo de Feliciana,\n",
    "Chateau Ste. Michelle,\n",
    "Columbia Winery,\n",
    "Goose Ridge Estates Winery,\n",
    "Icon Cellars,\n",
    "JM Cellars,\n",
    "Lauren Ashton Cellars,\n",
    "Novelty Hill/Januik,\n",
    "Patterson Cellars,\n",
    "Silver Lake Wines,\n",
    "Sky River Mead,\n",
    "Wilridge Winery'''.replace('\\n', '').split(',')\n",
    "\n",
    "locs['west_valley'] = '''Celaeno Winery,\n",
    "J. Bell Cellars,\n",
    "Martedi Winery,\n",
    "The Woodhouse Wine Estates'''.replace('\\n', '').split(',')\n",
    "\n",
    "locs['junction'] = '''Sol Stone Winery'''.replace('\\n', '').split(',')\n",
    "\n",
    "locs['snohomish'] = '''Kasia Winery'''.replace('\\n', '').split(',')\n",
    "\n",
    "locs['warehouse'] = '''Ambassador Wines of Washington,\n",
    "Ancestry Cellars,\n",
    "Eye of the Needle Winery,\n",
    "Genoa Cellars,\n",
    "Gorman -Old Scratch Winery,\n",
    "Long Cellars,\n",
    "LOVE THAT RED,\n",
    "Patterson Cellars,\n",
    "Sol Stone Winery,\n",
    "TruthTeller Winery,\n",
    "Warr-King Wines\n",
    "'''.replace('\\n', '').split(',')\n",
    "\n",
    "locs['artisan_hill'] = '''Artisan Hill,\n",
    "Adrice Wines,\n",
    "Auclair Winery,\n",
    "Callan Cellars,\n",
    "Covington Cellars,\n",
    "Damsel Cellars,\n",
    "Descendant Cellars,\n",
    "Distefano Winery,\n",
    "Finn Hill Winery,\n",
    "Icon Cellars,\n",
    "Keira Cellars,\n",
    "Lord Lion Winery,\n",
    "Sightglass Cellars,\n",
    "Three of Cups'''.replace('\\n', '').split(',')\n",
    "\n",
    "locs['breweries'] = '''Bosk Brew Works,\n",
    "Crucible Brewing Co.,\n",
    "Triplehorn Brewing Co.,\n",
    "Sumerian Brewing Co.,\n",
    "20 Corners Brewing Co.'''.replace('\\n', '').split(',')\n",
    "\n",
    "locs['distilleries'] = '''Four Leaf Spirits,\n",
    "J.P. Trodden Bourbon,\n",
    "Pacific Distillery,\n",
    "SeaSpirits Distilling,\n",
    "Woodinville Whiskey Co.'''.replace('\\n', '').split(',')\n",
    "    \n",
    "locs.keys()"
   ]
  }
 ],
 "metadata": {
  "kernelspec": {
   "display_name": "learn-env",
   "language": "python",
   "name": "learn-env"
  },
  "language_info": {
   "codemirror_mode": {
    "name": "ipython",
    "version": 3
   },
   "file_extension": ".py",
   "mimetype": "text/x-python",
   "name": "python",
   "nbconvert_exporter": "python",
   "pygments_lexer": "ipython3",
   "version": "3.7.3"
  }
 },
 "nbformat": 4,
 "nbformat_minor": 2
}
