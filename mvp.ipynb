{
 "cells": [
  {
   "cell_type": "markdown",
   "metadata": {},
   "source": [
    "# Meander Maker\n",
    "\n",
    "If you haven't ever used the `googlemaps` python package, there are a few small setup steps to take first. You'll need to install it by running the next cell. Additionally, we will use `gmplot` to render the outputs and `polyline` to decode [Google's \"Polyline\"](https://developers.google.com/maps/documentation/utilities/polylineutility) hash. Finally, generate an API key to interface with Google's services. (There is a free tier, but if you use it a lot, they will start charging you for access.)"
   ]
  },
  {
   "cell_type": "code",
   "execution_count": null,
   "metadata": {},
   "outputs": [],
   "source": [
    "!pip install googlemaps\n",
    "!pip install gmplot\n",
    "!pip install polyline\n",
    "!pip install haversine"
   ]
  },
  {
   "cell_type": "code",
   "execution_count": null,
   "metadata": {},
   "outputs": [],
   "source": [
    "!conda install -c conda-forge hdbscan"
   ]
  },
  {
   "cell_type": "markdown",
   "metadata": {},
   "source": [
    "As mentioned above, if you would like to tinker around with the code, you'll need your own API key for Google Maps. You can register one from this address: [https://developers.google.com/places/web-service/get-api-key](https://developers.google.com/places/web-service/get-api-key). Once you have one, create a file in the directory containing this notebook called `.secret.key` and simply paste in your newly generated API key, no quotes or line breaks or anything. Save the file, exit, and you should be good to go."
   ]
  },
  {
   "cell_type": "code",
   "execution_count": 4,
   "metadata": {},
   "outputs": [
    {
     "name": "stderr",
     "output_type": "stream",
     "text": [
      "/anaconda3/envs/learn-env/lib/python3.7/site-packages/sklearn/externals/six.py:31: DeprecationWarning:\n",
      "\n",
      "The module is deprecated in version 0.21 and will be removed in version 0.23 since we've dropped support for Python 2.7. Please rely on the official version of six (https://pypi.org/project/six/).\n",
      "\n",
      "/anaconda3/envs/learn-env/lib/python3.7/site-packages/sklearn/externals/joblib/__init__.py:15: DeprecationWarning:\n",
      "\n",
      "sklearn.externals.joblib is deprecated in 0.21 and will be removed in 0.23. Please import this functionality directly from joblib, which can be installed with: pip install joblib. If this warning is raised when loading pickled models, you may need to re-serialize those models with scikit-learn 0.21+.\n",
      "\n"
     ]
    }
   ],
   "source": [
    "import goplaces as gp\n",
    "\n",
    "%load_ext autoreload\n",
    "%autoreload 2"
   ]
  },
  {
   "cell_type": "markdown",
   "metadata": {},
   "source": [
    "Let's decide which topic to explore:"
   ]
  },
  {
   "cell_type": "code",
   "execution_count": 115,
   "metadata": {},
   "outputs": [
    {
     "name": "stdin",
     "output_type": "stream",
     "text": [
      "Where would you like to start? 3rd and pine, seattle\n",
      "What theme would you like to explore today? parks with a view\n"
     ]
    }
   ],
   "source": [
    "loc, topic = gp.populate_inputs()"
   ]
  },
  {
   "cell_type": "code",
   "execution_count": 189,
   "metadata": {},
   "outputs": [
    {
     "data": {
      "text/html": [
       "<div>\n",
       "<style scoped>\n",
       "    .dataframe tbody tr th:only-of-type {\n",
       "        vertical-align: middle;\n",
       "    }\n",
       "\n",
       "    .dataframe tbody tr th {\n",
       "        vertical-align: top;\n",
       "    }\n",
       "\n",
       "    .dataframe thead th {\n",
       "        text-align: right;\n",
       "    }\n",
       "</style>\n",
       "<table border=\"1\" class=\"dataframe\">\n",
       "  <thead>\n",
       "    <tr style=\"text-align: right;\">\n",
       "      <th></th>\n",
       "      <th>lat</th>\n",
       "      <th>lng</th>\n",
       "      <th>name</th>\n",
       "      <th>rating</th>\n",
       "      <th>user_ratings_total</th>\n",
       "      <th>label</th>\n",
       "    </tr>\n",
       "  </thead>\n",
       "  <tbody>\n",
       "    <tr>\n",
       "      <th>0</th>\n",
       "      <td>47.612800</td>\n",
       "      <td>-122.320533</td>\n",
       "      <td>Optimism Brewing Company</td>\n",
       "      <td>4.6</td>\n",
       "      <td>814</td>\n",
       "      <td>0</td>\n",
       "    </tr>\n",
       "    <tr>\n",
       "      <th>1</th>\n",
       "      <td>47.613939</td>\n",
       "      <td>-122.315894</td>\n",
       "      <td>Elysian Capitol Hill Brewery</td>\n",
       "      <td>4.1</td>\n",
       "      <td>450</td>\n",
       "      <td>0</td>\n",
       "    </tr>\n",
       "    <tr>\n",
       "      <th>2</th>\n",
       "      <td>47.614286</td>\n",
       "      <td>-122.322711</td>\n",
       "      <td>Redhook Brewlab</td>\n",
       "      <td>4.4</td>\n",
       "      <td>322</td>\n",
       "      <td>0</td>\n",
       "    </tr>\n",
       "    <tr>\n",
       "      <th>3</th>\n",
       "      <td>47.618026</td>\n",
       "      <td>-122.316620</td>\n",
       "      <td>Outer Planet Craft Brewing</td>\n",
       "      <td>4.6</td>\n",
       "      <td>125</td>\n",
       "      <td>0</td>\n",
       "    </tr>\n",
       "    <tr>\n",
       "      <th>4</th>\n",
       "      <td>47.597074</td>\n",
       "      <td>-122.333819</td>\n",
       "      <td>Elysian Fields</td>\n",
       "      <td>3.8</td>\n",
       "      <td>375</td>\n",
       "      <td>1</td>\n",
       "    </tr>\n",
       "    <tr>\n",
       "      <th>5</th>\n",
       "      <td>47.608232</td>\n",
       "      <td>-122.339743</td>\n",
       "      <td>The Pike Brewing Company</td>\n",
       "      <td>4.2</td>\n",
       "      <td>1169</td>\n",
       "      <td>1</td>\n",
       "    </tr>\n",
       "    <tr>\n",
       "      <th>6</th>\n",
       "      <td>47.608124</td>\n",
       "      <td>-122.341142</td>\n",
       "      <td>Road Dog Tours - Brewery Tours</td>\n",
       "      <td>4.2</td>\n",
       "      <td>17</td>\n",
       "      <td>1</td>\n",
       "    </tr>\n",
       "    <tr>\n",
       "      <th>7</th>\n",
       "      <td>47.609518</td>\n",
       "      <td>-122.341343</td>\n",
       "      <td>Rachel's Ginger Beer</td>\n",
       "      <td>4.6</td>\n",
       "      <td>322</td>\n",
       "      <td>1</td>\n",
       "    </tr>\n",
       "    <tr>\n",
       "      <th>8</th>\n",
       "      <td>47.611570</td>\n",
       "      <td>-122.345288</td>\n",
       "      <td>Cloudburst Brewing</td>\n",
       "      <td>4.6</td>\n",
       "      <td>475</td>\n",
       "      <td>1</td>\n",
       "    </tr>\n",
       "    <tr>\n",
       "      <th>9</th>\n",
       "      <td>47.576368</td>\n",
       "      <td>-122.333987</td>\n",
       "      <td>Ghostfish Brewing Company</td>\n",
       "      <td>4.6</td>\n",
       "      <td>476</td>\n",
       "      <td>2</td>\n",
       "    </tr>\n",
       "    <tr>\n",
       "      <th>10</th>\n",
       "      <td>47.576039</td>\n",
       "      <td>-122.335518</td>\n",
       "      <td>Seapine Brewing Company</td>\n",
       "      <td>4.8</td>\n",
       "      <td>210</td>\n",
       "      <td>2</td>\n",
       "    </tr>\n",
       "    <tr>\n",
       "      <th>11</th>\n",
       "      <td>47.567723</td>\n",
       "      <td>-122.335484</td>\n",
       "      <td>Schooner Brewing Company</td>\n",
       "      <td>4.5</td>\n",
       "      <td>133</td>\n",
       "      <td>2</td>\n",
       "    </tr>\n",
       "    <tr>\n",
       "      <th>12</th>\n",
       "      <td>47.560557</td>\n",
       "      <td>-122.337498</td>\n",
       "      <td>Two Beers Brewing Co.</td>\n",
       "      <td>4.7</td>\n",
       "      <td>149</td>\n",
       "      <td>2</td>\n",
       "    </tr>\n",
       "    <tr>\n",
       "      <th>13</th>\n",
       "      <td>47.555193</td>\n",
       "      <td>-122.326003</td>\n",
       "      <td>Georgetown Brewing Co</td>\n",
       "      <td>4.8</td>\n",
       "      <td>235</td>\n",
       "      <td>3</td>\n",
       "    </tr>\n",
       "    <tr>\n",
       "      <th>14</th>\n",
       "      <td>47.553610</td>\n",
       "      <td>-122.320952</td>\n",
       "      <td>Elysian Taproom</td>\n",
       "      <td>4.6</td>\n",
       "      <td>41</td>\n",
       "      <td>3</td>\n",
       "    </tr>\n",
       "    <tr>\n",
       "      <th>15</th>\n",
       "      <td>47.553266</td>\n",
       "      <td>-122.320362</td>\n",
       "      <td>Elysian Airport Way Brewery</td>\n",
       "      <td>4.6</td>\n",
       "      <td>26</td>\n",
       "      <td>3</td>\n",
       "    </tr>\n",
       "  </tbody>\n",
       "</table>\n",
       "</div>"
      ],
      "text/plain": [
       "          lat         lng                            name  rating  \\\n",
       "0   47.612800 -122.320533        Optimism Brewing Company     4.6   \n",
       "1   47.613939 -122.315894    Elysian Capitol Hill Brewery     4.1   \n",
       "2   47.614286 -122.322711                 Redhook Brewlab     4.4   \n",
       "3   47.618026 -122.316620      Outer Planet Craft Brewing     4.6   \n",
       "4   47.597074 -122.333819                  Elysian Fields     3.8   \n",
       "5   47.608232 -122.339743        The Pike Brewing Company     4.2   \n",
       "6   47.608124 -122.341142  Road Dog Tours - Brewery Tours     4.2   \n",
       "7   47.609518 -122.341343            Rachel's Ginger Beer     4.6   \n",
       "8   47.611570 -122.345288              Cloudburst Brewing     4.6   \n",
       "9   47.576368 -122.333987       Ghostfish Brewing Company     4.6   \n",
       "10  47.576039 -122.335518         Seapine Brewing Company     4.8   \n",
       "11  47.567723 -122.335484        Schooner Brewing Company     4.5   \n",
       "12  47.560557 -122.337498           Two Beers Brewing Co.     4.7   \n",
       "13  47.555193 -122.326003           Georgetown Brewing Co     4.8   \n",
       "14  47.553610 -122.320952                 Elysian Taproom     4.6   \n",
       "15  47.553266 -122.320362     Elysian Airport Way Brewery     4.6   \n",
       "\n",
       "    user_ratings_total label  \n",
       "0                  814     0  \n",
       "1                  450     0  \n",
       "2                  322     0  \n",
       "3                  125     0  \n",
       "4                  375     1  \n",
       "5                 1169     1  \n",
       "6                   17     1  \n",
       "7                  322     1  \n",
       "8                  475     1  \n",
       "9                  476     2  \n",
       "10                 210     2  \n",
       "11                 133     2  \n",
       "12                 149     2  \n",
       "13                 235     3  \n",
       "14                  41     3  \n",
       "15                  26     3  "
      ]
     },
     "metadata": {},
     "output_type": "display_data"
    }
   ],
   "source": [
    "df = gp.build_df(loc, topic)\n",
    "display(df)"
   ]
  },
  {
   "cell_type": "code",
   "execution_count": 198,
   "metadata": {},
   "outputs": [
    {
     "name": "stderr",
     "output_type": "stream",
     "text": [
      "/Users/dakaspar/flatiron/meander_maker/goplaces.py:263: SettingWithCopyWarning:\n",
      "\n",
      "\n",
      "A value is trying to be set on a copy of a slice from a DataFrame.\n",
      "Try using .loc[row_indexer,col_indexer] = value instead\n",
      "\n",
      "See the caveats in the documentation: http://pandas.pydata.org/pandas-docs/stable/indexing.html#indexing-view-versus-copy\n",
      "\n"
     ]
    },
    {
     "data": {
      "text/html": [
       "<div>\n",
       "<style scoped>\n",
       "    .dataframe tbody tr th:only-of-type {\n",
       "        vertical-align: middle;\n",
       "    }\n",
       "\n",
       "    .dataframe tbody tr th {\n",
       "        vertical-align: top;\n",
       "    }\n",
       "\n",
       "    .dataframe thead th {\n",
       "        text-align: right;\n",
       "    }\n",
       "</style>\n",
       "<table border=\"1\" class=\"dataframe\">\n",
       "  <thead>\n",
       "    <tr style=\"text-align: right;\">\n",
       "      <th></th>\n",
       "      <th>lat</th>\n",
       "      <th>lng</th>\n",
       "      <th>name</th>\n",
       "      <th>rating</th>\n",
       "      <th>user_ratings_total</th>\n",
       "      <th>label</th>\n",
       "      <th>dist_to_loc</th>\n",
       "    </tr>\n",
       "  </thead>\n",
       "  <tbody>\n",
       "    <tr>\n",
       "      <th>4</th>\n",
       "      <td>47.597074</td>\n",
       "      <td>-122.333819</td>\n",
       "      <td>Elysian Fields</td>\n",
       "      <td>3.8</td>\n",
       "      <td>375</td>\n",
       "      <td>1</td>\n",
       "      <td>1298.889457</td>\n",
       "    </tr>\n",
       "    <tr>\n",
       "      <th>5</th>\n",
       "      <td>47.608232</td>\n",
       "      <td>-122.339743</td>\n",
       "      <td>The Pike Brewing Company</td>\n",
       "      <td>4.2</td>\n",
       "      <td>1169</td>\n",
       "      <td>1</td>\n",
       "      <td>1790.600602</td>\n",
       "    </tr>\n",
       "    <tr>\n",
       "      <th>6</th>\n",
       "      <td>47.608124</td>\n",
       "      <td>-122.341142</td>\n",
       "      <td>Road Dog Tours - Brewery Tours</td>\n",
       "      <td>4.2</td>\n",
       "      <td>17</td>\n",
       "      <td>1</td>\n",
       "      <td>1882.328704</td>\n",
       "    </tr>\n",
       "    <tr>\n",
       "      <th>7</th>\n",
       "      <td>47.609518</td>\n",
       "      <td>-122.341343</td>\n",
       "      <td>Rachel's Ginger Beer</td>\n",
       "      <td>4.6</td>\n",
       "      <td>322</td>\n",
       "      <td>1</td>\n",
       "      <td>1959.901046</td>\n",
       "    </tr>\n",
       "    <tr>\n",
       "      <th>8</th>\n",
       "      <td>47.611570</td>\n",
       "      <td>-122.345288</td>\n",
       "      <td>Cloudburst Brewing</td>\n",
       "      <td>4.6</td>\n",
       "      <td>475</td>\n",
       "      <td>1</td>\n",
       "      <td>2327.345602</td>\n",
       "    </tr>\n",
       "  </tbody>\n",
       "</table>\n",
       "</div>"
      ],
      "text/plain": [
       "         lat         lng                            name  rating  \\\n",
       "4  47.597074 -122.333819                  Elysian Fields     3.8   \n",
       "5  47.608232 -122.339743        The Pike Brewing Company     4.2   \n",
       "6  47.608124 -122.341142  Road Dog Tours - Brewery Tours     4.2   \n",
       "7  47.609518 -122.341343            Rachel's Ginger Beer     4.6   \n",
       "8  47.611570 -122.345288              Cloudburst Brewing     4.6   \n",
       "\n",
       "   user_ratings_total label  dist_to_loc  \n",
       "4                 375     1  1298.889457  \n",
       "5                1169     1  1790.600602  \n",
       "6                  17     1  1882.328704  \n",
       "7                 322     1  1959.901046  \n",
       "8                 475     1  2327.345602  "
      ]
     },
     "metadata": {},
     "output_type": "display_data"
    }
   ],
   "source": [
    "wlk = gp.meander(df, loc, mode='walking', verbose=False)\n",
    "gp.html_builder(loc, wlk, tab=True)"
   ]
  },
  {
   "cell_type": "markdown",
   "metadata": {},
   "source": [
    "---------TESTING-----------"
   ]
  },
  {
   "cell_type": "code",
   "execution_count": null,
   "metadata": {},
   "outputs": [],
   "source": [
    "'1234567890'*8"
   ]
  },
  {
   "cell_type": "code",
   "execution_count": 195,
   "metadata": {},
   "outputs": [],
   "source": [
    "import hdbscan\n",
    "from haversine import haversine\n",
    "import pandas as pd\n",
    "import seaborn as sns\n",
    "import googlemaps\n",
    "import gmplot\n",
    "import plotly_express as px"
   ]
  },
  {
   "cell_type": "code",
   "execution_count": 113,
   "metadata": {},
   "outputs": [
    {
     "data": {
      "text/plain": [
       "dict_keys(['googlemaps', 'mapbox'])"
      ]
     },
     "execution_count": 113,
     "metadata": {},
     "output_type": "execute_result"
    }
   ],
   "source": [
    "import ast\n",
    "with open('.secret.key', 'r') as f:\n",
    "    api_keys = ast.literal_eval(f.read().strip())\n",
    "api_keys.keys()"
   ]
  },
  {
   "cell_type": "code",
   "execution_count": 50,
   "metadata": {},
   "outputs": [],
   "source": [
    "gmaps = googlemaps.Client(key=api_keys['googlemaps'])"
   ]
  },
  {
   "cell_type": "code",
   "execution_count": 122,
   "metadata": {},
   "outputs": [
    {
     "name": "stdin",
     "output_type": "stream",
     "text": [
      "Where would you like to start? Yesler Way & Boren Ave\n",
      "What theme would you like to explore today? breweries\n"
     ]
    }
   ],
   "source": [
    "loc, topic = gp.populate_inputs()"
   ]
  },
  {
   "cell_type": "code",
   "execution_count": 123,
   "metadata": {},
   "outputs": [],
   "source": [
    "df = gp.build_df(loc, topic)"
   ]
  },
  {
   "cell_type": "code",
   "execution_count": 124,
   "metadata": {},
   "outputs": [
    {
     "data": {
      "text/html": [
       "<div>\n",
       "<style scoped>\n",
       "    .dataframe tbody tr th:only-of-type {\n",
       "        vertical-align: middle;\n",
       "    }\n",
       "\n",
       "    .dataframe tbody tr th {\n",
       "        vertical-align: top;\n",
       "    }\n",
       "\n",
       "    .dataframe thead th {\n",
       "        text-align: right;\n",
       "    }\n",
       "</style>\n",
       "<table border=\"1\" class=\"dataframe\">\n",
       "  <thead>\n",
       "    <tr style=\"text-align: right;\">\n",
       "      <th></th>\n",
       "      <th>lat</th>\n",
       "      <th>lng</th>\n",
       "      <th>name</th>\n",
       "      <th>rating</th>\n",
       "      <th>user_ratings_total</th>\n",
       "      <th>label</th>\n",
       "    </tr>\n",
       "  </thead>\n",
       "  <tbody>\n",
       "    <tr>\n",
       "      <th>0</th>\n",
       "      <td>47.612800</td>\n",
       "      <td>-122.320533</td>\n",
       "      <td>Optimism Brewing Company</td>\n",
       "      <td>4.6</td>\n",
       "      <td>814</td>\n",
       "      <td>0</td>\n",
       "    </tr>\n",
       "    <tr>\n",
       "      <th>1</th>\n",
       "      <td>47.613939</td>\n",
       "      <td>-122.315894</td>\n",
       "      <td>Elysian Capitol Hill Brewery</td>\n",
       "      <td>4.1</td>\n",
       "      <td>450</td>\n",
       "      <td>0</td>\n",
       "    </tr>\n",
       "    <tr>\n",
       "      <th>2</th>\n",
       "      <td>47.614286</td>\n",
       "      <td>-122.322711</td>\n",
       "      <td>Redhook Brewlab</td>\n",
       "      <td>4.4</td>\n",
       "      <td>322</td>\n",
       "      <td>0</td>\n",
       "    </tr>\n",
       "    <tr>\n",
       "      <th>3</th>\n",
       "      <td>47.618026</td>\n",
       "      <td>-122.316620</td>\n",
       "      <td>Outer Planet Craft Brewing</td>\n",
       "      <td>4.6</td>\n",
       "      <td>125</td>\n",
       "      <td>0</td>\n",
       "    </tr>\n",
       "    <tr>\n",
       "      <th>4</th>\n",
       "      <td>47.597074</td>\n",
       "      <td>-122.333819</td>\n",
       "      <td>Elysian Fields</td>\n",
       "      <td>3.8</td>\n",
       "      <td>375</td>\n",
       "      <td>1</td>\n",
       "    </tr>\n",
       "    <tr>\n",
       "      <th>5</th>\n",
       "      <td>47.608232</td>\n",
       "      <td>-122.339743</td>\n",
       "      <td>The Pike Brewing Company</td>\n",
       "      <td>4.2</td>\n",
       "      <td>1169</td>\n",
       "      <td>1</td>\n",
       "    </tr>\n",
       "    <tr>\n",
       "      <th>6</th>\n",
       "      <td>47.608124</td>\n",
       "      <td>-122.341142</td>\n",
       "      <td>Road Dog Tours - Brewery Tours</td>\n",
       "      <td>4.2</td>\n",
       "      <td>17</td>\n",
       "      <td>1</td>\n",
       "    </tr>\n",
       "    <tr>\n",
       "      <th>7</th>\n",
       "      <td>47.609518</td>\n",
       "      <td>-122.341343</td>\n",
       "      <td>Rachel's Ginger Beer</td>\n",
       "      <td>4.6</td>\n",
       "      <td>322</td>\n",
       "      <td>1</td>\n",
       "    </tr>\n",
       "    <tr>\n",
       "      <th>8</th>\n",
       "      <td>47.611570</td>\n",
       "      <td>-122.345288</td>\n",
       "      <td>Cloudburst Brewing</td>\n",
       "      <td>4.6</td>\n",
       "      <td>475</td>\n",
       "      <td>1</td>\n",
       "    </tr>\n",
       "    <tr>\n",
       "      <th>9</th>\n",
       "      <td>47.576368</td>\n",
       "      <td>-122.333987</td>\n",
       "      <td>Ghostfish Brewing Company</td>\n",
       "      <td>4.6</td>\n",
       "      <td>476</td>\n",
       "      <td>2</td>\n",
       "    </tr>\n",
       "    <tr>\n",
       "      <th>10</th>\n",
       "      <td>47.576039</td>\n",
       "      <td>-122.335518</td>\n",
       "      <td>Seapine Brewing Company</td>\n",
       "      <td>4.8</td>\n",
       "      <td>210</td>\n",
       "      <td>2</td>\n",
       "    </tr>\n",
       "    <tr>\n",
       "      <th>11</th>\n",
       "      <td>47.567723</td>\n",
       "      <td>-122.335484</td>\n",
       "      <td>Schooner Brewing Company</td>\n",
       "      <td>4.5</td>\n",
       "      <td>133</td>\n",
       "      <td>2</td>\n",
       "    </tr>\n",
       "    <tr>\n",
       "      <th>12</th>\n",
       "      <td>47.560557</td>\n",
       "      <td>-122.337498</td>\n",
       "      <td>Two Beers Brewing Co.</td>\n",
       "      <td>4.7</td>\n",
       "      <td>149</td>\n",
       "      <td>2</td>\n",
       "    </tr>\n",
       "    <tr>\n",
       "      <th>13</th>\n",
       "      <td>47.555193</td>\n",
       "      <td>-122.326003</td>\n",
       "      <td>Georgetown Brewing Co</td>\n",
       "      <td>4.8</td>\n",
       "      <td>235</td>\n",
       "      <td>3</td>\n",
       "    </tr>\n",
       "    <tr>\n",
       "      <th>14</th>\n",
       "      <td>47.553610</td>\n",
       "      <td>-122.320952</td>\n",
       "      <td>Elysian Taproom</td>\n",
       "      <td>4.6</td>\n",
       "      <td>41</td>\n",
       "      <td>3</td>\n",
       "    </tr>\n",
       "    <tr>\n",
       "      <th>15</th>\n",
       "      <td>47.553266</td>\n",
       "      <td>-122.320362</td>\n",
       "      <td>Elysian Airport Way Brewery</td>\n",
       "      <td>4.6</td>\n",
       "      <td>26</td>\n",
       "      <td>3</td>\n",
       "    </tr>\n",
       "  </tbody>\n",
       "</table>\n",
       "</div>"
      ],
      "text/plain": [
       "          lat         lng                            name  rating  \\\n",
       "0   47.612800 -122.320533        Optimism Brewing Company     4.6   \n",
       "1   47.613939 -122.315894    Elysian Capitol Hill Brewery     4.1   \n",
       "2   47.614286 -122.322711                 Redhook Brewlab     4.4   \n",
       "3   47.618026 -122.316620      Outer Planet Craft Brewing     4.6   \n",
       "4   47.597074 -122.333819                  Elysian Fields     3.8   \n",
       "5   47.608232 -122.339743        The Pike Brewing Company     4.2   \n",
       "6   47.608124 -122.341142  Road Dog Tours - Brewery Tours     4.2   \n",
       "7   47.609518 -122.341343            Rachel's Ginger Beer     4.6   \n",
       "8   47.611570 -122.345288              Cloudburst Brewing     4.6   \n",
       "9   47.576368 -122.333987       Ghostfish Brewing Company     4.6   \n",
       "10  47.576039 -122.335518         Seapine Brewing Company     4.8   \n",
       "11  47.567723 -122.335484        Schooner Brewing Company     4.5   \n",
       "12  47.560557 -122.337498           Two Beers Brewing Co.     4.7   \n",
       "13  47.555193 -122.326003           Georgetown Brewing Co     4.8   \n",
       "14  47.553610 -122.320952                 Elysian Taproom     4.6   \n",
       "15  47.553266 -122.320362     Elysian Airport Way Brewery     4.6   \n",
       "\n",
       "    user_ratings_total  label  \n",
       "0                  814      0  \n",
       "1                  450      0  \n",
       "2                  322      0  \n",
       "3                  125      0  \n",
       "4                  375      1  \n",
       "5                 1169      1  \n",
       "6                   17      1  \n",
       "7                  322      1  \n",
       "8                  475      1  \n",
       "9                  476      2  \n",
       "10                 210      2  \n",
       "11                 133      2  \n",
       "12                 149      2  \n",
       "13                 235      3  \n",
       "14                  41      3  \n",
       "15                  26      3  "
      ]
     },
     "execution_count": 124,
     "metadata": {},
     "output_type": "execute_result"
    }
   ],
   "source": [
    "df"
   ]
  },
  {
   "cell_type": "code",
   "execution_count": 142,
   "metadata": {},
   "outputs": [
    {
     "data": {
      "text/plain": [
       "['rgb(95, 70, 144)',\n",
       " 'rgb(29, 105, 150)',\n",
       " 'rgb(56, 166, 165)',\n",
       " 'rgb(15, 133, 84)',\n",
       " 'rgb(115, 175, 72)',\n",
       " 'rgb(237, 173, 8)',\n",
       " 'rgb(225, 124, 5)',\n",
       " 'rgb(204, 80, 62)',\n",
       " 'rgb(148, 52, 110)',\n",
       " 'rgb(111, 64, 112)',\n",
       " 'rgb(102, 102, 102)']"
      ]
     },
     "execution_count": 142,
     "metadata": {},
     "output_type": "execute_result"
    }
   ],
   "source": [
    "color_seq = px.colors.carto.Prism\n",
    "color_seq"
   ]
  },
  {
   "cell_type": "code",
   "execution_count": 151,
   "metadata": {},
   "outputs": [
    {
     "data": {
      "text/html": [
       "        <script type=\"text/javascript\">\n",
       "        window.PlotlyConfig = {MathJaxConfig: 'local'};\n",
       "        if (window.MathJax) {MathJax.Hub.Config({SVG: {font: \"STIX-Web\"}});}\n",
       "        if (typeof require !== 'undefined') {\n",
       "        require.undef(\"plotly\");\n",
       "        requirejs.config({\n",
       "            paths: {\n",
       "                'plotly': ['https://cdn.plot.ly/plotly-latest.min']\n",
       "            }\n",
       "        });\n",
       "        require(['plotly'], function(Plotly) {\n",
       "            window._Plotly = Plotly;\n",
       "        });\n",
       "        }\n",
       "        </script>\n",
       "        "
      ]
     },
     "metadata": {},
     "output_type": "display_data"
    },
    {
     "data": {
      "application/vnd.plotly.v1+json": {
       "config": {
        "linkText": "Export to plot.ly",
        "plotlyServerURL": "https://plot.ly",
        "responsive": true,
        "showLink": false
       },
       "data": [
        {
         "hoverlabel": {
          "namelength": 0
         },
         "hovertemplate": "<b>%{hovertext}</b><br><br>label=0<br>lat=%{lat}<br>lng=%{lon}",
         "hovertext": [
          [
           "Optimism Brewing Company",
           4.6
          ],
          [
           "Elysian Capitol Hill Brewery",
           4.1
          ],
          [
           "Redhook Brewlab",
           4.4
          ],
          [
           "Outer Planet Craft Brewing",
           4.6
          ]
         ],
         "lat": [
          47.6128,
          47.61393940000001,
          47.6142858,
          47.618026
         ],
         "legendgroup": "label=0",
         "lon": [
          -122.3205327,
          -122.3158939,
          -122.322711,
          -122.3166198
         ],
         "marker": {
          "color": "#636efa"
         },
         "mode": "markers",
         "name": "label=0",
         "showlegend": true,
         "type": "scattermapbox",
         "uid": "8192d9e9-93fc-4b00-8317-c3c422d5d20e"
        },
        {
         "hoverlabel": {
          "namelength": 0
         },
         "hovertemplate": "<b>%{hovertext}</b><br><br>label=1<br>lat=%{lat}<br>lng=%{lon}",
         "hovertext": [
          [
           "Elysian Fields",
           3.8
          ],
          [
           "The Pike Brewing Company",
           4.2
          ],
          [
           "Road Dog Tours - Brewery Tours",
           4.2
          ],
          [
           "Rachel's Ginger Beer",
           4.6
          ],
          [
           "Cloudburst Brewing",
           4.6
          ]
         ],
         "lat": [
          47.597074,
          47.608232,
          47.6081237,
          47.6095175,
          47.61157
         ],
         "legendgroup": "label=1",
         "lon": [
          -122.3338191,
          -122.339743,
          -122.3411417,
          -122.3413427,
          -122.345288
         ],
         "marker": {
          "color": "#EF553B"
         },
         "mode": "markers",
         "name": "label=1",
         "showlegend": true,
         "type": "scattermapbox",
         "uid": "a29d39f3-15b5-440d-915c-4bfed0792540"
        },
        {
         "hoverlabel": {
          "namelength": 0
         },
         "hovertemplate": "<b>%{hovertext}</b><br><br>label=2<br>lat=%{lat}<br>lng=%{lon}",
         "hovertext": [
          [
           "Ghostfish Brewing Company",
           4.6
          ],
          [
           "Seapine Brewing Company",
           4.8
          ],
          [
           "Schooner Brewing Company",
           4.5
          ],
          [
           "Two Beers Brewing Co.",
           4.7
          ]
         ],
         "lat": [
          47.5763681,
          47.5760387,
          47.5677235,
          47.5605572
         ],
         "legendgroup": "label=2",
         "lon": [
          -122.3339866,
          -122.3355181,
          -122.3354842,
          -122.3374981
         ],
         "marker": {
          "color": "#00cc96"
         },
         "mode": "markers",
         "name": "label=2",
         "showlegend": true,
         "type": "scattermapbox",
         "uid": "9988fc5e-f369-41e0-8025-20f339acae14"
        },
        {
         "hoverlabel": {
          "namelength": 0
         },
         "hovertemplate": "<b>%{hovertext}</b><br><br>label=3<br>lat=%{lat}<br>lng=%{lon}",
         "hovertext": [
          [
           "Georgetown Brewing Co",
           4.8
          ],
          [
           "Elysian Taproom",
           4.6
          ],
          [
           "Elysian Airport Way Brewery",
           4.6
          ]
         ],
         "lat": [
          47.5551927,
          47.5536097,
          47.5532662
         ],
         "legendgroup": "label=3",
         "lon": [
          -122.3260025,
          -122.320952,
          -122.3203619
         ],
         "marker": {
          "color": "#ab63fa"
         },
         "mode": "markers",
         "name": "label=3",
         "showlegend": true,
         "type": "scattermapbox",
         "uid": "b3774225-ee43-4060-b9ca-a96e8f7ac246"
        }
       ],
       "layout": {
        "height": 600,
        "legend": {
         "tracegroupgap": 0
        },
        "mapbox": {
         "accesstoken": "pk.eyJ1IjoidXB3YXJkdHJhamVjdG9yeSIsImEiOiJjanhtaHFxNjUwMGs0M2Nwd2U3dnd1MG50In0.Sr1UPnw0POudUmyXif59pA",
         "bearing": 0,
         "center": {
          "lat": 47.58096409441171,
          "lon": -122.33249039612019
         },
         "pitch": 0,
         "zoom": 11.048413920626633
        },
        "margin": {
         "t": 60
        },
        "template": {
         "data": {
          "bar": [
           {
            "marker": {
             "line": {
              "color": "#E5ECF6",
              "width": 0.5
             }
            },
            "type": "bar"
           }
          ],
          "barpolar": [
           {
            "marker": {
             "line": {
              "color": "#E5ECF6",
              "width": 0.5
             }
            },
            "type": "barpolar"
           }
          ],
          "carpet": [
           {
            "aaxis": {
             "endlinecolor": "#2a3f5f",
             "gridcolor": "white",
             "linecolor": "white",
             "minorgridcolor": "white",
             "startlinecolor": "#2a3f5f"
            },
            "baxis": {
             "endlinecolor": "#2a3f5f",
             "gridcolor": "white",
             "linecolor": "white",
             "minorgridcolor": "white",
             "startlinecolor": "#2a3f5f"
            },
            "type": "carpet"
           }
          ],
          "choropleth": [
           {
            "colorbar": {
             "outlinewidth": 0,
             "ticks": ""
            },
            "type": "choropleth"
           }
          ],
          "contour": [
           {
            "autocolorscale": true,
            "colorbar": {
             "outlinewidth": 0,
             "ticks": ""
            },
            "type": "contour"
           }
          ],
          "contourcarpet": [
           {
            "colorbar": {
             "outlinewidth": 0,
             "ticks": ""
            },
            "type": "contourcarpet"
           }
          ],
          "heatmap": [
           {
            "autocolorscale": true,
            "colorbar": {
             "outlinewidth": 0,
             "ticks": ""
            },
            "type": "heatmap"
           }
          ],
          "heatmapgl": [
           {
            "colorbar": {
             "outlinewidth": 0,
             "ticks": ""
            },
            "type": "heatmapgl"
           }
          ],
          "histogram": [
           {
            "marker": {
             "colorbar": {
              "outlinewidth": 0,
              "ticks": ""
             }
            },
            "type": "histogram"
           }
          ],
          "histogram2d": [
           {
            "autocolorscale": true,
            "colorbar": {
             "outlinewidth": 0,
             "ticks": ""
            },
            "type": "histogram2d"
           }
          ],
          "histogram2dcontour": [
           {
            "autocolorscale": true,
            "colorbar": {
             "outlinewidth": 0,
             "ticks": ""
            },
            "type": "histogram2dcontour"
           }
          ],
          "mesh3d": [
           {
            "colorbar": {
             "outlinewidth": 0,
             "ticks": ""
            },
            "type": "mesh3d"
           }
          ],
          "parcoords": [
           {
            "line": {
             "colorbar": {
              "outlinewidth": 0,
              "ticks": ""
             }
            },
            "type": "parcoords"
           }
          ],
          "scatter": [
           {
            "marker": {
             "colorbar": {
              "outlinewidth": 0,
              "ticks": ""
             }
            },
            "type": "scatter"
           }
          ],
          "scatter3d": [
           {
            "marker": {
             "colorbar": {
              "outlinewidth": 0,
              "ticks": ""
             }
            },
            "type": "scatter3d"
           }
          ],
          "scattercarpet": [
           {
            "marker": {
             "colorbar": {
              "outlinewidth": 0,
              "ticks": ""
             }
            },
            "type": "scattercarpet"
           }
          ],
          "scattergeo": [
           {
            "marker": {
             "colorbar": {
              "outlinewidth": 0,
              "ticks": ""
             }
            },
            "type": "scattergeo"
           }
          ],
          "scattergl": [
           {
            "marker": {
             "colorbar": {
              "outlinewidth": 0,
              "ticks": ""
             }
            },
            "type": "scattergl"
           }
          ],
          "scattermapbox": [
           {
            "marker": {
             "colorbar": {
              "outlinewidth": 0,
              "ticks": ""
             }
            },
            "type": "scattermapbox"
           }
          ],
          "scatterpolar": [
           {
            "marker": {
             "colorbar": {
              "outlinewidth": 0,
              "ticks": ""
             }
            },
            "type": "scatterpolar"
           }
          ],
          "scatterpolargl": [
           {
            "marker": {
             "colorbar": {
              "outlinewidth": 0,
              "ticks": ""
             }
            },
            "type": "scatterpolargl"
           }
          ],
          "scatterternary": [
           {
            "marker": {
             "colorbar": {
              "outlinewidth": 0,
              "ticks": ""
             }
            },
            "type": "scatterternary"
           }
          ],
          "surface": [
           {
            "colorbar": {
             "outlinewidth": 0,
             "ticks": ""
            },
            "type": "surface"
           }
          ],
          "table": [
           {
            "cells": {
             "fill": {
              "color": "#EBF0F8"
             },
             "line": {
              "color": "white"
             }
            },
            "header": {
             "fill": {
              "color": "#C8D4E3"
             },
             "line": {
              "color": "white"
             }
            },
            "type": "table"
           }
          ]
         },
         "layout": {
          "annotationdefaults": {
           "arrowcolor": "#506784",
           "arrowhead": 0,
           "arrowwidth": 1
          },
          "colorscale": {
           "diverging": [
            [
             0,
             "#8e0152"
            ],
            [
             0.1,
             "#c51b7d"
            ],
            [
             0.2,
             "#de77ae"
            ],
            [
             0.3,
             "#f1b6da"
            ],
            [
             0.4,
             "#fde0ef"
            ],
            [
             0.5,
             "#f7f7f7"
            ],
            [
             0.6,
             "#e6f5d0"
            ],
            [
             0.7,
             "#b8e186"
            ],
            [
             0.8,
             "#7fbc41"
            ],
            [
             0.9,
             "#4d9221"
            ],
            [
             1,
             "#276419"
            ]
           ],
           "sequential": [
            [
             0,
             "#0508b8"
            ],
            [
             0.0893854748603352,
             "#1910d8"
            ],
            [
             0.1787709497206704,
             "#3c19f0"
            ],
            [
             0.2681564245810056,
             "#6b1cfb"
            ],
            [
             0.3575418994413408,
             "#981cfd"
            ],
            [
             0.44692737430167595,
             "#bf1cfd"
            ],
            [
             0.5363128491620112,
             "#dd2bfd"
            ],
            [
             0.6256983240223464,
             "#f246fe"
            ],
            [
             0.7150837988826816,
             "#fc67fd"
            ],
            [
             0.8044692737430168,
             "#fe88fc"
            ],
            [
             0.8938547486033519,
             "#fea5fd"
            ],
            [
             0.9832402234636871,
             "#febefe"
            ],
            [
             1,
             "#fec3fe"
            ]
           ],
           "sequentialminus": [
            [
             0,
             "#0508b8"
            ],
            [
             0.0893854748603352,
             "#1910d8"
            ],
            [
             0.1787709497206704,
             "#3c19f0"
            ],
            [
             0.2681564245810056,
             "#6b1cfb"
            ],
            [
             0.3575418994413408,
             "#981cfd"
            ],
            [
             0.44692737430167595,
             "#bf1cfd"
            ],
            [
             0.5363128491620112,
             "#dd2bfd"
            ],
            [
             0.6256983240223464,
             "#f246fe"
            ],
            [
             0.7150837988826816,
             "#fc67fd"
            ],
            [
             0.8044692737430168,
             "#fe88fc"
            ],
            [
             0.8938547486033519,
             "#fea5fd"
            ],
            [
             0.9832402234636871,
             "#febefe"
            ],
            [
             1,
             "#fec3fe"
            ]
           ]
          },
          "colorway": [
           "#636efa",
           "#EF553B",
           "#00cc96",
           "#ab63fa",
           "#19d3f3",
           "#e763fa",
           "#FECB52",
           "#FFA15A",
           "#FF6692",
           "#B6E880"
          ],
          "font": {
           "color": "#2a3f5f"
          },
          "geo": {
           "bgcolor": "white",
           "lakecolor": "white",
           "landcolor": "#E5ECF6",
           "showlakes": true,
           "showland": true,
           "subunitcolor": "white"
          },
          "hoverlabel": {
           "align": "left"
          },
          "hovermode": "closest",
          "mapbox": {
           "style": "light"
          },
          "paper_bgcolor": "white",
          "plot_bgcolor": "#E5ECF6",
          "polar": {
           "angularaxis": {
            "gridcolor": "white",
            "linecolor": "white",
            "ticks": ""
           },
           "bgcolor": "#E5ECF6",
           "radialaxis": {
            "gridcolor": "white",
            "linecolor": "white",
            "ticks": ""
           }
          },
          "scene": {
           "xaxis": {
            "backgroundcolor": "#E5ECF6",
            "gridcolor": "white",
            "gridwidth": 2,
            "linecolor": "white",
            "showbackground": true,
            "ticks": "",
            "zerolinecolor": "white"
           },
           "yaxis": {
            "backgroundcolor": "#E5ECF6",
            "gridcolor": "white",
            "gridwidth": 2,
            "linecolor": "white",
            "showbackground": true,
            "ticks": "",
            "zerolinecolor": "white"
           },
           "zaxis": {
            "backgroundcolor": "#E5ECF6",
            "gridcolor": "white",
            "gridwidth": 2,
            "linecolor": "white",
            "showbackground": true,
            "ticks": "",
            "zerolinecolor": "white"
           }
          },
          "shapedefaults": {
           "fillcolor": "#506784",
           "line": {
            "width": 0
           },
           "opacity": 0.4
          },
          "ternary": {
           "aaxis": {
            "gridcolor": "white",
            "linecolor": "white",
            "ticks": ""
           },
           "baxis": {
            "gridcolor": "white",
            "linecolor": "white",
            "ticks": ""
           },
           "bgcolor": "#E5ECF6",
           "caxis": {
            "gridcolor": "white",
            "linecolor": "white",
            "ticks": ""
           }
          },
          "title": {
           "x": 0.05
          },
          "xaxis": {
           "automargin": true,
           "gridcolor": "white",
           "linecolor": "white",
           "ticks": "",
           "zerolinecolor": "white",
           "zerolinewidth": 2
          },
          "yaxis": {
           "automargin": true,
           "gridcolor": "white",
           "linecolor": "white",
           "ticks": "",
           "zerolinecolor": "white",
           "zerolinewidth": 2
          }
         }
        },
        "width": 600
       }
      },
      "image/png": "[encoded data removed]",
      "text/html": [
       "<div>\n",
       "        \n",
       "        \n",
       "            <div id=\"2ce53ec7-db0a-40df-a85c-e8cb96510c5a\" class=\"plotly-graph-div\" style=\"height:600px; width:600px;\"></div>\n",
       "            <script type=\"text/javascript\">\n",
       "                require([\"plotly\"], function(Plotly) {\n",
       "                    window.PLOTLYENV=window.PLOTLYENV || {};\n",
       "                    window.PLOTLYENV.BASE_URL='https://plot.ly';\n",
       "                    \n",
       "                if (document.getElementById(\"2ce53ec7-db0a-40df-a85c-e8cb96510c5a\")) {\n",
       "                    Plotly.newPlot(\n",
       "                        '2ce53ec7-db0a-40df-a85c-e8cb96510c5a',\n",
       "                        [{\"hoverlabel\": {\"namelength\": 0}, \"hovertemplate\": \"<b>%{hovertext}</b><br><br>label=0<br>lat=%{lat}<br>lng=%{lon}\", \"hovertext\": [[\"Optimism Brewing Company\", 4.6], [\"Elysian Capitol Hill Brewery\", 4.1], [\"Redhook Brewlab\", 4.4], [\"Outer Planet Craft Brewing\", 4.6]], \"lat\": [47.6128, 47.61393940000001, 47.6142858, 47.618026], \"legendgroup\": \"label=0\", \"lon\": [-122.3205327, -122.3158939, -122.322711, -122.3166198], \"marker\": {\"color\": \"#636efa\"}, \"mode\": \"markers\", \"name\": \"label=0\", \"showlegend\": true, \"type\": \"scattermapbox\", \"uid\": \"1ace8105-7336-4a4f-a35c-acb77ae81834\"}, {\"hoverlabel\": {\"namelength\": 0}, \"hovertemplate\": \"<b>%{hovertext}</b><br><br>label=1<br>lat=%{lat}<br>lng=%{lon}\", \"hovertext\": [[\"Elysian Fields\", 3.8], [\"The Pike Brewing Company\", 4.2], [\"Road Dog Tours - Brewery Tours\", 4.2], [\"Rachel's Ginger Beer\", 4.6], [\"Cloudburst Brewing\", 4.6]], \"lat\": [47.597074, 47.608232, 47.6081237, 47.6095175, 47.61157], \"legendgroup\": \"label=1\", \"lon\": [-122.3338191, -122.339743, -122.3411417, -122.3413427, -122.345288], \"marker\": {\"color\": \"#EF553B\"}, \"mode\": \"markers\", \"name\": \"label=1\", \"showlegend\": true, \"type\": \"scattermapbox\", \"uid\": \"44eb27a2-9d6d-4d20-8ca8-ee0aac0ba649\"}, {\"hoverlabel\": {\"namelength\": 0}, \"hovertemplate\": \"<b>%{hovertext}</b><br><br>label=2<br>lat=%{lat}<br>lng=%{lon}\", \"hovertext\": [[\"Ghostfish Brewing Company\", 4.6], [\"Seapine Brewing Company\", 4.8], [\"Schooner Brewing Company\", 4.5], [\"Two Beers Brewing Co.\", 4.7]], \"lat\": [47.5763681, 47.5760387, 47.5677235, 47.5605572], \"legendgroup\": \"label=2\", \"lon\": [-122.3339866, -122.3355181, -122.3354842, -122.3374981], \"marker\": {\"color\": \"#00cc96\"}, \"mode\": \"markers\", \"name\": \"label=2\", \"showlegend\": true, \"type\": \"scattermapbox\", \"uid\": \"0378d612-555a-432c-b11e-d54c7e518685\"}, {\"hoverlabel\": {\"namelength\": 0}, \"hovertemplate\": \"<b>%{hovertext}</b><br><br>label=3<br>lat=%{lat}<br>lng=%{lon}\", \"hovertext\": [[\"Georgetown Brewing Co\", 4.8], [\"Elysian Taproom\", 4.6], [\"Elysian Airport Way Brewery\", 4.6]], \"lat\": [47.5551927, 47.5536097, 47.5532662], \"legendgroup\": \"label=3\", \"lon\": [-122.3260025, -122.320952, -122.3203619], \"marker\": {\"color\": \"#ab63fa\"}, \"mode\": \"markers\", \"name\": \"label=3\", \"showlegend\": true, \"type\": \"scattermapbox\", \"uid\": \"3541de1d-d197-43d8-b779-0f9e6bc02354\"}],\n",
       "                        {\"height\": 600, \"legend\": {\"tracegroupgap\": 0}, \"mapbox\": {\"accesstoken\": \"pk.eyJ1IjoidXB3YXJkdHJhamVjdG9yeSIsImEiOiJjanhtaHFxNjUwMGs0M2Nwd2U3dnd1MG50In0.Sr1UPnw0POudUmyXif59pA\", \"center\": {\"lat\": 47.589770281250004, \"lon\": -122.33043095625}, \"zoom\": 8}, \"margin\": {\"t\": 60}, \"template\": {\"data\": {\"bar\": [{\"marker\": {\"line\": {\"color\": \"#E5ECF6\", \"width\": 0.5}}, \"type\": \"bar\"}], \"barpolar\": [{\"marker\": {\"line\": {\"color\": \"#E5ECF6\", \"width\": 0.5}}, \"type\": \"barpolar\"}], \"carpet\": [{\"aaxis\": {\"endlinecolor\": \"#2a3f5f\", \"gridcolor\": \"white\", \"linecolor\": \"white\", \"minorgridcolor\": \"white\", \"startlinecolor\": \"#2a3f5f\"}, \"baxis\": {\"endlinecolor\": \"#2a3f5f\", \"gridcolor\": \"white\", \"linecolor\": \"white\", \"minorgridcolor\": \"white\", \"startlinecolor\": \"#2a3f5f\"}, \"type\": \"carpet\"}], \"choropleth\": [{\"colorbar\": {\"outlinewidth\": 0, \"ticks\": \"\"}, \"type\": \"choropleth\"}], \"contour\": [{\"autocolorscale\": true, \"colorbar\": {\"outlinewidth\": 0, \"ticks\": \"\"}, \"type\": \"contour\"}], \"contourcarpet\": [{\"colorbar\": {\"outlinewidth\": 0, \"ticks\": \"\"}, \"type\": \"contourcarpet\"}], \"heatmap\": [{\"autocolorscale\": true, \"colorbar\": {\"outlinewidth\": 0, \"ticks\": \"\"}, \"type\": \"heatmap\"}], \"heatmapgl\": [{\"colorbar\": {\"outlinewidth\": 0, \"ticks\": \"\"}, \"type\": \"heatmapgl\"}], \"histogram\": [{\"marker\": {\"colorbar\": {\"outlinewidth\": 0, \"ticks\": \"\"}}, \"type\": \"histogram\"}], \"histogram2d\": [{\"autocolorscale\": true, \"colorbar\": {\"outlinewidth\": 0, \"ticks\": \"\"}, \"type\": \"histogram2d\"}], \"histogram2dcontour\": [{\"autocolorscale\": true, \"colorbar\": {\"outlinewidth\": 0, \"ticks\": \"\"}, \"type\": \"histogram2dcontour\"}], \"mesh3d\": [{\"colorbar\": {\"outlinewidth\": 0, \"ticks\": \"\"}, \"type\": \"mesh3d\"}], \"parcoords\": [{\"line\": {\"colorbar\": {\"outlinewidth\": 0, \"ticks\": \"\"}}, \"type\": \"parcoords\"}], \"scatter\": [{\"marker\": {\"colorbar\": {\"outlinewidth\": 0, \"ticks\": \"\"}}, \"type\": \"scatter\"}], \"scatter3d\": [{\"marker\": {\"colorbar\": {\"outlinewidth\": 0, \"ticks\": \"\"}}, \"type\": \"scatter3d\"}], \"scattercarpet\": [{\"marker\": {\"colorbar\": {\"outlinewidth\": 0, \"ticks\": \"\"}}, \"type\": \"scattercarpet\"}], \"scattergeo\": [{\"marker\": {\"colorbar\": {\"outlinewidth\": 0, \"ticks\": \"\"}}, \"type\": \"scattergeo\"}], \"scattergl\": [{\"marker\": {\"colorbar\": {\"outlinewidth\": 0, \"ticks\": \"\"}}, \"type\": \"scattergl\"}], \"scattermapbox\": [{\"marker\": {\"colorbar\": {\"outlinewidth\": 0, \"ticks\": \"\"}}, \"type\": \"scattermapbox\"}], \"scatterpolar\": [{\"marker\": {\"colorbar\": {\"outlinewidth\": 0, \"ticks\": \"\"}}, \"type\": \"scatterpolar\"}], \"scatterpolargl\": [{\"marker\": {\"colorbar\": {\"outlinewidth\": 0, \"ticks\": \"\"}}, \"type\": \"scatterpolargl\"}], \"scatterternary\": [{\"marker\": {\"colorbar\": {\"outlinewidth\": 0, \"ticks\": \"\"}}, \"type\": \"scatterternary\"}], \"surface\": [{\"colorbar\": {\"outlinewidth\": 0, \"ticks\": \"\"}, \"type\": \"surface\"}], \"table\": [{\"cells\": {\"fill\": {\"color\": \"#EBF0F8\"}, \"line\": {\"color\": \"white\"}}, \"header\": {\"fill\": {\"color\": \"#C8D4E3\"}, \"line\": {\"color\": \"white\"}}, \"type\": \"table\"}]}, \"layout\": {\"annotationdefaults\": {\"arrowcolor\": \"#506784\", \"arrowhead\": 0, \"arrowwidth\": 1}, \"colorscale\": {\"diverging\": [[0, \"#8e0152\"], [0.1, \"#c51b7d\"], [0.2, \"#de77ae\"], [0.3, \"#f1b6da\"], [0.4, \"#fde0ef\"], [0.5, \"#f7f7f7\"], [0.6, \"#e6f5d0\"], [0.7, \"#b8e186\"], [0.8, \"#7fbc41\"], [0.9, \"#4d9221\"], [1, \"#276419\"]], \"sequential\": [[0.0, \"#0508b8\"], [0.0893854748603352, \"#1910d8\"], [0.1787709497206704, \"#3c19f0\"], [0.2681564245810056, \"#6b1cfb\"], [0.3575418994413408, \"#981cfd\"], [0.44692737430167595, \"#bf1cfd\"], [0.5363128491620112, \"#dd2bfd\"], [0.6256983240223464, \"#f246fe\"], [0.7150837988826816, \"#fc67fd\"], [0.8044692737430168, \"#fe88fc\"], [0.8938547486033519, \"#fea5fd\"], [0.9832402234636871, \"#febefe\"], [1.0, \"#fec3fe\"]], \"sequentialminus\": [[0.0, \"#0508b8\"], [0.0893854748603352, \"#1910d8\"], [0.1787709497206704, \"#3c19f0\"], [0.2681564245810056, \"#6b1cfb\"], [0.3575418994413408, \"#981cfd\"], [0.44692737430167595, \"#bf1cfd\"], [0.5363128491620112, \"#dd2bfd\"], [0.6256983240223464, \"#f246fe\"], [0.7150837988826816, \"#fc67fd\"], [0.8044692737430168, \"#fe88fc\"], [0.8938547486033519, \"#fea5fd\"], [0.9832402234636871, \"#febefe\"], [1.0, \"#fec3fe\"]]}, \"colorway\": [\"#636efa\", \"#EF553B\", \"#00cc96\", \"#ab63fa\", \"#19d3f3\", \"#e763fa\", \"#FECB52\", \"#FFA15A\", \"#FF6692\", \"#B6E880\"], \"font\": {\"color\": \"#2a3f5f\"}, \"geo\": {\"bgcolor\": \"white\", \"lakecolor\": \"white\", \"landcolor\": \"#E5ECF6\", \"showlakes\": true, \"showland\": true, \"subunitcolor\": \"white\"}, \"hoverlabel\": {\"align\": \"left\"}, \"hovermode\": \"closest\", \"mapbox\": {\"style\": \"light\"}, \"paper_bgcolor\": \"white\", \"plot_bgcolor\": \"#E5ECF6\", \"polar\": {\"angularaxis\": {\"gridcolor\": \"white\", \"linecolor\": \"white\", \"ticks\": \"\"}, \"bgcolor\": \"#E5ECF6\", \"radialaxis\": {\"gridcolor\": \"white\", \"linecolor\": \"white\", \"ticks\": \"\"}}, \"scene\": {\"xaxis\": {\"backgroundcolor\": \"#E5ECF6\", \"gridcolor\": \"white\", \"gridwidth\": 2, \"linecolor\": \"white\", \"showbackground\": true, \"ticks\": \"\", \"zerolinecolor\": \"white\"}, \"yaxis\": {\"backgroundcolor\": \"#E5ECF6\", \"gridcolor\": \"white\", \"gridwidth\": 2, \"linecolor\": \"white\", \"showbackground\": true, \"ticks\": \"\", \"zerolinecolor\": \"white\"}, \"zaxis\": {\"backgroundcolor\": \"#E5ECF6\", \"gridcolor\": \"white\", \"gridwidth\": 2, \"linecolor\": \"white\", \"showbackground\": true, \"ticks\": \"\", \"zerolinecolor\": \"white\"}}, \"shapedefaults\": {\"fillcolor\": \"#506784\", \"line\": {\"width\": 0}, \"opacity\": 0.4}, \"ternary\": {\"aaxis\": {\"gridcolor\": \"white\", \"linecolor\": \"white\", \"ticks\": \"\"}, \"baxis\": {\"gridcolor\": \"white\", \"linecolor\": \"white\", \"ticks\": \"\"}, \"bgcolor\": \"#E5ECF6\", \"caxis\": {\"gridcolor\": \"white\", \"linecolor\": \"white\", \"ticks\": \"\"}}, \"title\": {\"x\": 0.05}, \"xaxis\": {\"automargin\": true, \"gridcolor\": \"white\", \"linecolor\": \"white\", \"ticks\": \"\", \"zerolinecolor\": \"white\", \"zerolinewidth\": 2}, \"yaxis\": {\"automargin\": true, \"gridcolor\": \"white\", \"linecolor\": \"white\", \"ticks\": \"\", \"zerolinecolor\": \"white\", \"zerolinewidth\": 2}}}, \"width\": 600},\n",
       "                        {\"showLink\": false, \"linkText\": \"Export to plot.ly\", \"plotlyServerURL\": \"https://plot.ly\", \"responsive\": true}\n",
       "                    ).then(function(){\n",
       "                            \n",
       "var gd = document.getElementById('2ce53ec7-db0a-40df-a85c-e8cb96510c5a');\n",
       "var x = new MutationObserver(function (mutations, observer) {{\n",
       "        var display = window.getComputedStyle(gd).display;\n",
       "        if (!display || display === 'none') {{\n",
       "            console.log([gd, 'removed!']);\n",
       "            Plotly.purge(gd);\n",
       "            observer.disconnect();\n",
       "        }}\n",
       "}});\n",
       "\n",
       "// Listen for the removal of the full notebook cells\n",
       "var notebookContainer = gd.closest('#notebook-container');\n",
       "if (notebookContainer) {{\n",
       "    x.observe(notebookContainer, {childList: true});\n",
       "}}\n",
       "\n",
       "// Listen for the clearing of the current output cell\n",
       "var outputEl = gd.closest('.output');\n",
       "if (outputEl) {{\n",
       "    x.observe(outputEl, {childList: true});\n",
       "}}\n",
       "\n",
       "                        })\n",
       "                };\n",
       "                });\n",
       "            </script>\n",
       "        </div>"
      ]
     },
     "metadata": {},
     "output_type": "display_data"
    }
   ],
   "source": [
    "plotly.offline.init_notebook_mode(connected=True)\n",
    "px.set_mapbox_access_token(api_keys['mapbox'])\n",
    "px.scatter_mapbox(\n",
    "    df, lat='lat', lon='lng', hover_name=['name', 'rating'], color='label', width=600, height=600)"
   ]
  },
  {
   "cell_type": "code",
   "execution_count": 89,
   "metadata": {},
   "outputs": [
    {
     "data": {
      "text/plain": [
       "({'lat': 47.6093, 'lng': -122.3363101}, 'umbrella')"
      ]
     },
     "execution_count": 89,
     "metadata": {},
     "output_type": "execute_result"
    }
   ],
   "source": [
    "loc, topic"
   ]
  },
  {
   "cell_type": "code",
   "execution_count": 183,
   "metadata": {},
   "outputs": [
    {
     "name": "stderr",
     "output_type": "stream",
     "text": [
      "/Users/dakaspar/flatiron/meander_maker/goplaces.py:251: SettingWithCopyWarning:\n",
      "\n",
      "\n",
      "A value is trying to be set on a copy of a slice from a DataFrame.\n",
      "Try using .loc[row_indexer,col_indexer] = value instead\n",
      "\n",
      "See the caveats in the documentation: http://pandas.pydata.org/pandas-docs/stable/indexing.html#indexing-view-versus-copy\n",
      "\n"
     ]
    },
    {
     "data": {
      "text/html": [
       "<div>\n",
       "<style scoped>\n",
       "    .dataframe tbody tr th:only-of-type {\n",
       "        vertical-align: middle;\n",
       "    }\n",
       "\n",
       "    .dataframe tbody tr th {\n",
       "        vertical-align: top;\n",
       "    }\n",
       "\n",
       "    .dataframe thead th {\n",
       "        text-align: right;\n",
       "    }\n",
       "</style>\n",
       "<table border=\"1\" class=\"dataframe\">\n",
       "  <thead>\n",
       "    <tr style=\"text-align: right;\">\n",
       "      <th></th>\n",
       "      <th>lat</th>\n",
       "      <th>lng</th>\n",
       "      <th>name</th>\n",
       "      <th>rating</th>\n",
       "      <th>user_ratings_total</th>\n",
       "      <th>label</th>\n",
       "      <th>dist_to_loc</th>\n",
       "    </tr>\n",
       "  </thead>\n",
       "  <tbody>\n",
       "    <tr>\n",
       "      <th>4</th>\n",
       "      <td>47.597074</td>\n",
       "      <td>-122.333819</td>\n",
       "      <td>Elysian Fields</td>\n",
       "      <td>3.8</td>\n",
       "      <td>375</td>\n",
       "      <td>1</td>\n",
       "      <td>1298.889457</td>\n",
       "    </tr>\n",
       "    <tr>\n",
       "      <th>5</th>\n",
       "      <td>47.608232</td>\n",
       "      <td>-122.339743</td>\n",
       "      <td>The Pike Brewing Company</td>\n",
       "      <td>4.2</td>\n",
       "      <td>1169</td>\n",
       "      <td>1</td>\n",
       "      <td>1790.600602</td>\n",
       "    </tr>\n",
       "    <tr>\n",
       "      <th>6</th>\n",
       "      <td>47.608124</td>\n",
       "      <td>-122.341142</td>\n",
       "      <td>Road Dog Tours - Brewery Tours</td>\n",
       "      <td>4.2</td>\n",
       "      <td>17</td>\n",
       "      <td>1</td>\n",
       "      <td>1882.328704</td>\n",
       "    </tr>\n",
       "    <tr>\n",
       "      <th>7</th>\n",
       "      <td>47.609518</td>\n",
       "      <td>-122.341343</td>\n",
       "      <td>Rachel's Ginger Beer</td>\n",
       "      <td>4.6</td>\n",
       "      <td>322</td>\n",
       "      <td>1</td>\n",
       "      <td>1959.901046</td>\n",
       "    </tr>\n",
       "    <tr>\n",
       "      <th>8</th>\n",
       "      <td>47.611570</td>\n",
       "      <td>-122.345288</td>\n",
       "      <td>Cloudburst Brewing</td>\n",
       "      <td>4.6</td>\n",
       "      <td>475</td>\n",
       "      <td>1</td>\n",
       "      <td>2327.345602</td>\n",
       "    </tr>\n",
       "  </tbody>\n",
       "</table>\n",
       "</div>"
      ],
      "text/plain": [
       "         lat         lng                            name  rating  \\\n",
       "4  47.597074 -122.333819                  Elysian Fields     3.8   \n",
       "5  47.608232 -122.339743        The Pike Brewing Company     4.2   \n",
       "6  47.608124 -122.341142  Road Dog Tours - Brewery Tours     4.2   \n",
       "7  47.609518 -122.341343            Rachel's Ginger Beer     4.6   \n",
       "8  47.611570 -122.345288              Cloudburst Brewing     4.6   \n",
       "\n",
       "   user_ratings_total label  dist_to_loc  \n",
       "4                 375     1  1298.889457  \n",
       "5                1169     1  1790.600602  \n",
       "6                  17     1  1882.328704  \n",
       "7                 322     1  1959.901046  \n",
       "8                 475     1  2327.345602  "
      ]
     },
     "execution_count": 183,
     "metadata": {},
     "output_type": "execute_result"
    }
   ],
   "source": [
    "grade = gp.choose_cluster(df, loc)\n",
    "grade"
   ]
  },
  {
   "cell_type": "code",
   "execution_count": 170,
   "metadata": {},
   "outputs": [
    {
     "data": {
      "text/html": [
       "<div>\n",
       "<style scoped>\n",
       "    .dataframe tbody tr th:only-of-type {\n",
       "        vertical-align: middle;\n",
       "    }\n",
       "\n",
       "    .dataframe tbody tr th {\n",
       "        vertical-align: top;\n",
       "    }\n",
       "\n",
       "    .dataframe thead th {\n",
       "        text-align: right;\n",
       "    }\n",
       "</style>\n",
       "<table border=\"1\" class=\"dataframe\">\n",
       "  <thead>\n",
       "    <tr style=\"text-align: right;\">\n",
       "      <th></th>\n",
       "      <th>size</th>\n",
       "      <th>lat_avg</th>\n",
       "      <th>lon_avg</th>\n",
       "      <th>rating_avg</th>\n",
       "      <th>min_dist_to_loc</th>\n",
       "      <th>metric</th>\n",
       "    </tr>\n",
       "    <tr>\n",
       "      <th>cluster</th>\n",
       "      <th></th>\n",
       "      <th></th>\n",
       "      <th></th>\n",
       "      <th></th>\n",
       "      <th></th>\n",
       "      <th></th>\n",
       "    </tr>\n",
       "  </thead>\n",
       "  <tbody>\n",
       "    <tr>\n",
       "      <th>1</th>\n",
       "      <td>5</td>\n",
       "      <td>47.606903</td>\n",
       "      <td>-122.340267</td>\n",
       "      <td>4.280000</td>\n",
       "      <td>1298.889457</td>\n",
       "      <td>1.64756</td>\n",
       "    </tr>\n",
       "    <tr>\n",
       "      <th>0</th>\n",
       "      <td>4</td>\n",
       "      <td>47.614763</td>\n",
       "      <td>-122.318939</td>\n",
       "      <td>4.425000</td>\n",
       "      <td>1249.777996</td>\n",
       "      <td>1.41625</td>\n",
       "    </tr>\n",
       "    <tr>\n",
       "      <th>2</th>\n",
       "      <td>4</td>\n",
       "      <td>47.570172</td>\n",
       "      <td>-122.335622</td>\n",
       "      <td>4.650000</td>\n",
       "      <td>3063.915140</td>\n",
       "      <td>0.607066</td>\n",
       "    </tr>\n",
       "    <tr>\n",
       "      <th>3</th>\n",
       "      <td>3</td>\n",
       "      <td>47.554023</td>\n",
       "      <td>-122.322439</td>\n",
       "      <td>4.666667</td>\n",
       "      <td>5206.888164</td>\n",
       "      <td>0.268875</td>\n",
       "    </tr>\n",
       "  </tbody>\n",
       "</table>\n",
       "</div>"
      ],
      "text/plain": [
       "        size    lat_avg     lon_avg  rating_avg  min_dist_to_loc    metric\n",
       "cluster                                                                   \n",
       "1          5  47.606903 -122.340267    4.280000      1298.889457   1.64756\n",
       "0          4  47.614763 -122.318939    4.425000      1249.777996   1.41625\n",
       "2          4  47.570172 -122.335622    4.650000      3063.915140  0.607066\n",
       "3          3  47.554023 -122.322439    4.666667      5206.888164  0.268875"
      ]
     },
     "execution_count": 170,
     "metadata": {},
     "output_type": "execute_result"
    }
   ],
   "source": [
    "grade['metric'] = 100 * grade['size'] * grade['rating_avg'] / grade['min_dist_to_loc']\n",
    "grade.sort_values('metric', ascending=False)"
   ]
  },
  {
   "cell_type": "code",
   "execution_count": null,
   "metadata": {},
   "outputs": [],
   "source": []
  }
 ],
 "metadata": {
  "kernelspec": {
   "display_name": "learn-env",
   "language": "python",
   "name": "learn-env"
  },
  "language_info": {
   "codemirror_mode": {
    "name": "ipython",
    "version": 3
   },
   "file_extension": ".py",
   "mimetype": "text/x-python",
   "name": "python",
   "nbconvert_exporter": "python",
   "pygments_lexer": "ipython3",
   "version": "3.7.3"
  }
 },
 "nbformat": 4,
 "nbformat_minor": 2
}
