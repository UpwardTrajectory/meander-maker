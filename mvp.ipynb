{
 "cells": [
  {
   "cell_type": "markdown",
   "metadata": {},
   "source": [
    "# Meander Maker\n",
    "\n",
    "If you haven't ever used the `googlemaps` python package, there are a few small setup steps to take first. You'll need to install it by running the next cell. Additionally, we will use `gmplot` to render the outputs and `polyline` to decode [Google's \"Polyline\"](https://developers.google.com/maps/documentation/utilities/polylineutility) hash. Finally, generate an API key to interface with Google's services. (There is a free tier, but if you use it a lot, they will start charging you for access.)"
   ]
  },
  {
   "cell_type": "code",
   "execution_count": null,
   "metadata": {},
   "outputs": [],
   "source": [
    "!pip install googlemaps\n",
    "!pip install gmplot\n",
    "!pip install polyline\n",
    "!pip install haversine"
   ]
  },
  {
   "cell_type": "code",
   "execution_count": null,
   "metadata": {},
   "outputs": [],
   "source": [
    "!conda install -c conda-forge hdbscan"
   ]
  },
  {
   "cell_type": "markdown",
   "metadata": {},
   "source": [
    "As mentioned above, if you would like to tinker around with the code, you'll need your own API key for Google Maps. You can register one from this address: [https://developers.google.com/places/web-service/get-api-key](https://developers.google.com/places/web-service/get-api-key). Once you have one, create a file in the directory containing this notebook called `.secret.key` and simply paste in your newly generated API key, no quotes or line breaks or anything. Save the file, exit, and you should be good to go."
   ]
  },
  {
   "cell_type": "code",
   "execution_count": null,
   "metadata": {},
   "outputs": [],
   "source": [
    "import goplaces as gp\n",
    "\n",
    "%load_ext autoreload\n",
    "%autoreload 2"
   ]
  },
  {
   "cell_type": "markdown",
   "metadata": {},
   "source": [
    "Let's decide which topic to explore:"
   ]
  },
  {
   "cell_type": "code",
   "execution_count": 15,
   "metadata": {},
   "outputs": [
    {
     "name": "stdin",
     "output_type": "stream",
     "text": [
      "Where would you like to start? Woodinville, WA\n",
      "What theme would you like to explore today? wine tasting\n"
     ]
    }
   ],
   "source": [
    "loc, topic = gp.populate_inputs()"
   ]
  },
  {
   "cell_type": "code",
   "execution_count": 18,
   "metadata": {},
   "outputs": [
    {
     "data": {
      "text/plain": [
       "{'C': 1.8874, 'A': 0.5622, 'B': 2.6577, 'D': 14.337}"
      ]
     },
     "metadata": {},
     "output_type": "display_data"
    },
    {
     "data": {
      "text/html": [
       "<div>\n",
       "<style scoped>\n",
       "    .dataframe tbody tr th:only-of-type {\n",
       "        vertical-align: middle;\n",
       "    }\n",
       "\n",
       "    .dataframe tbody tr th {\n",
       "        vertical-align: top;\n",
       "    }\n",
       "\n",
       "    .dataframe thead th {\n",
       "        text-align: right;\n",
       "    }\n",
       "</style>\n",
       "<table border=\"1\" class=\"dataframe\">\n",
       "  <thead>\n",
       "    <tr style=\"text-align: right;\">\n",
       "      <th></th>\n",
       "      <th>lat</th>\n",
       "      <th>lng</th>\n",
       "      <th>name</th>\n",
       "      <th>rating</th>\n",
       "      <th>user_ratings_total</th>\n",
       "      <th>label</th>\n",
       "      <th>dist_to_loc</th>\n",
       "    </tr>\n",
       "  </thead>\n",
       "  <tbody>\n",
       "    <tr>\n",
       "      <th>19</th>\n",
       "      <td>47.766128</td>\n",
       "      <td>-122.148302</td>\n",
       "      <td>Gard Vintners Woodinville Wine Tasting Room</td>\n",
       "      <td>4.9</td>\n",
       "      <td>14</td>\n",
       "      <td>C</td>\n",
       "      <td>1738.819266</td>\n",
       "    </tr>\n",
       "    <tr>\n",
       "      <th>20</th>\n",
       "      <td>47.766175</td>\n",
       "      <td>-122.148329</td>\n",
       "      <td>Beaumont Cellars</td>\n",
       "      <td>4.9</td>\n",
       "      <td>21</td>\n",
       "      <td>C</td>\n",
       "      <td>1741.475632</td>\n",
       "    </tr>\n",
       "    <tr>\n",
       "      <th>21</th>\n",
       "      <td>47.762251</td>\n",
       "      <td>-122.150158</td>\n",
       "      <td>Icon Cellars</td>\n",
       "      <td>5.0</td>\n",
       "      <td>24</td>\n",
       "      <td>C</td>\n",
       "      <td>1333.070663</td>\n",
       "    </tr>\n",
       "    <tr>\n",
       "      <th>22</th>\n",
       "      <td>47.762653</td>\n",
       "      <td>-122.149388</td>\n",
       "      <td>DiStefano Winery Ltd</td>\n",
       "      <td>4.3</td>\n",
       "      <td>13</td>\n",
       "      <td>C</td>\n",
       "      <td>1405.739666</td>\n",
       "    </tr>\n",
       "    <tr>\n",
       "      <th>23</th>\n",
       "      <td>47.763553</td>\n",
       "      <td>-122.149258</td>\n",
       "      <td>Keira Cellars</td>\n",
       "      <td>4.8</td>\n",
       "      <td>20</td>\n",
       "      <td>C</td>\n",
       "      <td>1480.991538</td>\n",
       "    </tr>\n",
       "    <tr>\n",
       "      <th>24</th>\n",
       "      <td>47.762285</td>\n",
       "      <td>-122.149928</td>\n",
       "      <td>Barrel Wine Tours</td>\n",
       "      <td>0.0</td>\n",
       "      <td>0</td>\n",
       "      <td>C</td>\n",
       "      <td>1348.457721</td>\n",
       "    </tr>\n",
       "  </tbody>\n",
       "</table>\n",
       "</div>"
      ],
      "text/plain": [
       "          lat         lng                                         name  \\\n",
       "19  47.766128 -122.148302  Gard Vintners Woodinville Wine Tasting Room   \n",
       "20  47.766175 -122.148329                             Beaumont Cellars   \n",
       "21  47.762251 -122.150158                                 Icon Cellars   \n",
       "22  47.762653 -122.149388                         DiStefano Winery Ltd   \n",
       "23  47.763553 -122.149258                                Keira Cellars   \n",
       "24  47.762285 -122.149928                            Barrel Wine Tours   \n",
       "\n",
       "    rating  user_ratings_total label  dist_to_loc  \n",
       "19     4.9                  14     C  1738.819266  \n",
       "20     4.9                  21     C  1741.475632  \n",
       "21     5.0                  24     C  1333.070663  \n",
       "22     4.3                  13     C  1405.739666  \n",
       "23     4.8                  20     C  1480.991538  \n",
       "24     0.0                   0     C  1348.457721  "
      ]
     },
     "metadata": {},
     "output_type": "display_data"
    },
    {
     "data": {
      "text/html": [
       "<div>\n",
       "<style scoped>\n",
       "    .dataframe tbody tr th:only-of-type {\n",
       "        vertical-align: middle;\n",
       "    }\n",
       "\n",
       "    .dataframe tbody tr th {\n",
       "        vertical-align: top;\n",
       "    }\n",
       "\n",
       "    .dataframe thead th {\n",
       "        text-align: right;\n",
       "    }\n",
       "</style>\n",
       "<table border=\"1\" class=\"dataframe\">\n",
       "  <thead>\n",
       "    <tr style=\"text-align: right;\">\n",
       "      <th></th>\n",
       "      <th>lat</th>\n",
       "      <th>lng</th>\n",
       "      <th>name</th>\n",
       "      <th>rating</th>\n",
       "      <th>user_ratings_total</th>\n",
       "      <th>label</th>\n",
       "      <th>dist_to_loc</th>\n",
       "    </tr>\n",
       "  </thead>\n",
       "  <tbody>\n",
       "    <tr>\n",
       "      <th>0</th>\n",
       "      <td>47.731705</td>\n",
       "      <td>-122.155311</td>\n",
       "      <td>JM Cellars</td>\n",
       "      <td>4.7</td>\n",
       "      <td>78</td>\n",
       "      <td>A</td>\n",
       "      <td>2581.427654</td>\n",
       "    </tr>\n",
       "    <tr>\n",
       "      <th>1</th>\n",
       "      <td>47.734995</td>\n",
       "      <td>-122.152983</td>\n",
       "      <td>Novelty Hill Januik Winery</td>\n",
       "      <td>4.4</td>\n",
       "      <td>109</td>\n",
       "      <td>A</td>\n",
       "      <td>2281.379804</td>\n",
       "    </tr>\n",
       "    <tr>\n",
       "      <th>2</th>\n",
       "      <td>47.737264</td>\n",
       "      <td>-122.155920</td>\n",
       "      <td>Cascade Cliffs Vineyard and Winery - Woodinvil...</td>\n",
       "      <td>4.9</td>\n",
       "      <td>17</td>\n",
       "      <td>A</td>\n",
       "      <td>1972.670730</td>\n",
       "    </tr>\n",
       "    <tr>\n",
       "      <th>3</th>\n",
       "      <td>47.740026</td>\n",
       "      <td>-122.154697</td>\n",
       "      <td>The Woodhouse Wine Estates</td>\n",
       "      <td>4.8</td>\n",
       "      <td>51</td>\n",
       "      <td>A</td>\n",
       "      <td>1713.465554</td>\n",
       "    </tr>\n",
       "    <tr>\n",
       "      <th>4</th>\n",
       "      <td>47.729804</td>\n",
       "      <td>-122.149313</td>\n",
       "      <td>Chateau Ste. Michelle Winery</td>\n",
       "      <td>4.5</td>\n",
       "      <td>1075</td>\n",
       "      <td>A</td>\n",
       "      <td>2918.321228</td>\n",
       "    </tr>\n",
       "    <tr>\n",
       "      <th>5</th>\n",
       "      <td>47.737260</td>\n",
       "      <td>-122.156079</td>\n",
       "      <td>Basel Cellars Woodinville</td>\n",
       "      <td>4.6</td>\n",
       "      <td>44</td>\n",
       "      <td>A</td>\n",
       "      <td>1969.733950</td>\n",
       "    </tr>\n",
       "    <tr>\n",
       "      <th>6</th>\n",
       "      <td>47.733874</td>\n",
       "      <td>-122.151987</td>\n",
       "      <td>Columbia Winery</td>\n",
       "      <td>4.6</td>\n",
       "      <td>160</td>\n",
       "      <td>A</td>\n",
       "      <td>2424.231015</td>\n",
       "    </tr>\n",
       "  </tbody>\n",
       "</table>\n",
       "</div>"
      ],
      "text/plain": [
       "         lat         lng                                               name  \\\n",
       "0  47.731705 -122.155311                                         JM Cellars   \n",
       "1  47.734995 -122.152983                         Novelty Hill Januik Winery   \n",
       "2  47.737264 -122.155920  Cascade Cliffs Vineyard and Winery - Woodinvil...   \n",
       "3  47.740026 -122.154697                         The Woodhouse Wine Estates   \n",
       "4  47.729804 -122.149313                       Chateau Ste. Michelle Winery   \n",
       "5  47.737260 -122.156079                          Basel Cellars Woodinville   \n",
       "6  47.733874 -122.151987                                    Columbia Winery   \n",
       "\n",
       "   rating  user_ratings_total label  dist_to_loc  \n",
       "0     4.7                  78     A  2581.427654  \n",
       "1     4.4                 109     A  2281.379804  \n",
       "2     4.9                  17     A  1972.670730  \n",
       "3     4.8                  51     A  1713.465554  \n",
       "4     4.5                1075     A  2918.321228  \n",
       "5     4.6                  44     A  1969.733950  \n",
       "6     4.6                 160     A  2424.231015  "
      ]
     },
     "metadata": {},
     "output_type": "display_data"
    },
    {
     "data": {
      "text/html": [
       "<div>\n",
       "<style scoped>\n",
       "    .dataframe tbody tr th:only-of-type {\n",
       "        vertical-align: middle;\n",
       "    }\n",
       "\n",
       "    .dataframe tbody tr th {\n",
       "        vertical-align: top;\n",
       "    }\n",
       "\n",
       "    .dataframe thead th {\n",
       "        text-align: right;\n",
       "    }\n",
       "</style>\n",
       "<table border=\"1\" class=\"dataframe\">\n",
       "  <thead>\n",
       "    <tr style=\"text-align: right;\">\n",
       "      <th></th>\n",
       "      <th>lat</th>\n",
       "      <th>lng</th>\n",
       "      <th>name</th>\n",
       "      <th>rating</th>\n",
       "      <th>user_ratings_total</th>\n",
       "      <th>label</th>\n",
       "      <th>dist_to_loc</th>\n",
       "    </tr>\n",
       "  </thead>\n",
       "  <tbody>\n",
       "    <tr>\n",
       "      <th>7</th>\n",
       "      <td>47.733658</td>\n",
       "      <td>-122.142590</td>\n",
       "      <td>Obelisco Estate</td>\n",
       "      <td>4.6</td>\n",
       "      <td>15</td>\n",
       "      <td>B</td>\n",
       "      <td>2772.233408</td>\n",
       "    </tr>\n",
       "    <tr>\n",
       "      <th>8</th>\n",
       "      <td>47.732020</td>\n",
       "      <td>-122.141998</td>\n",
       "      <td>Sparkman Cellars Tasting Room</td>\n",
       "      <td>4.7</td>\n",
       "      <td>13</td>\n",
       "      <td>B</td>\n",
       "      <td>2948.446257</td>\n",
       "    </tr>\n",
       "    <tr>\n",
       "      <th>9</th>\n",
       "      <td>47.733969</td>\n",
       "      <td>-122.141733</td>\n",
       "      <td>J. Bookwalter Tasting Studio</td>\n",
       "      <td>4.6</td>\n",
       "      <td>41</td>\n",
       "      <td>B</td>\n",
       "      <td>2780.667645</td>\n",
       "    </tr>\n",
       "    <tr>\n",
       "      <th>10</th>\n",
       "      <td>47.733085</td>\n",
       "      <td>-122.142579</td>\n",
       "      <td>Patterson Cellars Tasting Room Hollywood Hill</td>\n",
       "      <td>4.5</td>\n",
       "      <td>51</td>\n",
       "      <td>B</td>\n",
       "      <td>2825.581903</td>\n",
       "    </tr>\n",
       "    <tr>\n",
       "      <th>11</th>\n",
       "      <td>47.733092</td>\n",
       "      <td>-122.142428</td>\n",
       "      <td>Gorman Winery Hollywood Hill Tasting Room</td>\n",
       "      <td>4.5</td>\n",
       "      <td>28</td>\n",
       "      <td>B</td>\n",
       "      <td>2831.192531</td>\n",
       "    </tr>\n",
       "    <tr>\n",
       "      <th>12</th>\n",
       "      <td>47.732142</td>\n",
       "      <td>-122.142161</td>\n",
       "      <td>Mark Ryan Winery</td>\n",
       "      <td>4.5</td>\n",
       "      <td>52</td>\n",
       "      <td>B</td>\n",
       "      <td>2930.436685</td>\n",
       "    </tr>\n",
       "    <tr>\n",
       "      <th>13</th>\n",
       "      <td>47.732613</td>\n",
       "      <td>-122.140887</td>\n",
       "      <td>Milbrandt Vineyards Tasting Room</td>\n",
       "      <td>4.8</td>\n",
       "      <td>14</td>\n",
       "      <td>B</td>\n",
       "      <td>2940.176971</td>\n",
       "    </tr>\n",
       "    <tr>\n",
       "      <th>14</th>\n",
       "      <td>47.732506</td>\n",
       "      <td>-122.140939</td>\n",
       "      <td>Ryan Patrick Wines Tasting Room</td>\n",
       "      <td>4.0</td>\n",
       "      <td>17</td>\n",
       "      <td>B</td>\n",
       "      <td>2947.776936</td>\n",
       "    </tr>\n",
       "    <tr>\n",
       "      <th>15</th>\n",
       "      <td>47.734491</td>\n",
       "      <td>-122.141790</td>\n",
       "      <td>Woodinville Wine Country</td>\n",
       "      <td>4.6</td>\n",
       "      <td>8</td>\n",
       "      <td>B</td>\n",
       "      <td>2731.223827</td>\n",
       "    </tr>\n",
       "    <tr>\n",
       "      <th>16</th>\n",
       "      <td>47.733966</td>\n",
       "      <td>-122.141354</td>\n",
       "      <td>Market Vineyards</td>\n",
       "      <td>4.9</td>\n",
       "      <td>8</td>\n",
       "      <td>B</td>\n",
       "      <td>2797.581413</td>\n",
       "    </tr>\n",
       "    <tr>\n",
       "      <th>17</th>\n",
       "      <td>47.731917</td>\n",
       "      <td>-122.142093</td>\n",
       "      <td>àMAURICE Tasting Room</td>\n",
       "      <td>4.8</td>\n",
       "      <td>6</td>\n",
       "      <td>B</td>\n",
       "      <td>2954.182546</td>\n",
       "    </tr>\n",
       "    <tr>\n",
       "      <th>18</th>\n",
       "      <td>47.736643</td>\n",
       "      <td>-122.141568</td>\n",
       "      <td>Castillo de Feliciana Vineyard &amp; Winery Woodin...</td>\n",
       "      <td>4.4</td>\n",
       "      <td>48</td>\n",
       "      <td>B</td>\n",
       "      <td>2553.140212</td>\n",
       "    </tr>\n",
       "  </tbody>\n",
       "</table>\n",
       "</div>"
      ],
      "text/plain": [
       "          lat         lng                                               name  \\\n",
       "7   47.733658 -122.142590                                    Obelisco Estate   \n",
       "8   47.732020 -122.141998                      Sparkman Cellars Tasting Room   \n",
       "9   47.733969 -122.141733                       J. Bookwalter Tasting Studio   \n",
       "10  47.733085 -122.142579      Patterson Cellars Tasting Room Hollywood Hill   \n",
       "11  47.733092 -122.142428          Gorman Winery Hollywood Hill Tasting Room   \n",
       "12  47.732142 -122.142161                                   Mark Ryan Winery   \n",
       "13  47.732613 -122.140887                   Milbrandt Vineyards Tasting Room   \n",
       "14  47.732506 -122.140939                    Ryan Patrick Wines Tasting Room   \n",
       "15  47.734491 -122.141790                           Woodinville Wine Country   \n",
       "16  47.733966 -122.141354                                   Market Vineyards   \n",
       "17  47.731917 -122.142093                              àMAURICE Tasting Room   \n",
       "18  47.736643 -122.141568  Castillo de Feliciana Vineyard & Winery Woodin...   \n",
       "\n",
       "    rating  user_ratings_total label  dist_to_loc  \n",
       "7      4.6                  15     B  2772.233408  \n",
       "8      4.7                  13     B  2948.446257  \n",
       "9      4.6                  41     B  2780.667645  \n",
       "10     4.5                  51     B  2825.581903  \n",
       "11     4.5                  28     B  2831.192531  \n",
       "12     4.5                  52     B  2930.436685  \n",
       "13     4.8                  14     B  2940.176971  \n",
       "14     4.0                  17     B  2947.776936  \n",
       "15     4.6                   8     B  2731.223827  \n",
       "16     4.9                   8     B  2797.581413  \n",
       "17     4.8                   6     B  2954.182546  \n",
       "18     4.4                  48     B  2553.140212  "
      ]
     },
     "metadata": {},
     "output_type": "display_data"
    },
    {
     "data": {
      "text/html": [
       "<div>\n",
       "<style scoped>\n",
       "    .dataframe tbody tr th:only-of-type {\n",
       "        vertical-align: middle;\n",
       "    }\n",
       "\n",
       "    .dataframe tbody tr th {\n",
       "        vertical-align: top;\n",
       "    }\n",
       "\n",
       "    .dataframe thead th {\n",
       "        text-align: right;\n",
       "    }\n",
       "</style>\n",
       "<table border=\"1\" class=\"dataframe\">\n",
       "  <thead>\n",
       "    <tr style=\"text-align: right;\">\n",
       "      <th></th>\n",
       "      <th>lat</th>\n",
       "      <th>lng</th>\n",
       "      <th>name</th>\n",
       "      <th>rating</th>\n",
       "      <th>user_ratings_total</th>\n",
       "      <th>label</th>\n",
       "      <th>dist_to_loc</th>\n",
       "    </tr>\n",
       "  </thead>\n",
       "  <tbody>\n",
       "    <tr>\n",
       "      <th>25</th>\n",
       "      <td>47.768751</td>\n",
       "      <td>-122.150770</td>\n",
       "      <td>Obelisco Warehouse Tasting Room</td>\n",
       "      <td>5.0</td>\n",
       "      <td>7</td>\n",
       "      <td>D</td>\n",
       "      <td>1869.192292</td>\n",
       "    </tr>\n",
       "    <tr>\n",
       "      <th>26</th>\n",
       "      <td>47.769470</td>\n",
       "      <td>-122.151267</td>\n",
       "      <td>Patterson Cellars Tasting Room Warehouse District</td>\n",
       "      <td>4.6</td>\n",
       "      <td>24</td>\n",
       "      <td>D</td>\n",
       "      <td>1920.681416</td>\n",
       "    </tr>\n",
       "    <tr>\n",
       "      <th>27</th>\n",
       "      <td>47.769324</td>\n",
       "      <td>-122.150587</td>\n",
       "      <td>Genoa Cellars Tasting Room - WE MOVED from our...</td>\n",
       "      <td>4.6</td>\n",
       "      <td>11</td>\n",
       "      <td>D</td>\n",
       "      <td>1931.180299</td>\n",
       "    </tr>\n",
       "    <tr>\n",
       "      <th>28</th>\n",
       "      <td>47.769324</td>\n",
       "      <td>-122.150587</td>\n",
       "      <td>Rocky Pond Winery Woodinville Tasting Room</td>\n",
       "      <td>4.7</td>\n",
       "      <td>15</td>\n",
       "      <td>D</td>\n",
       "      <td>1931.218863</td>\n",
       "    </tr>\n",
       "    <tr>\n",
       "      <th>29</th>\n",
       "      <td>47.769152</td>\n",
       "      <td>-122.150960</td>\n",
       "      <td>Eye of the Needle Winery</td>\n",
       "      <td>4.7</td>\n",
       "      <td>21</td>\n",
       "      <td>D</td>\n",
       "      <td>1900.736615</td>\n",
       "    </tr>\n",
       "    <tr>\n",
       "      <th>30</th>\n",
       "      <td>47.768706</td>\n",
       "      <td>-122.150868</td>\n",
       "      <td>Smasne Cellars</td>\n",
       "      <td>4.9</td>\n",
       "      <td>11</td>\n",
       "      <td>D</td>\n",
       "      <td>1861.229321</td>\n",
       "    </tr>\n",
       "    <tr>\n",
       "      <th>31</th>\n",
       "      <td>47.769478</td>\n",
       "      <td>-122.150242</td>\n",
       "      <td>Gorman Winery's Old Scratch Cellars Tasting Room</td>\n",
       "      <td>3.8</td>\n",
       "      <td>12</td>\n",
       "      <td>D</td>\n",
       "      <td>1958.923092</td>\n",
       "    </tr>\n",
       "    <tr>\n",
       "      <th>32</th>\n",
       "      <td>47.769164</td>\n",
       "      <td>-122.150307</td>\n",
       "      <td>Kestrel Vintners</td>\n",
       "      <td>4.7</td>\n",
       "      <td>35</td>\n",
       "      <td>D</td>\n",
       "      <td>1926.370627</td>\n",
       "    </tr>\n",
       "    <tr>\n",
       "      <th>33</th>\n",
       "      <td>47.769200</td>\n",
       "      <td>-122.150448</td>\n",
       "      <td>Genoa Cellars Tasting Room - Woodinville Wareh...</td>\n",
       "      <td>5.0</td>\n",
       "      <td>1</td>\n",
       "      <td>D</td>\n",
       "      <td>1924.451902</td>\n",
       "    </tr>\n",
       "  </tbody>\n",
       "</table>\n",
       "</div>"
      ],
      "text/plain": [
       "          lat         lng                                               name  \\\n",
       "25  47.768751 -122.150770                    Obelisco Warehouse Tasting Room   \n",
       "26  47.769470 -122.151267  Patterson Cellars Tasting Room Warehouse District   \n",
       "27  47.769324 -122.150587  Genoa Cellars Tasting Room - WE MOVED from our...   \n",
       "28  47.769324 -122.150587         Rocky Pond Winery Woodinville Tasting Room   \n",
       "29  47.769152 -122.150960                           Eye of the Needle Winery   \n",
       "30  47.768706 -122.150868                                     Smasne Cellars   \n",
       "31  47.769478 -122.150242   Gorman Winery's Old Scratch Cellars Tasting Room   \n",
       "32  47.769164 -122.150307                                   Kestrel Vintners   \n",
       "33  47.769200 -122.150448  Genoa Cellars Tasting Room - Woodinville Wareh...   \n",
       "\n",
       "    rating  user_ratings_total label  dist_to_loc  \n",
       "25     5.0                   7     D  1869.192292  \n",
       "26     4.6                  24     D  1920.681416  \n",
       "27     4.6                  11     D  1931.180299  \n",
       "28     4.7                  15     D  1931.218863  \n",
       "29     4.7                  21     D  1900.736615  \n",
       "30     4.9                  11     D  1861.229321  \n",
       "31     3.8                  12     D  1958.923092  \n",
       "32     4.7                  35     D  1926.370627  \n",
       "33     5.0                   1     D  1924.451902  "
      ]
     },
     "metadata": {},
     "output_type": "display_data"
    },
    {
     "data": {
      "application/vnd.plotly.v1+json": {
       "config": {
        "linkText": "Export to plot.ly",
        "plotlyServerURL": "https://plot.ly",
        "responsive": true,
        "showLink": false
       },
       "data": [
        {
         "hoverlabel": {
          "namelength": 0
         },
         "hovertemplate": "<b>%{hovertext}</b><br><br>label=D<br>lat=%{lat}<br>lng=%{lon}",
         "hovertext": [
          [
           "Obelisco Warehouse Tasting Room",
           5
          ],
          [
           "Patterson Cellars Tasting Room Warehouse District",
           4.6
          ],
          [
           "Genoa Cellars Tasting Room - WE MOVED from our Hollywood Hill Location",
           4.6
          ],
          [
           "Rocky Pond Winery Woodinville Tasting Room",
           4.7
          ],
          [
           "Eye of the Needle Winery",
           4.7
          ],
          [
           "Smasne Cellars",
           4.9
          ],
          [
           "Gorman Winery's Old Scratch Cellars Tasting Room",
           3.8
          ],
          [
           "Kestrel Vintners",
           4.7
          ],
          [
           "Genoa Cellars Tasting Room - Woodinville Warehouse District",
           5
          ]
         ],
         "lat": [
          47.7687505,
          47.7694705,
          47.769324,
          47.7693244,
          47.7691519,
          47.7687063,
          47.769478,
          47.769164,
          47.7692
         ],
         "legendgroup": "label=D",
         "lon": [
          -122.1507697,
          -122.1512673,
          -122.150587,
          -122.150587,
          -122.1509605,
          -122.1508681,
          -122.150242,
          -122.150307,
          -122.1504484
         ],
         "marker": {
          "color": "#636efa"
         },
         "mode": "markers",
         "name": "label=D",
         "showlegend": true,
         "type": "scattermapbox",
         "uid": "fd603428-5008-47a6-a7ad-98ff92f25a2c"
        }
       ],
       "layout": {
        "height": 600,
        "legend": {
         "tracegroupgap": 0
        },
        "mapbox": {
         "accesstoken": "pk.eyJ1IjoidXB3YXJkdHJhamVjdG9yeSIsImEiOiJjanhtaHFxNjUwMGs0M2Nwd2U3dnd1MG50In0.Sr1UPnw0POudUmyXif59pA",
         "bearing": 0,
         "center": {
          "lat": 47.769241186913064,
          "lon": -122.15080340356076
         },
         "pitch": 0,
         "zoom": 15.28268381937467
        },
        "margin": {
         "t": 60
        },
        "template": {
         "data": {
          "bar": [
           {
            "marker": {
             "line": {
              "color": "#E5ECF6",
              "width": 0.5
             }
            },
            "type": "bar"
           }
          ],
          "barpolar": [
           {
            "marker": {
             "line": {
              "color": "#E5ECF6",
              "width": 0.5
             }
            },
            "type": "barpolar"
           }
          ],
          "carpet": [
           {
            "aaxis": {
             "endlinecolor": "#2a3f5f",
             "gridcolor": "white",
             "linecolor": "white",
             "minorgridcolor": "white",
             "startlinecolor": "#2a3f5f"
            },
            "baxis": {
             "endlinecolor": "#2a3f5f",
             "gridcolor": "white",
             "linecolor": "white",
             "minorgridcolor": "white",
             "startlinecolor": "#2a3f5f"
            },
            "type": "carpet"
           }
          ],
          "choropleth": [
           {
            "colorbar": {
             "outlinewidth": 0,
             "ticks": ""
            },
            "type": "choropleth"
           }
          ],
          "contour": [
           {
            "autocolorscale": true,
            "colorbar": {
             "outlinewidth": 0,
             "ticks": ""
            },
            "type": "contour"
           }
          ],
          "contourcarpet": [
           {
            "colorbar": {
             "outlinewidth": 0,
             "ticks": ""
            },
            "type": "contourcarpet"
           }
          ],
          "heatmap": [
           {
            "autocolorscale": true,
            "colorbar": {
             "outlinewidth": 0,
             "ticks": ""
            },
            "type": "heatmap"
           }
          ],
          "heatmapgl": [
           {
            "colorbar": {
             "outlinewidth": 0,
             "ticks": ""
            },
            "type": "heatmapgl"
           }
          ],
          "histogram": [
           {
            "marker": {
             "colorbar": {
              "outlinewidth": 0,
              "ticks": ""
             }
            },
            "type": "histogram"
           }
          ],
          "histogram2d": [
           {
            "autocolorscale": true,
            "colorbar": {
             "outlinewidth": 0,
             "ticks": ""
            },
            "type": "histogram2d"
           }
          ],
          "histogram2dcontour": [
           {
            "autocolorscale": true,
            "colorbar": {
             "outlinewidth": 0,
             "ticks": ""
            },
            "type": "histogram2dcontour"
           }
          ],
          "mesh3d": [
           {
            "colorbar": {
             "outlinewidth": 0,
             "ticks": ""
            },
            "type": "mesh3d"
           }
          ],
          "parcoords": [
           {
            "line": {
             "colorbar": {
              "outlinewidth": 0,
              "ticks": ""
             }
            },
            "type": "parcoords"
           }
          ],
          "scatter": [
           {
            "marker": {
             "colorbar": {
              "outlinewidth": 0,
              "ticks": ""
             }
            },
            "type": "scatter"
           }
          ],
          "scatter3d": [
           {
            "marker": {
             "colorbar": {
              "outlinewidth": 0,
              "ticks": ""
             }
            },
            "type": "scatter3d"
           }
          ],
          "scattercarpet": [
           {
            "marker": {
             "colorbar": {
              "outlinewidth": 0,
              "ticks": ""
             }
            },
            "type": "scattercarpet"
           }
          ],
          "scattergeo": [
           {
            "marker": {
             "colorbar": {
              "outlinewidth": 0,
              "ticks": ""
             }
            },
            "type": "scattergeo"
           }
          ],
          "scattergl": [
           {
            "marker": {
             "colorbar": {
              "outlinewidth": 0,
              "ticks": ""
             }
            },
            "type": "scattergl"
           }
          ],
          "scattermapbox": [
           {
            "marker": {
             "colorbar": {
              "outlinewidth": 0,
              "ticks": ""
             }
            },
            "type": "scattermapbox"
           }
          ],
          "scatterpolar": [
           {
            "marker": {
             "colorbar": {
              "outlinewidth": 0,
              "ticks": ""
             }
            },
            "type": "scatterpolar"
           }
          ],
          "scatterpolargl": [
           {
            "marker": {
             "colorbar": {
              "outlinewidth": 0,
              "ticks": ""
             }
            },
            "type": "scatterpolargl"
           }
          ],
          "scatterternary": [
           {
            "marker": {
             "colorbar": {
              "outlinewidth": 0,
              "ticks": ""
             }
            },
            "type": "scatterternary"
           }
          ],
          "surface": [
           {
            "colorbar": {
             "outlinewidth": 0,
             "ticks": ""
            },
            "type": "surface"
           }
          ],
          "table": [
           {
            "cells": {
             "fill": {
              "color": "#EBF0F8"
             },
             "line": {
              "color": "white"
             }
            },
            "header": {
             "fill": {
              "color": "#C8D4E3"
             },
             "line": {
              "color": "white"
             }
            },
            "type": "table"
           }
          ]
         },
         "layout": {
          "annotationdefaults": {
           "arrowcolor": "#506784",
           "arrowhead": 0,
           "arrowwidth": 1
          },
          "colorscale": {
           "diverging": [
            [
             0,
             "#8e0152"
            ],
            [
             0.1,
             "#c51b7d"
            ],
            [
             0.2,
             "#de77ae"
            ],
            [
             0.3,
             "#f1b6da"
            ],
            [
             0.4,
             "#fde0ef"
            ],
            [
             0.5,
             "#f7f7f7"
            ],
            [
             0.6,
             "#e6f5d0"
            ],
            [
             0.7,
             "#b8e186"
            ],
            [
             0.8,
             "#7fbc41"
            ],
            [
             0.9,
             "#4d9221"
            ],
            [
             1,
             "#276419"
            ]
           ],
           "sequential": [
            [
             0,
             "#0508b8"
            ],
            [
             0.0893854748603352,
             "#1910d8"
            ],
            [
             0.1787709497206704,
             "#3c19f0"
            ],
            [
             0.2681564245810056,
             "#6b1cfb"
            ],
            [
             0.3575418994413408,
             "#981cfd"
            ],
            [
             0.44692737430167595,
             "#bf1cfd"
            ],
            [
             0.5363128491620112,
             "#dd2bfd"
            ],
            [
             0.6256983240223464,
             "#f246fe"
            ],
            [
             0.7150837988826816,
             "#fc67fd"
            ],
            [
             0.8044692737430168,
             "#fe88fc"
            ],
            [
             0.8938547486033519,
             "#fea5fd"
            ],
            [
             0.9832402234636871,
             "#febefe"
            ],
            [
             1,
             "#fec3fe"
            ]
           ],
           "sequentialminus": [
            [
             0,
             "#0508b8"
            ],
            [
             0.0893854748603352,
             "#1910d8"
            ],
            [
             0.1787709497206704,
             "#3c19f0"
            ],
            [
             0.2681564245810056,
             "#6b1cfb"
            ],
            [
             0.3575418994413408,
             "#981cfd"
            ],
            [
             0.44692737430167595,
             "#bf1cfd"
            ],
            [
             0.5363128491620112,
             "#dd2bfd"
            ],
            [
             0.6256983240223464,
             "#f246fe"
            ],
            [
             0.7150837988826816,
             "#fc67fd"
            ],
            [
             0.8044692737430168,
             "#fe88fc"
            ],
            [
             0.8938547486033519,
             "#fea5fd"
            ],
            [
             0.9832402234636871,
             "#febefe"
            ],
            [
             1,
             "#fec3fe"
            ]
           ]
          },
          "colorway": [
           "#636efa",
           "#EF553B",
           "#00cc96",
           "#ab63fa",
           "#19d3f3",
           "#e763fa",
           "#FECB52",
           "#FFA15A",
           "#FF6692",
           "#B6E880"
          ],
          "font": {
           "color": "#2a3f5f"
          },
          "geo": {
           "bgcolor": "white",
           "lakecolor": "white",
           "landcolor": "#E5ECF6",
           "showlakes": true,
           "showland": true,
           "subunitcolor": "white"
          },
          "hoverlabel": {
           "align": "left"
          },
          "hovermode": "closest",
          "mapbox": {
           "style": "light"
          },
          "paper_bgcolor": "white",
          "plot_bgcolor": "#E5ECF6",
          "polar": {
           "angularaxis": {
            "gridcolor": "white",
            "linecolor": "white",
            "ticks": ""
           },
           "bgcolor": "#E5ECF6",
           "radialaxis": {
            "gridcolor": "white",
            "linecolor": "white",
            "ticks": ""
           }
          },
          "scene": {
           "xaxis": {
            "backgroundcolor": "#E5ECF6",
            "gridcolor": "white",
            "gridwidth": 2,
            "linecolor": "white",
            "showbackground": true,
            "ticks": "",
            "zerolinecolor": "white"
           },
           "yaxis": {
            "backgroundcolor": "#E5ECF6",
            "gridcolor": "white",
            "gridwidth": 2,
            "linecolor": "white",
            "showbackground": true,
            "ticks": "",
            "zerolinecolor": "white"
           },
           "zaxis": {
            "backgroundcolor": "#E5ECF6",
            "gridcolor": "white",
            "gridwidth": 2,
            "linecolor": "white",
            "showbackground": true,
            "ticks": "",
            "zerolinecolor": "white"
           }
          },
          "shapedefaults": {
           "fillcolor": "#506784",
           "line": {
            "width": 0
           },
           "opacity": 0.4
          },
          "ternary": {
           "aaxis": {
            "gridcolor": "white",
            "linecolor": "white",
            "ticks": ""
           },
           "baxis": {
            "gridcolor": "white",
            "linecolor": "white",
            "ticks": ""
           },
           "bgcolor": "#E5ECF6",
           "caxis": {
            "gridcolor": "white",
            "linecolor": "white",
            "ticks": ""
           }
          },
          "title": {
           "x": 0.05
          },
          "xaxis": {
           "automargin": true,
           "gridcolor": "white",
           "linecolor": "white",
           "ticks": "",
           "zerolinecolor": "white",
           "zerolinewidth": 2
          },
          "yaxis": {
           "automargin": true,
           "gridcolor": "white",
           "linecolor": "white",
           "ticks": "",
           "zerolinecolor": "white",
           "zerolinewidth": 2
          }
         }
        },
        "width": 600
       }
      },
      "image/png": "[encoded data removed]",
      "text/html": [
       "<div>\n",
       "        \n",
       "        \n",
       "            <div id=\"f5d05402-0958-48c7-a4f9-80b824915823\" class=\"plotly-graph-div\" style=\"height:600px; width:600px;\"></div>\n",
       "            <script type=\"text/javascript\">\n",
       "                require([\"plotly\"], function(Plotly) {\n",
       "                    window.PLOTLYENV=window.PLOTLYENV || {};\n",
       "                    window.PLOTLYENV.BASE_URL='https://plot.ly';\n",
       "                    \n",
       "                if (document.getElementById(\"f5d05402-0958-48c7-a4f9-80b824915823\")) {\n",
       "                    Plotly.newPlot(\n",
       "                        'f5d05402-0958-48c7-a4f9-80b824915823',\n",
       "                        [{\"hoverlabel\": {\"namelength\": 0}, \"hovertemplate\": \"<b>%{hovertext}</b><br><br>label=D<br>lat=%{lat}<br>lng=%{lon}\", \"hovertext\": [[\"Obelisco Warehouse Tasting Room\", 5.0], [\"Patterson Cellars Tasting Room Warehouse District\", 4.6], [\"Genoa Cellars Tasting Room - WE MOVED from our Hollywood Hill Location\", 4.6], [\"Rocky Pond Winery Woodinville Tasting Room\", 4.7], [\"Eye of the Needle Winery\", 4.7], [\"Smasne Cellars\", 4.9], [\"Gorman Winery's Old Scratch Cellars Tasting Room\", 3.8], [\"Kestrel Vintners\", 4.7], [\"Genoa Cellars Tasting Room - Woodinville Warehouse District\", 5.0]], \"lat\": [47.7687505, 47.7694705, 47.769324, 47.7693244, 47.7691519, 47.7687063, 47.769478, 47.769164, 47.7692], \"legendgroup\": \"label=D\", \"lon\": [-122.1507697, -122.1512673, -122.150587, -122.150587, -122.1509605, -122.1508681, -122.150242, -122.150307, -122.1504484], \"marker\": {\"color\": \"#636efa\"}, \"mode\": \"markers\", \"name\": \"label=D\", \"showlegend\": true, \"type\": \"scattermapbox\", \"uid\": \"1ddd44b2-4e98-472d-8b4e-69dac7cd810a\"}],\n",
       "                        {\"height\": 600, \"legend\": {\"tracegroupgap\": 0}, \"mapbox\": {\"accesstoken\": \"pk.eyJ1IjoidXB3YXJkdHJhamVjdG9yeSIsImEiOiJjanhtaHFxNjUwMGs0M2Nwd2U3dnd1MG50In0.Sr1UPnw0POudUmyXif59pA\", \"center\": {\"lat\": 47.769174400000004, \"lon\": -122.15067077777778}, \"zoom\": 17}, \"margin\": {\"t\": 60}, \"template\": {\"data\": {\"bar\": [{\"marker\": {\"line\": {\"color\": \"#E5ECF6\", \"width\": 0.5}}, \"type\": \"bar\"}], \"barpolar\": [{\"marker\": {\"line\": {\"color\": \"#E5ECF6\", \"width\": 0.5}}, \"type\": \"barpolar\"}], \"carpet\": [{\"aaxis\": {\"endlinecolor\": \"#2a3f5f\", \"gridcolor\": \"white\", \"linecolor\": \"white\", \"minorgridcolor\": \"white\", \"startlinecolor\": \"#2a3f5f\"}, \"baxis\": {\"endlinecolor\": \"#2a3f5f\", \"gridcolor\": \"white\", \"linecolor\": \"white\", \"minorgridcolor\": \"white\", \"startlinecolor\": \"#2a3f5f\"}, \"type\": \"carpet\"}], \"choropleth\": [{\"colorbar\": {\"outlinewidth\": 0, \"ticks\": \"\"}, \"type\": \"choropleth\"}], \"contour\": [{\"autocolorscale\": true, \"colorbar\": {\"outlinewidth\": 0, \"ticks\": \"\"}, \"type\": \"contour\"}], \"contourcarpet\": [{\"colorbar\": {\"outlinewidth\": 0, \"ticks\": \"\"}, \"type\": \"contourcarpet\"}], \"heatmap\": [{\"autocolorscale\": true, \"colorbar\": {\"outlinewidth\": 0, \"ticks\": \"\"}, \"type\": \"heatmap\"}], \"heatmapgl\": [{\"colorbar\": {\"outlinewidth\": 0, \"ticks\": \"\"}, \"type\": \"heatmapgl\"}], \"histogram\": [{\"marker\": {\"colorbar\": {\"outlinewidth\": 0, \"ticks\": \"\"}}, \"type\": \"histogram\"}], \"histogram2d\": [{\"autocolorscale\": true, \"colorbar\": {\"outlinewidth\": 0, \"ticks\": \"\"}, \"type\": \"histogram2d\"}], \"histogram2dcontour\": [{\"autocolorscale\": true, \"colorbar\": {\"outlinewidth\": 0, \"ticks\": \"\"}, \"type\": \"histogram2dcontour\"}], \"mesh3d\": [{\"colorbar\": {\"outlinewidth\": 0, \"ticks\": \"\"}, \"type\": \"mesh3d\"}], \"parcoords\": [{\"line\": {\"colorbar\": {\"outlinewidth\": 0, \"ticks\": \"\"}}, \"type\": \"parcoords\"}], \"scatter\": [{\"marker\": {\"colorbar\": {\"outlinewidth\": 0, \"ticks\": \"\"}}, \"type\": \"scatter\"}], \"scatter3d\": [{\"marker\": {\"colorbar\": {\"outlinewidth\": 0, \"ticks\": \"\"}}, \"type\": \"scatter3d\"}], \"scattercarpet\": [{\"marker\": {\"colorbar\": {\"outlinewidth\": 0, \"ticks\": \"\"}}, \"type\": \"scattercarpet\"}], \"scattergeo\": [{\"marker\": {\"colorbar\": {\"outlinewidth\": 0, \"ticks\": \"\"}}, \"type\": \"scattergeo\"}], \"scattergl\": [{\"marker\": {\"colorbar\": {\"outlinewidth\": 0, \"ticks\": \"\"}}, \"type\": \"scattergl\"}], \"scattermapbox\": [{\"marker\": {\"colorbar\": {\"outlinewidth\": 0, \"ticks\": \"\"}}, \"type\": \"scattermapbox\"}], \"scatterpolar\": [{\"marker\": {\"colorbar\": {\"outlinewidth\": 0, \"ticks\": \"\"}}, \"type\": \"scatterpolar\"}], \"scatterpolargl\": [{\"marker\": {\"colorbar\": {\"outlinewidth\": 0, \"ticks\": \"\"}}, \"type\": \"scatterpolargl\"}], \"scatterternary\": [{\"marker\": {\"colorbar\": {\"outlinewidth\": 0, \"ticks\": \"\"}}, \"type\": \"scatterternary\"}], \"surface\": [{\"colorbar\": {\"outlinewidth\": 0, \"ticks\": \"\"}, \"type\": \"surface\"}], \"table\": [{\"cells\": {\"fill\": {\"color\": \"#EBF0F8\"}, \"line\": {\"color\": \"white\"}}, \"header\": {\"fill\": {\"color\": \"#C8D4E3\"}, \"line\": {\"color\": \"white\"}}, \"type\": \"table\"}]}, \"layout\": {\"annotationdefaults\": {\"arrowcolor\": \"#506784\", \"arrowhead\": 0, \"arrowwidth\": 1}, \"colorscale\": {\"diverging\": [[0, \"#8e0152\"], [0.1, \"#c51b7d\"], [0.2, \"#de77ae\"], [0.3, \"#f1b6da\"], [0.4, \"#fde0ef\"], [0.5, \"#f7f7f7\"], [0.6, \"#e6f5d0\"], [0.7, \"#b8e186\"], [0.8, \"#7fbc41\"], [0.9, \"#4d9221\"], [1, \"#276419\"]], \"sequential\": [[0.0, \"#0508b8\"], [0.0893854748603352, \"#1910d8\"], [0.1787709497206704, \"#3c19f0\"], [0.2681564245810056, \"#6b1cfb\"], [0.3575418994413408, \"#981cfd\"], [0.44692737430167595, \"#bf1cfd\"], [0.5363128491620112, \"#dd2bfd\"], [0.6256983240223464, \"#f246fe\"], [0.7150837988826816, \"#fc67fd\"], [0.8044692737430168, \"#fe88fc\"], [0.8938547486033519, \"#fea5fd\"], [0.9832402234636871, \"#febefe\"], [1.0, \"#fec3fe\"]], \"sequentialminus\": [[0.0, \"#0508b8\"], [0.0893854748603352, \"#1910d8\"], [0.1787709497206704, \"#3c19f0\"], [0.2681564245810056, \"#6b1cfb\"], [0.3575418994413408, \"#981cfd\"], [0.44692737430167595, \"#bf1cfd\"], [0.5363128491620112, \"#dd2bfd\"], [0.6256983240223464, \"#f246fe\"], [0.7150837988826816, \"#fc67fd\"], [0.8044692737430168, \"#fe88fc\"], [0.8938547486033519, \"#fea5fd\"], [0.9832402234636871, \"#febefe\"], [1.0, \"#fec3fe\"]]}, \"colorway\": [\"#636efa\", \"#EF553B\", \"#00cc96\", \"#ab63fa\", \"#19d3f3\", \"#e763fa\", \"#FECB52\", \"#FFA15A\", \"#FF6692\", \"#B6E880\"], \"font\": {\"color\": \"#2a3f5f\"}, \"geo\": {\"bgcolor\": \"white\", \"lakecolor\": \"white\", \"landcolor\": \"#E5ECF6\", \"showlakes\": true, \"showland\": true, \"subunitcolor\": \"white\"}, \"hoverlabel\": {\"align\": \"left\"}, \"hovermode\": \"closest\", \"mapbox\": {\"style\": \"light\"}, \"paper_bgcolor\": \"white\", \"plot_bgcolor\": \"#E5ECF6\", \"polar\": {\"angularaxis\": {\"gridcolor\": \"white\", \"linecolor\": \"white\", \"ticks\": \"\"}, \"bgcolor\": \"#E5ECF6\", \"radialaxis\": {\"gridcolor\": \"white\", \"linecolor\": \"white\", \"ticks\": \"\"}}, \"scene\": {\"xaxis\": {\"backgroundcolor\": \"#E5ECF6\", \"gridcolor\": \"white\", \"gridwidth\": 2, \"linecolor\": \"white\", \"showbackground\": true, \"ticks\": \"\", \"zerolinecolor\": \"white\"}, \"yaxis\": {\"backgroundcolor\": \"#E5ECF6\", \"gridcolor\": \"white\", \"gridwidth\": 2, \"linecolor\": \"white\", \"showbackground\": true, \"ticks\": \"\", \"zerolinecolor\": \"white\"}, \"zaxis\": {\"backgroundcolor\": \"#E5ECF6\", \"gridcolor\": \"white\", \"gridwidth\": 2, \"linecolor\": \"white\", \"showbackground\": true, \"ticks\": \"\", \"zerolinecolor\": \"white\"}}, \"shapedefaults\": {\"fillcolor\": \"#506784\", \"line\": {\"width\": 0}, \"opacity\": 0.4}, \"ternary\": {\"aaxis\": {\"gridcolor\": \"white\", \"linecolor\": \"white\", \"ticks\": \"\"}, \"baxis\": {\"gridcolor\": \"white\", \"linecolor\": \"white\", \"ticks\": \"\"}, \"bgcolor\": \"#E5ECF6\", \"caxis\": {\"gridcolor\": \"white\", \"linecolor\": \"white\", \"ticks\": \"\"}}, \"title\": {\"x\": 0.05}, \"xaxis\": {\"automargin\": true, \"gridcolor\": \"white\", \"linecolor\": \"white\", \"ticks\": \"\", \"zerolinecolor\": \"white\", \"zerolinewidth\": 2}, \"yaxis\": {\"automargin\": true, \"gridcolor\": \"white\", \"linecolor\": \"white\", \"ticks\": \"\", \"zerolinecolor\": \"white\", \"zerolinewidth\": 2}}}, \"width\": 600},\n",
       "                        {\"showLink\": false, \"linkText\": \"Export to plot.ly\", \"plotlyServerURL\": \"https://plot.ly\", \"responsive\": true}\n",
       "                    ).then(function(){\n",
       "                            \n",
       "var gd = document.getElementById('f5d05402-0958-48c7-a4f9-80b824915823');\n",
       "var x = new MutationObserver(function (mutations, observer) {{\n",
       "        var display = window.getComputedStyle(gd).display;\n",
       "        if (!display || display === 'none') {{\n",
       "            console.log([gd, 'removed!']);\n",
       "            Plotly.purge(gd);\n",
       "            observer.disconnect();\n",
       "        }}\n",
       "}});\n",
       "\n",
       "// Listen for the removal of the full notebook cells\n",
       "var notebookContainer = gd.closest('#notebook-container');\n",
       "if (notebookContainer) {{\n",
       "    x.observe(notebookContainer, {childList: true});\n",
       "}}\n",
       "\n",
       "// Listen for the clearing of the current output cell\n",
       "var outputEl = gd.closest('.output');\n",
       "if (outputEl) {{\n",
       "    x.observe(outputEl, {childList: true});\n",
       "}}\n",
       "\n",
       "                        })\n",
       "                };\n",
       "                });\n",
       "            </script>\n",
       "        </div>"
      ]
     },
     "metadata": {},
     "output_type": "display_data"
    }
   ],
   "source": [
    "df = gp.build_df(loc, topic)\n",
    "best_cluster = gp.choose_cluster(df, loc, verbose=True)\n",
    "gp.mapbox(best_cluster)"
   ]
  },
  {
   "cell_type": "code",
   "execution_count": 11,
   "metadata": {},
   "outputs": [
    {
     "name": "stdout",
     "output_type": "stream",
     "text": [
      "+719 m --and-- +9.97 min\n",
      "+230 m --and-- +3.15 min\n",
      "+107 m --and-- +1.57 min\n",
      "+276 m --and-- +4.22 min\n",
      "+133 m --and-- +2.12 min\n",
      "+82 m --and-- +1.18 min\n",
      "+268 m --and-- +3.13 min\n",
      "+318 m --and-- +3.77 min\n",
      "+62 m --and-- +0.88 min\n",
      "total dist: 2195 m \n",
      "est time: 30.0 min\n"
     ]
    }
   ],
   "source": [
    "wlk = gp.meander(best_cluster, loc, mode='walking', verbose=True)\n",
    "gp.html_builder(loc, wlk, tab=True)"
   ]
  },
  {
   "cell_type": "markdown",
   "metadata": {},
   "source": [
    ".  \n",
    "---------TESTING---------TESTING---------TESTING---------TESTING---------TESTING---------  \n",
    ".  "
   ]
  },
  {
   "cell_type": "code",
   "execution_count": null,
   "metadata": {},
   "outputs": [],
   "source": []
  }
 ],
 "metadata": {
  "kernelspec": {
   "display_name": "learn-env",
   "language": "python",
   "name": "learn-env"
  },
  "language_info": {
   "codemirror_mode": {
    "name": "ipython",
    "version": 3
   },
   "file_extension": ".py",
   "mimetype": "text/x-python",
   "name": "python",
   "nbconvert_exporter": "python",
   "pygments_lexer": "ipython3",
   "version": "3.7.3"
  }
 },
 "nbformat": 4,
 "nbformat_minor": 2
}
